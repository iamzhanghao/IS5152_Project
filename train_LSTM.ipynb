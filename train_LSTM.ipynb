{
 "cells": [
  {
   "cell_type": "code",
   "execution_count": 24,
   "metadata": {
    "collapsed": true,
    "pycharm": {
     "is_executing": false
    }
   },
   "outputs": [
    {
     "name": "stdout",
     "text": [
      "Loaded  data\\PRSA_Data_Aotizhongxin_20130301-20170228.csv\n",
      "Loaded  data\\PRSA_Data_Changping_20130301-20170228.csv\n",
      "Loaded  data\\PRSA_Data_Dingling_20130301-20170228.csv\n",
      "Loaded  data\\PRSA_Data_Dongsi_20130301-20170228.csv\n",
      "Loaded  data\\PRSA_Data_Guanyuan_20130301-20170228.csv\n",
      "Loaded  data\\PRSA_Data_Gucheng_20130301-20170228.csv\n",
      "Loaded  data\\PRSA_Data_Huairou_20130301-20170228.csv\n",
      "Loaded  data\\PRSA_Data_Nongzhanguan_20130301-20170228.csv\n",
      "Loaded  data\\PRSA_Data_Shunyi_20130301-20170228.csv\n",
      "Loaded  data\\PRSA_Data_Tiantan_20130301-20170228.csv\n",
      "Loaded  data\\PRSA_Data_Wanliu_20130301-20170228.csv\n",
      "Loaded  data\\PRSA_Data_Wanshouxigong_20130301-20170228.csv\n",
      "Applied normalization on  ['PM10', 'SO2', 'NO2', 'CO', 'O3', 'TEMP', 'PRES', 'DEWP', 'RAIN', 'WSPM']\n",
      "Applied normalization on  ['PM10', 'SO2', 'NO2', 'CO', 'O3', 'TEMP', 'PRES', 'DEWP', 'RAIN', 'WSPM']\n"
     ],
     "output_type": "stream"
    },
    {
     "data": {
      "text/plain": "   PM2.5      PM10       SO2       NO2        CO        O3      TEMP  \\\n0    4.0  0.002006  0.007433  0.020671  0.020202  0.071710  0.312195   \n1    8.0  0.006018  0.007433  0.020671  0.020202  0.071710  0.305691   \n2    7.0  0.005015  0.009434  0.031053  0.020202  0.067974  0.305691   \n3    6.0  0.004012  0.021441  0.034514  0.020202  0.067040  0.300813   \n4    3.0  0.001003  0.023442  0.037974  0.020202  0.067040  0.291057   \n5    5.0  0.003009  0.035449  0.058737  0.030303  0.061437  0.287805   \n6    3.0  0.001003  0.035449  0.107185  0.040404  0.046495  0.281301   \n7    3.0  0.004012  0.037450  0.138329  0.040404  0.039957  0.297561   \n8    3.0  0.004012  0.031447  0.145250  0.040404  0.041825  0.325203   \n9    3.0  0.006018  0.023442  0.093342  0.030303  0.054900  0.343089   \n\n       PRES      DEWP  RAIN  ...  WD_NNW  WD_NW  WD_S  WD_SE  WD_SSE  WD_SSW  \\\n0  0.672185  0.339310   0.0  ...       1      0     0      0       0       0   \n1  0.675497  0.347586   0.0  ...       0      0     0      0       0       0   \n2  0.680464  0.347586   0.0  ...       1      0     0      0       0       0   \n3  0.697020  0.331034   0.0  ...       0      1     0      0       0       0   \n4  0.708609  0.329655   0.0  ...       0      0     0      0       0       0   \n5  0.715232  0.328276   0.0  ...       0      0     0      0       0       0   \n6  0.730132  0.335172   0.0  ...       0      0     0      0       0       0   \n7  0.745033  0.335172   0.0  ...       1      0     0      0       0       0   \n8  0.759934  0.333793   0.0  ...       1      0     0      0       0       0   \n9  0.763245  0.332414   0.0  ...       0      0     0      0       0       0   \n\n   WD_SW  WD_W  WD_WNW  WD_WSW  \n0      0     0       0       0  \n1      0     0       0       0  \n2      0     0       0       0  \n3      0     0       0       0  \n4      0     0       0       0  \n5      0     0       0       0  \n6      0     0       0       0  \n7      0     0       0       0  \n8      0     0       0       0  \n9      0     0       0       0  \n\n[10 rows x 27 columns]",
      "text/html": "<div>\n<style scoped>\n    .dataframe tbody tr th:only-of-type {\n        vertical-align: middle;\n    }\n\n    .dataframe tbody tr th {\n        vertical-align: top;\n    }\n\n    .dataframe thead th {\n        text-align: right;\n    }\n</style>\n<table border=\"1\" class=\"dataframe\">\n  <thead>\n    <tr style=\"text-align: right;\">\n      <th></th>\n      <th>PM2.5</th>\n      <th>PM10</th>\n      <th>SO2</th>\n      <th>NO2</th>\n      <th>CO</th>\n      <th>O3</th>\n      <th>TEMP</th>\n      <th>PRES</th>\n      <th>DEWP</th>\n      <th>RAIN</th>\n      <th>...</th>\n      <th>WD_NNW</th>\n      <th>WD_NW</th>\n      <th>WD_S</th>\n      <th>WD_SE</th>\n      <th>WD_SSE</th>\n      <th>WD_SSW</th>\n      <th>WD_SW</th>\n      <th>WD_W</th>\n      <th>WD_WNW</th>\n      <th>WD_WSW</th>\n    </tr>\n  </thead>\n  <tbody>\n    <tr>\n      <td>0</td>\n      <td>4.0</td>\n      <td>0.002006</td>\n      <td>0.007433</td>\n      <td>0.020671</td>\n      <td>0.020202</td>\n      <td>0.071710</td>\n      <td>0.312195</td>\n      <td>0.672185</td>\n      <td>0.339310</td>\n      <td>0.0</td>\n      <td>...</td>\n      <td>1</td>\n      <td>0</td>\n      <td>0</td>\n      <td>0</td>\n      <td>0</td>\n      <td>0</td>\n      <td>0</td>\n      <td>0</td>\n      <td>0</td>\n      <td>0</td>\n    </tr>\n    <tr>\n      <td>1</td>\n      <td>8.0</td>\n      <td>0.006018</td>\n      <td>0.007433</td>\n      <td>0.020671</td>\n      <td>0.020202</td>\n      <td>0.071710</td>\n      <td>0.305691</td>\n      <td>0.675497</td>\n      <td>0.347586</td>\n      <td>0.0</td>\n      <td>...</td>\n      <td>0</td>\n      <td>0</td>\n      <td>0</td>\n      <td>0</td>\n      <td>0</td>\n      <td>0</td>\n      <td>0</td>\n      <td>0</td>\n      <td>0</td>\n      <td>0</td>\n    </tr>\n    <tr>\n      <td>2</td>\n      <td>7.0</td>\n      <td>0.005015</td>\n      <td>0.009434</td>\n      <td>0.031053</td>\n      <td>0.020202</td>\n      <td>0.067974</td>\n      <td>0.305691</td>\n      <td>0.680464</td>\n      <td>0.347586</td>\n      <td>0.0</td>\n      <td>...</td>\n      <td>1</td>\n      <td>0</td>\n      <td>0</td>\n      <td>0</td>\n      <td>0</td>\n      <td>0</td>\n      <td>0</td>\n      <td>0</td>\n      <td>0</td>\n      <td>0</td>\n    </tr>\n    <tr>\n      <td>3</td>\n      <td>6.0</td>\n      <td>0.004012</td>\n      <td>0.021441</td>\n      <td>0.034514</td>\n      <td>0.020202</td>\n      <td>0.067040</td>\n      <td>0.300813</td>\n      <td>0.697020</td>\n      <td>0.331034</td>\n      <td>0.0</td>\n      <td>...</td>\n      <td>0</td>\n      <td>1</td>\n      <td>0</td>\n      <td>0</td>\n      <td>0</td>\n      <td>0</td>\n      <td>0</td>\n      <td>0</td>\n      <td>0</td>\n      <td>0</td>\n    </tr>\n    <tr>\n      <td>4</td>\n      <td>3.0</td>\n      <td>0.001003</td>\n      <td>0.023442</td>\n      <td>0.037974</td>\n      <td>0.020202</td>\n      <td>0.067040</td>\n      <td>0.291057</td>\n      <td>0.708609</td>\n      <td>0.329655</td>\n      <td>0.0</td>\n      <td>...</td>\n      <td>0</td>\n      <td>0</td>\n      <td>0</td>\n      <td>0</td>\n      <td>0</td>\n      <td>0</td>\n      <td>0</td>\n      <td>0</td>\n      <td>0</td>\n      <td>0</td>\n    </tr>\n    <tr>\n      <td>5</td>\n      <td>5.0</td>\n      <td>0.003009</td>\n      <td>0.035449</td>\n      <td>0.058737</td>\n      <td>0.030303</td>\n      <td>0.061437</td>\n      <td>0.287805</td>\n      <td>0.715232</td>\n      <td>0.328276</td>\n      <td>0.0</td>\n      <td>...</td>\n      <td>0</td>\n      <td>0</td>\n      <td>0</td>\n      <td>0</td>\n      <td>0</td>\n      <td>0</td>\n      <td>0</td>\n      <td>0</td>\n      <td>0</td>\n      <td>0</td>\n    </tr>\n    <tr>\n      <td>6</td>\n      <td>3.0</td>\n      <td>0.001003</td>\n      <td>0.035449</td>\n      <td>0.107185</td>\n      <td>0.040404</td>\n      <td>0.046495</td>\n      <td>0.281301</td>\n      <td>0.730132</td>\n      <td>0.335172</td>\n      <td>0.0</td>\n      <td>...</td>\n      <td>0</td>\n      <td>0</td>\n      <td>0</td>\n      <td>0</td>\n      <td>0</td>\n      <td>0</td>\n      <td>0</td>\n      <td>0</td>\n      <td>0</td>\n      <td>0</td>\n    </tr>\n    <tr>\n      <td>7</td>\n      <td>3.0</td>\n      <td>0.004012</td>\n      <td>0.037450</td>\n      <td>0.138329</td>\n      <td>0.040404</td>\n      <td>0.039957</td>\n      <td>0.297561</td>\n      <td>0.745033</td>\n      <td>0.335172</td>\n      <td>0.0</td>\n      <td>...</td>\n      <td>1</td>\n      <td>0</td>\n      <td>0</td>\n      <td>0</td>\n      <td>0</td>\n      <td>0</td>\n      <td>0</td>\n      <td>0</td>\n      <td>0</td>\n      <td>0</td>\n    </tr>\n    <tr>\n      <td>8</td>\n      <td>3.0</td>\n      <td>0.004012</td>\n      <td>0.031447</td>\n      <td>0.145250</td>\n      <td>0.040404</td>\n      <td>0.041825</td>\n      <td>0.325203</td>\n      <td>0.759934</td>\n      <td>0.333793</td>\n      <td>0.0</td>\n      <td>...</td>\n      <td>1</td>\n      <td>0</td>\n      <td>0</td>\n      <td>0</td>\n      <td>0</td>\n      <td>0</td>\n      <td>0</td>\n      <td>0</td>\n      <td>0</td>\n      <td>0</td>\n    </tr>\n    <tr>\n      <td>9</td>\n      <td>3.0</td>\n      <td>0.006018</td>\n      <td>0.023442</td>\n      <td>0.093342</td>\n      <td>0.030303</td>\n      <td>0.054900</td>\n      <td>0.343089</td>\n      <td>0.763245</td>\n      <td>0.332414</td>\n      <td>0.0</td>\n      <td>...</td>\n      <td>0</td>\n      <td>0</td>\n      <td>0</td>\n      <td>0</td>\n      <td>0</td>\n      <td>0</td>\n      <td>0</td>\n      <td>0</td>\n      <td>0</td>\n      <td>0</td>\n    </tr>\n  </tbody>\n</table>\n<p>10 rows × 27 columns</p>\n</div>"
     },
     "metadata": {},
     "output_type": "execute_result",
     "execution_count": 24
    }
   ],
   "source": [
    "from utils import read_data\n",
    "\n",
    "data = read_data(keep_nan=True,keep_dates=False)\n",
    "df_all = data.train_val_df\n",
    "df_test = data.test_df\n",
    "df_all = df_all.drop(columns=[\"station\",\"time_stamp\"])\n",
    "df_test = df_test.drop(columns=[\"station\",\"time_stamp\"])\n",
    "df_all.columns\n",
    "df_all.head(10)"
   ]
  },
  {
   "cell_type": "code",
   "execution_count": 25,
   "outputs": [
    {
     "name": "stdout",
     "text": [
      "(2966, 48, 27)\n"
     ],
     "output_type": "stream"
    }
   ],
   "source": [
    "import numpy as np\n",
    "data = df_all.values.reshape(12,-1,27)[:,:29760,:]\n",
    "data = data.reshape(-1 ,48,27)\n",
    "data = data[~np.isnan(data).any(axis=(1,2))]\n",
    "print(data.shape)"
   ],
   "metadata": {
    "collapsed": false,
    "pycharm": {
     "name": "#%%\n",
     "is_executing": false
    }
   }
  },
  {
   "cell_type": "code",
   "execution_count": 26,
   "outputs": [],
   "source": [
    "import torch\n",
    "import torch.nn as nn\n",
    "import torch.nn.functional as F\n",
    "import torch.optim as optim\n",
    "import torch.utils.data as tud\n",
    "\n",
    "class TimeSeriesDataset(tud.Dataset):\n",
    "    def __init__(self, data):\n",
    "        self.y = data[:,24:,0]\n",
    "        self.x = data[:,:,1:]\n",
    "    \n",
    "    def __len__(self):\n",
    "        return self.x.shape[0]\n",
    "    \n",
    "    def __getitem__(self, idx):\n",
    "        return self.y[idx], self.x[idx]"
   ],
   "metadata": {
    "collapsed": false,
    "pycharm": {
     "name": "#%%\n",
     "is_executing": false
    }
   }
  },
  {
   "cell_type": "code",
   "execution_count": 27,
   "outputs": [],
   "source": [
    "class LSTM_Model(nn.Module):\n",
    "    def __init__(self):\n",
    "        super(LSTM_Model, self).__init__()\n",
    "        self.LSTM = nn.LSTM(26, 16, batch_first=True)\n",
    "        self.fc1 = nn.Linear(16, 5)\n",
    "        self.fc2 = nn.Linear(5 ,1)\n",
    "        \n",
    "    def forward(self, x):\n",
    "        x, (h_n, h_c) = self.LSTM(x)\n",
    "        x = x[:,24:,:]\n",
    "        x = self.fc1(x)\n",
    "        x = F.relu(x)\n",
    "        x = F.dropout(x, p = 0.1, training = self.training)\n",
    "        x = self.fc2(x)\n",
    "        return x"
   ],
   "metadata": {
    "collapsed": false,
    "pycharm": {
     "name": "#%%\n",
     "is_executing": false
    }
   }
  },
  {
   "cell_type": "code",
   "execution_count": 28,
   "outputs": [],
   "source": [
    "device = \"cuda\" if torch.cuda.is_available() else \"cpu\"\n",
    "learning_rate = 1e-3\n",
    "batch_size = 30\n",
    "epochs = 80\n",
    "test_interval = 5\n",
    "log_interval = 50\n",
    "\n",
    "model = LSTM_Model().to(device).double()\n",
    "optimizer = optim.Adam(model.parameters(), lr=learning_rate)\n",
    "dataset = TimeSeriesDataset(data)\n",
    "train_set, validation_set = torch.utils.data.random_split(dataset, [len(dataset) - 590, 590])\n",
    "train_dataloader = tud.DataLoader(train_set, batch_size=batch_size, shuffle=True)\n",
    "validation_dataloader = tud.DataLoader(validation_set, batch_size=batch_size)"
   ],
   "metadata": {
    "collapsed": false,
    "pycharm": {
     "name": "#%%\n",
     "is_executing": false
    }
   }
  },
  {
   "cell_type": "code",
   "execution_count": 29,
   "outputs": [],
   "source": [
    "def train(model, device, train_loader, optimizer, epoch, log_interval):\n",
    "    model.train()\n",
    "    \n",
    "    losses = []\n",
    "    for batch_idx, (y ,x) in enumerate(train_loader):\n",
    "        y = y.to(device)\n",
    "        x = x.to(device)\n",
    "        \n",
    "        optimizer.zero_grad()\n",
    "        output = model(x)\n",
    "        \n",
    "        loss = F.mse_loss(output, y.view(-1,24,1))\n",
    "        losses.append(loss.item())\n",
    "        \n",
    "        loss.backward()\n",
    "        optimizer.step()\n",
    "        \n",
    "        if (batch_idx + 1) % log_interval == 0:\n",
    "            print('Train Epoch: {} [{}/{} ({:.0f}%)]\\tLoss: {:.6f}'.format(\n",
    "                epoch + 1, (batch_idx + 1) * batch_size, len(train_loader.dataset),\n",
    "                100. * (batch_idx + 1) / len(train_loader), loss.item()))\n",
    "    return losses"
   ],
   "metadata": {
    "collapsed": false,
    "pycharm": {
     "name": "#%%\n",
     "is_executing": false
    }
   }
  },
  {
   "cell_type": "code",
   "execution_count": 30,
   "outputs": [],
   "source": [
    "class RMSELoss(nn.Module):\n",
    "    def __init__(self):\n",
    "        super().__init__()\n",
    "        self.mse = nn.MSELoss()\n",
    "        \n",
    "    def forward(self,yhat,y):\n",
    "        return torch.sqrt(self.mse(yhat,y))\n",
    "\n",
    "def test(model, device, test_loader):\n",
    "    model.eval()\n",
    "    mse_losses = []\n",
    "    mae_losses = []\n",
    "    rmse_losses = []\n",
    "    accuracy10 = []\n",
    "    accuracy20 = []\n",
    "    accuracy50 = []\n",
    "    accuracy100 = []\n",
    "    for batch_idx, (y ,x) in enumerate(test_loader):\n",
    "        y = y.to(device).view(-1,24,1)\n",
    "        x = x.to(device)\n",
    "        \n",
    "        with torch.no_grad():\n",
    "            output = model(x)\n",
    "            \n",
    "            mse_loss = F.mse_loss(output, y)\n",
    "            mse_losses.append(mse_loss.item())\n",
    "            mae_loss =F.l1_loss(output, y)\n",
    "            mae_losses.append(mae_loss)\n",
    "            criterion = RMSELoss()\n",
    "            rmse_loss = criterion(output, y)\n",
    "            rmse_losses.append(rmse_loss)\n",
    "            \n",
    "            diff = output - y\n",
    "            accuracy10.append(len(diff[abs(diff)<=10]))\n",
    "            accuracy20.append(len(diff[abs(diff)<=20]))\n",
    "            accuracy50.append(len(diff[abs(diff)<=50]))\n",
    "            accuracy100.append(len(diff[abs(diff)<=100]))\n",
    "    data_size = len(test_loader.dataset) * 24.\n",
    "    print(float(sum(mse_losses))/len(mse_losses), float(sum(rmse_losses))/len(rmse_losses),\n",
    "          float(sum(mae_losses))/len(mae_losses))\n",
    "    \n",
    "    print (float(sum(accuracy10))/data_size, float(sum(accuracy20))/data_size,\n",
    "          float(sum(accuracy50))/data_size, float(sum(accuracy100))/data_size)\n",
    "    \n",
    "    return float(sum(mse_losses))/len(mse_losses), float(sum(rmse_losses))/len(rmse_losses),\\\n",
    "           float(sum(mae_losses))/len(mae_losses),\\\n",
    "           float(sum(accuracy10))/data_size, float(sum(accuracy20))/data_size,\\\n",
    "           float(sum(accuracy50))/data_size, float(sum(accuracy100))/data_size"
   ],
   "metadata": {
    "collapsed": false,
    "pycharm": {
     "name": "#%%\n",
     "is_executing": false
    }
   }
  },
  {
   "cell_type": "code",
   "execution_count": 31,
   "outputs": [
    {
     "name": "stdout",
     "text": [
      "Train Epoch: 1 [1500/2376 (62%)]\tLoss: 18836.954796\n",
      "11260.352500188435 105.22593842037013 77.22013621494811\n",
      "0.11483050847457626 0.23036723163841807 0.4612994350282486 0.7213276836158192\n",
      "Train Epoch: 2 [1500/2376 (62%)]\tLoss: 12542.759675\n",
      "10645.972173011507 102.26808024232048 73.26891193998088\n",
      "0.1687853107344633 0.2627118644067797 0.48968926553672315 0.7351694915254238\n",
      "Train Epoch: 3 [1500/2376 (62%)]\tLoss: 9152.062653\n",
      "9912.941243339243 98.6256621673407 68.8116598074616\n",
      "0.23036723163841807 0.30995762711864405 0.5254943502824859 0.7561440677966101\n",
      "Train Epoch: 4 [1500/2376 (62%)]\tLoss: 8269.818961\n",
      "9107.212455153687 94.46518497245759 64.47372252002998\n",
      "0.22259887005649717 0.35755649717514126 0.5610169491525424 0.7751412429378531\n",
      "Train Epoch: 5 [1500/2376 (62%)]\tLoss: 8725.713502\n",
      "8281.678810936914 90.01226277639819 60.53160423271653\n",
      "0.17641242937853108 0.3873587570621469 0.6018361581920904 0.7937146892655367\n",
      "Train Epoch: 6 [1500/2376 (62%)]\tLoss: 7198.105527\n",
      "7502.692153671944 85.61300759921424 57.200443969503205\n",
      "0.15720338983050847 0.33848870056497177 0.639406779661017 0.8142655367231638\n",
      "Train Epoch: 7 [1500/2376 (62%)]\tLoss: 8340.046510\n",
      "6823.46368780347 81.60517100426358 54.745155826370535\n",
      "0.15360169491525424 0.3038135593220339 0.6713276836158192 0.8290960451977402\n",
      "Train Epoch: 8 [1500/2376 (62%)]\tLoss: 5928.896033\n",
      "6284.655136355052 78.3067714451342 53.29055254549335\n",
      "0.1440677966101695 0.28269774011299437 0.7057203389830509 0.8461864406779661\n",
      "Train Epoch: 9 [1500/2376 (62%)]\tLoss: 3819.847044\n",
      "5881.78377311243 75.77673978597127 52.676712663227434\n",
      "0.13305084745762713 0.26744350282485874 0.7082627118644068 0.8584745762711864\n",
      "Train Epoch: 10 [1500/2376 (62%)]\tLoss: 4809.037429\n",
      "5622.3591916443365 74.1295284053363 52.716780371058135\n",
      "0.12351694915254237 0.24484463276836158 0.6413135593220339 0.8711158192090396\n",
      "Train Epoch: 11 [1500/2376 (62%)]\tLoss: 4261.982738\n",
      "5466.100994978811 73.142693471804 53.08765610710863\n",
      "0.11560734463276837 0.2327683615819209 0.5920197740112995 0.878954802259887\n",
      "Train Epoch: 12 [1500/2376 (62%)]\tLoss: 6336.894727\n",
      "5370.481149374757 72.53920016041084 53.38910663425844\n",
      "0.11031073446327684 0.225 0.5713983050847458 0.8834745762711864\n",
      "Train Epoch: 13 [1500/2376 (62%)]\tLoss: 6092.393795\n",
      "4581.659626656832 66.79481021862838 44.60355168126894\n",
      "0.1856638418079096 0.35847457627118645 0.7384180790960452 0.8901129943502825\n",
      "Train Epoch: 14 [1500/2376 (62%)]\tLoss: 3354.278623\n",
      "4047.0685315757028 62.72706593428627 39.98696930936253\n",
      "0.2623587570621469 0.44201977401129944 0.7660310734463277 0.9001412429378531\n",
      "Train Epoch: 15 [1500/2376 (62%)]\tLoss: 4144.167134\n",
      "3603.818658131245 59.17400063524455 37.54595034154962\n",
      "0.2706920903954802 0.4612994350282486 0.7832627118644068 0.9111581920903955\n",
      "Train Epoch: 16 [1500/2376 (62%)]\tLoss: 2726.635366\n",
      "3186.922935136804 55.598702736634934 33.68185535543246\n",
      "0.34442090395480224 0.5448446327683616 0.8032485875706215 0.919774011299435\n",
      "Train Epoch: 17 [1500/2376 (62%)]\tLoss: 3508.549819\n",
      "2813.160977702236 52.20476315709686 31.66317018520969\n",
      "0.34689265536723163 0.5516949152542373 0.8223870056497176 0.9319915254237288\n",
      "Train Epoch: 18 [1500/2376 (62%)]\tLoss: 3073.654432\n",
      "2539.2726486772726 49.57523069642161 29.495553795877242\n",
      "0.3838276836158192 0.5912429378531073 0.8331920903954803 0.9377118644067797\n",
      "Train Epoch: 19 [1500/2376 (62%)]\tLoss: 1178.984247\n",
      "2277.9991848016784 46.927901879622304 28.001033053312693\n",
      "0.38926553672316383 0.6022598870056497 0.845409604519774 0.945268361581921\n",
      "Train Epoch: 20 [1500/2376 (62%)]\tLoss: 2344.339624\n",
      "2069.1072548542443 44.70435510936974 26.969683717852405\n",
      "0.38467514124293783 0.6080508474576272 0.8546610169491525 0.9524011299435028\n",
      "Train Epoch: 21 [1500/2376 (62%)]\tLoss: 2921.600481\n",
      "1882.9044492127007 42.615503780414585 25.639930267614165\n",
      "0.4021186440677966 0.6219632768361582 0.8649717514124293 0.9569915254237288\n",
      "Train Epoch: 22 [1500/2376 (62%)]\tLoss: 3214.520789\n",
      "1732.8256571830352 40.90328790480049 24.37317470882057\n",
      "0.4279661016949153 0.6423022598870056 0.8735169491525424 0.96045197740113\n",
      "Train Epoch: 23 [1500/2376 (62%)]\tLoss: 1866.220827\n",
      "1669.9041981165433 40.23203771186364 24.390233426340046\n",
      "0.42768361581920905 0.6305084745762712 0.8701271186440678 0.9620056497175141\n",
      "Train Epoch: 24 [1500/2376 (62%)]\tLoss: 1427.667997\n",
      "1472.277891329226 37.6635713246222 22.760242110044818\n",
      "0.4309322033898305 0.6554378531073446 0.8884180790960452 0.9662429378531073\n",
      "Train Epoch: 25 [1500/2376 (62%)]\tLoss: 2092.478577\n",
      "1375.0531757281074 36.399023107982934 22.153108610754952\n",
      "0.4320621468926554 0.661723163841808 0.8945621468926553 0.9688559322033898\n",
      "Train Epoch: 26 [1500/2376 (62%)]\tLoss: 718.130533\n",
      "1278.2007633324024 35.10744335885973 21.121182019447893\n",
      "0.45861581920903954 0.6814265536723164 0.8990819209039548 0.9704802259887005\n",
      "Train Epoch: 27 [1500/2376 (62%)]\tLoss: 2002.476012\n",
      "1232.993169078244 34.463934366676185 21.658141738050467\n",
      "0.4166666666666667 0.6556497175141243 0.9005649717514125 0.9733757062146893\n",
      "Train Epoch: 28 [1500/2376 (62%)]\tLoss: 1369.178425\n",
      "1128.4602612445406 32.99320060267148 20.03802122567855\n",
      "0.46850282485875705 0.6928672316384181 0.9093926553672317 0.9752118644067796\n",
      "Train Epoch: 29 [1500/2376 (62%)]\tLoss: 1213.038744\n",
      "1060.6128255482404 31.93978577398285 19.444525131321534\n",
      "0.4754237288135593 0.7016242937853108 0.9149717514124294 0.9771892655367231\n",
      "Train Epoch: 30 [1500/2376 (62%)]\tLoss: 1220.606869\n",
      "1066.5155150893524 32.159071611281526 19.6607405251813\n",
      "0.47923728813559324 0.6898305084745763 0.9090395480225989 0.9778248587570622\n",
      "Train Epoch: 31 [1500/2376 (62%)]\tLoss: 1107.892345\n",
      "965.5745600453234 30.47159826643017 18.763483469038462\n",
      "0.482909604519774 0.7074152542372881 0.9205508474576272 0.9797316384180791\n",
      "Train Epoch: 32 [1500/2376 (62%)]\tLoss: 2349.402490\n",
      "957.9836846351134 30.37389186823004 19.324994993602253\n",
      "0.44795197740112996 0.6858757062146893 0.9222457627118644 0.9813559322033898\n",
      "Train Epoch: 33 [1500/2376 (62%)]\tLoss: 1560.375655\n",
      "896.720932862766 29.38446938706727 18.452812895760772\n",
      "0.4717514124293785 0.7088276836158192 0.9268361581920904 0.9826271186440678\n",
      "Train Epoch: 34 [1500/2376 (62%)]\tLoss: 1909.292863\n",
      "846.3751184882001 28.59189978876741 17.611456861014798\n",
      "0.5022598870056497 0.7273305084745763 0.929731638418079 0.9833333333333333\n",
      "Train Epoch: 35 [1500/2376 (62%)]\tLoss: 1649.991135\n",
      "812.1621125503309 27.931033519799417 17.319201404303065\n",
      "0.5074858757062147 0.7277542372881356 0.9348163841807909 0.9853107344632769\n",
      "Train Epoch: 36 [1500/2376 (62%)]\tLoss: 868.537033\n",
      "793.9300254213865 27.58090365111054 17.437172897551093\n",
      "0.48806497175141245 0.724364406779661 0.9363700564971752 0.98545197740113\n",
      "Train Epoch: 37 [1500/2376 (62%)]\tLoss: 1108.864235\n",
      "759.1236483771161 27.1023455820171 16.7752864890053\n",
      "0.518361581920904 0.7378531073446327 0.9361581920903955 0.9870056497175141\n",
      "Train Epoch: 38 [1500/2376 (62%)]\tLoss: 1435.332939\n",
      "730.7966566282573 26.49668068034464 16.85534495257339\n",
      "0.492090395480226 0.7346751412429379 0.9417372881355932 0.9876412429378532\n",
      "Train Epoch: 39 [1500/2376 (62%)]\tLoss: 720.248168\n",
      "774.2476019452542 27.555676202827186 17.36543999378486\n",
      "0.5024717514124294 0.721680790960452 0.9315677966101695 0.9872175141242938\n",
      "Train Epoch: 40 [1500/2376 (62%)]\tLoss: 1575.023780\n",
      "713.2876066721885 26.362003560369367 16.57634952114963\n",
      "0.5163135593220339 0.7403248587570621 0.9383474576271187 0.9882062146892655\n",
      "Train Epoch: 41 [1500/2376 (62%)]\tLoss: 3738.793009\n",
      "647.1671435521744 25.071444305888786 16.127790049915607\n",
      "0.5038135593220339 0.7387005649717514 0.9475282485875707 0.9903954802259887\n",
      "Train Epoch: 42 [1500/2376 (62%)]\tLoss: 961.011527\n",
      "650.701455562448 25.1362733488607 15.974596807178617\n",
      "0.5187853107344633 0.7427259887005649 0.9457627118644067 0.9905367231638418\n",
      "Train Epoch: 43 [1500/2376 (62%)]\tLoss: 2706.060684\n",
      "674.1724500029575 25.40064629241506 16.179827787185186\n",
      "0.5095338983050848 0.7415960451977401 0.9463983050847458 0.9893361581920904\n",
      "Train Epoch: 44 [1500/2376 (62%)]\tLoss: 1044.623970\n",
      "600.2308799894647 24.112373752036582 15.658997934936574\n",
      "0.5015536723163841 0.7555790960451978 0.95204802259887 0.9913841807909605\n",
      "Train Epoch: 45 [1500/2376 (62%)]\tLoss: 1364.547680\n",
      "685.2460233605772 25.840244375942557 16.889586908953035\n",
      "0.496680790960452 0.7149717514124294 0.9393361581920904 0.9916666666666667\n",
      "Train Epoch: 46 [1500/2376 (62%)]\tLoss: 920.585971\n",
      "579.1636029923948 23.87561063752499 15.430514133893462\n",
      "0.5241525423728813 0.753954802259887 0.9497881355932203 0.9931497175141243\n",
      "Train Epoch: 47 [1500/2376 (62%)]\tLoss: 947.156645\n",
      "542.4155245853192 23.084758373655912 14.902358701526618\n",
      "0.5371468926553672 0.76454802259887 0.9550141242937853 0.9930084745762712\n",
      "Train Epoch: 48 [1500/2376 (62%)]\tLoss: 1312.426651\n",
      "529.3154216258357 22.825899445566858 14.828797179277222\n",
      "0.5310734463276836 0.7661723163841808 0.955225988700565 0.9938559322033899\n",
      "Train Epoch: 49 [1500/2376 (62%)]\tLoss: 881.787831\n",
      "561.178514406384 23.52526761536415 15.501400671699091\n",
      "0.5190677966101694 0.7374293785310735 0.951906779661017 0.9937853107344633\n",
      "Train Epoch: 50 [1500/2376 (62%)]\tLoss: 1463.694655\n",
      "570.7461422242501 23.707127030508783 15.470562642564222\n",
      "0.5223870056497175 0.7441384180790961 0.9516949152542373 0.9932203389830508\n",
      "Train Epoch: 51 [1500/2376 (62%)]\tLoss: 790.278785\n",
      "517.0081583376796 22.505183475610004 14.60802033756076\n",
      "0.5389830508474577 0.7655367231638418 0.9564971751412429 0.9937146892655367\n",
      "Train Epoch: 52 [1500/2376 (62%)]\tLoss: 907.500279\n",
      "493.7454196962828 22.0545074434853 14.384640819854173\n",
      "0.5411723163841808 0.7745056497175141 0.959816384180791 0.9946327683615819\n",
      "Train Epoch: 53 [1500/2376 (62%)]\tLoss: 384.584542\n",
      "480.57311807518334 21.765067775545486 14.340996411564282\n",
      "0.5436440677966101 0.7712570621468926 0.9608050847457628 0.9958333333333333\n",
      "Train Epoch: 54 [1500/2376 (62%)]\tLoss: 893.110068\n",
      "473.91965329666044 21.49619550760506 14.09761767593256\n",
      "0.5439265536723163 0.7787429378531073 0.9629237288135594 0.9953389830508474\n",
      "Train Epoch: 55 [1500/2376 (62%)]\tLoss: 901.778412\n",
      "465.03468411382136 21.377907319396897 14.041050520651359\n",
      "0.5447033898305085 0.7796610169491526 0.9627118644067797 0.9953389830508474\n",
      "Train Epoch: 56 [1500/2376 (62%)]\tLoss: 678.483412\n",
      "452.0374845961509 21.082358796459552 13.913146829223148\n",
      "0.5449858757062147 0.7823446327683616 0.963912429378531 0.9961864406779661\n",
      "Train Epoch: 57 [1500/2376 (62%)]\tLoss: 647.889720\n",
      "461.9537079059737 21.22515948519224 14.02218039140294\n",
      "0.5390536723163842 0.7827683615819209 0.9641949152542373 0.9955508474576271\n",
      "Train Epoch: 58 [1500/2376 (62%)]\tLoss: 555.044692\n",
      "476.4946854242197 21.694303083381985 14.38061277105577\n",
      "0.5406073446327684 0.7673022598870056 0.9603813559322034 0.9959039548022599\n",
      "Train Epoch: 59 [1500/2376 (62%)]\tLoss: 631.092811\n",
      "454.4685669114236 21.14219845095402 13.92666188374857\n",
      "0.5491525423728814 0.7800141242937854 0.9633474576271186 0.996045197740113\n",
      "Train Epoch: 60 [1500/2376 (62%)]\tLoss: 1533.587407\n",
      "434.30116491526843 20.68315998415761 13.741014455758457\n",
      "0.5504943502824858 0.7818502824858757 0.9667372881355932 0.9970338983050847\n",
      "Train Epoch: 61 [1500/2376 (62%)]\tLoss: 1017.368611\n",
      "456.5254048283247 21.183036059107348 14.055526376477934\n",
      "0.5412429378531074 0.7752118644067797 0.963912429378531 0.9958333333333333\n",
      "Train Epoch: 62 [1500/2376 (62%)]\tLoss: 940.263380\n",
      "434.80388717945317 20.57580511144285 13.631350701813052\n",
      "0.5484463276836158 0.7865819209039548 0.9683615819209039 0.9961158192090396\n",
      "Train Epoch: 63 [1500/2376 (62%)]\tLoss: 1733.732477\n",
      "425.3685009928953 20.46013616506306 13.607451228474227\n",
      "0.5560028248587571 0.7872175141242937 0.9660310734463277 0.9970338983050847\n",
      "Train Epoch: 64 [1500/2376 (62%)]\tLoss: 775.587702\n",
      "434.7097369615926 20.699903713029972 13.741665614592076\n",
      "0.5528248587570621 0.7833333333333333 0.9653248587570622 0.9964689265536724\n",
      "Train Epoch: 65 [1500/2376 (62%)]\tLoss: 982.358792\n",
      "420.2689041185101 20.286122353686533 13.4692393903207\n",
      "0.5550847457627118 0.7896892655367231 0.9690677966101695 0.996822033898305\n",
      "Train Epoch: 66 [1500/2376 (62%)]\tLoss: 935.646749\n",
      "429.78329822388076 20.593946834333 13.781772720658992\n",
      "0.5500706214689266 0.7779661016949152 0.966454802259887 0.9971751412429378\n",
      "Train Epoch: 67 [1500/2376 (62%)]\tLoss: 490.589669\n",
      "424.04716079227626 20.429348981811014 13.695183633157205\n",
      "0.5458333333333333 0.7805790960451977 0.9684322033898305 0.9969632768361582\n",
      "Train Epoch: 68 [1500/2376 (62%)]\tLoss: 759.420540\n",
      "412.2538020245599 20.132418608244457 13.51028332666425\n",
      "0.5494350282485876 0.7826977401129943 0.9694915254237289 0.9973870056497175\n",
      "Train Epoch: 69 [1500/2376 (62%)]\tLoss: 647.912185\n",
      "411.4160023563998 20.056617543582398 13.373439637664521\n",
      "0.5514830508474576 0.7911016949152543 0.9699858757062146 0.9968926553672316\n",
      "Train Epoch: 70 [1500/2376 (62%)]\tLoss: 803.569441\n",
      "416.94817035959204 20.26812218779909 13.573864179909709\n",
      "0.5543079096045198 0.7848870056497175 0.9681497175141243 0.9970338983050847\n",
      "Train Epoch: 71 [1500/2376 (62%)]\tLoss: 864.790279\n",
      "432.50944173239907 20.678515209992888 13.955890576734607\n",
      "0.5411723163841808 0.7698446327683616 0.9660310734463277 0.997457627118644\n",
      "Train Epoch: 72 [1500/2376 (62%)]\tLoss: 1020.112137\n",
      "412.268521654 20.13835536464426 13.551339632643419\n",
      "0.5496468926553673 0.7829802259887005 0.9697033898305085 0.9970338983050847\n",
      "Train Epoch: 73 [1500/2376 (62%)]\tLoss: 776.895987\n",
      "463.01393962890853 21.392420660404465 14.310990728271594\n",
      "0.5382062146892655 0.7626412429378531 0.9615112994350282 0.9965395480225989\n",
      "Train Epoch: 74 [1500/2376 (62%)]\tLoss: 777.234670\n",
      "413.426071014811 20.153144642918615 13.574868332918498\n",
      "0.5462570621468926 0.7810734463276836 0.9692090395480226 0.9973870056497175\n",
      "Train Epoch: 75 [1500/2376 (62%)]\tLoss: 437.851469\n",
      "426.2556811024051 20.500451271934157 13.738792684736982\n",
      "0.5516949152542373 0.7799435028248588 0.9667372881355932 0.9964689265536724\n",
      "Train Epoch: 76 [1500/2376 (62%)]\tLoss: 776.193987\n",
      "399.5170231216415 19.77797576391043 13.481172022510941\n",
      "0.5459745762711864 0.7824858757062146 0.9712570621468927 0.9975988700564972\n",
      "Train Epoch: 77 [1500/2376 (62%)]\tLoss: 639.173419\n",
      "426.8063485909518 20.544945403575916 13.98599096441922\n",
      "0.5358757062146893 0.7657485875706215 0.9667372881355932 0.9976694915254237\n",
      "Train Epoch: 78 [1500/2376 (62%)]\tLoss: 775.373422\n",
      "392.5035007937726 19.647849827992125 13.190434022018684\n",
      "0.561087570621469 0.7934322033898306 0.971045197740113 0.997457627118644\n",
      "Train Epoch: 79 [1500/2376 (62%)]\tLoss: 591.563077\n",
      "379.8998551464891 19.26929174621764 12.933319804236936\n",
      "0.5655367231638418 0.8028248587570621 0.9722457627118644 0.9975988700564972\n",
      "Train Epoch: 80 [1500/2376 (62%)]\tLoss: 1183.150685\n",
      "380.71653759239393 19.321768988409186 13.004450809833486\n",
      "0.5632768361581921 0.7988700564971751 0.971680790960452 0.9980932203389831\n"
     ],
     "output_type": "stream"
    }
   ],
   "source": [
    "epoch_losses = []\n",
    "epoch_test_acc10 = []\n",
    "epoch_test_acc20 = []\n",
    "epoch_test_acc50 = []\n",
    "epoch_test_acc100 = []\n",
    "for epoch in range(epochs):\n",
    "    loss = train(model, device, train_dataloader, optimizer, epoch, log_interval)\n",
    "    epoch_losses.append(loss)\n",
    "    mse_losses, rmse_losses, mae_losses, acc10, acc20, acc50, acc100 = test(model, device, validation_dataloader)\n",
    "    epoch_test_acc10.append(acc10)\n",
    "    epoch_test_acc20.append(acc20)\n",
    "    epoch_test_acc50.append(acc50)\n",
    "    epoch_test_acc100.append(acc100)\n",
    "    "
   ],
   "metadata": {
    "collapsed": false,
    "pycharm": {
     "name": "#%%\n",
     "is_executing": false
    }
   }
  },
  {
   "cell_type": "code",
   "execution_count": 32,
   "outputs": [
    {
     "data": {
      "text/plain": "[<matplotlib.lines.Line2D at 0x1c401be4808>]"
     },
     "metadata": {},
     "output_type": "execute_result",
     "execution_count": 32
    },
    {
     "data": {
      "text/plain": "<Figure size 432x288 with 1 Axes>",
      "image/png": "[encoded data removed]"
     },
     "metadata": {
      "needs_background": "light"
     },
     "output_type": "display_data"
    }
   ],
   "source": [
    "import matplotlib.pyplot as plt\n",
    "A = np.array(epoch_losses)\n",
    "plt.plot(A.flatten())"
   ],
   "metadata": {
    "collapsed": false,
    "pycharm": {
     "name": "#%%\n",
     "is_executing": false
    }
   }
  },
  {
   "cell_type": "code",
   "execution_count": 33,
   "outputs": [
    {
     "data": {
      "text/plain": "<Figure size 432x288 with 1 Axes>",
      "image/png": "[encoded data removed]"
     },
     "metadata": {
      "needs_background": "light"
     },
     "output_type": "display_data"
    }
   ],
   "source": [
    "B = np.array(epoch_test_acc100)\n",
    "C = np.array(epoch_test_acc50)\n",
    "D = np.array(epoch_test_acc20)\n",
    "E = np.array(epoch_test_acc10)\n",
    "x = range(1,81)\n",
    "plt.plot(x, B.flatten(), label = \"+-100\")\n",
    "plt.plot(x, C.flatten(), label = \"+-50\")\n",
    "plt.plot(x, D.flatten(), label = \"+-20\")\n",
    "plt.plot(x, E.flatten(), label = \"+-10\")\n",
    "plt.xlabel('epochs')\n",
    "plt.ylabel('accurarcy')\n",
    "plt.legend(bbox_to_anchor=(0.7, 0.7))\n",
    "plt.show()"
   ],
   "metadata": {
    "collapsed": false,
    "pycharm": {
     "name": "#%%\n",
     "is_executing": false
    }
   }
  },
  {
   "cell_type": "code",
   "execution_count": 34,
   "outputs": [
    {
     "name": "stdout",
     "text": [
      "(594, 48, 27)\n"
     ],
     "output_type": "stream"
    }
   ],
   "source": [
    "#inference on test data\n",
    "test_data = df_test.values.reshape(12,-1,27)[:,-5232:,:]\n",
    "test_data = test_data.reshape(-1 ,48,27)\n",
    "test_data = test_data[~np.isnan(test_data).any(axis=(1,2))]\n",
    "print(test_data.shape)\n",
    "test_set = TimeSeriesDataset(test_data)\n",
    "test_dataloader = tud.DataLoader(test_set, batch_size=batch_size)"
   ],
   "metadata": {
    "collapsed": false,
    "pycharm": {
     "name": "#%%\n",
     "is_executing": false
    }
   }
  },
  {
   "cell_type": "code",
   "execution_count": 35,
   "outputs": [
    {
     "name": "stdout",
     "text": [
      "670.1655437208359 24.896799354354805 15.453512926879284\n",
      "0.5617985409652076 0.7612934904601572 0.9424102132435466 0.9887065095398428\n"
     ],
     "output_type": "stream"
    }
   ],
   "source": [
    "se_losses, rmse_losses, mae_losses, acc10, acc20, acc50, acc100 = test(model, device, test_dataloader)"
   ],
   "metadata": {
    "collapsed": false,
    "pycharm": {
     "name": "#%%\n",
     "is_executing": false
    }
   }
  }
 ],
 "metadata": {
  "kernelspec": {
   "display_name": "Python 3",
   "language": "python",
   "name": "python3"
  },
  "language_info": {
   "codemirror_mode": {
    "name": "ipython",
    "version": 2
   },
   "file_extension": ".py",
   "mimetype": "text/x-python",
   "name": "python",
   "nbconvert_exporter": "python",
   "pygments_lexer": "ipython2",
   "version": "2.7.6"
  },
  "pycharm": {
   "stem_cell": {
    "cell_type": "raw",
    "source": [],
    "metadata": {
     "collapsed": false
    }
   }
  }
 },
 "nbformat": 4,
 "nbformat_minor": 0
}