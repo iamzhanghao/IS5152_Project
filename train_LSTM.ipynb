{
 "cells": [
  {
   "cell_type": "code",
   "execution_count": 1,
   "metadata": {
    "collapsed": true,
    "pycharm": {
     "is_executing": false
    }
   },
   "outputs": [
    {
     "name": "stdout",
     "text": [
      "Loaded  data\\PRSA_Data_Aotizhongxin_20130301-20170228.csv\n",
      "Loaded  data\\PRSA_Data_Changping_20130301-20170228.csv\n",
      "Loaded  data\\PRSA_Data_Dingling_20130301-20170228.csv\n",
      "Loaded  data\\PRSA_Data_Dongsi_20130301-20170228.csv\n",
      "Loaded  data\\PRSA_Data_Guanyuan_20130301-20170228.csv\n",
      "Loaded  data\\PRSA_Data_Gucheng_20130301-20170228.csv\n",
      "Loaded  data\\PRSA_Data_Huairou_20130301-20170228.csv\n",
      "Loaded  data\\PRSA_Data_Nongzhanguan_20130301-20170228.csv\n",
      "Loaded  data\\PRSA_Data_Shunyi_20130301-20170228.csv\n",
      "Loaded  data\\PRSA_Data_Tiantan_20130301-20170228.csv\n",
      "Loaded  data\\PRSA_Data_Wanliu_20130301-20170228.csv\n",
      "Loaded  data\\PRSA_Data_Wanshouxigong_20130301-20170228.csv\n",
      "Applied normalization on  ['PM10', 'SO2', 'NO2', 'CO', 'O3', 'TEMP', 'PRES', 'DEWP', 'RAIN', 'WSPM']\n",
      "35064 rows per station, total 420768 rows\n"
     ],
     "output_type": "stream"
    },
    {
     "data": {
      "text/plain": "   PM2.5      PM10       SO2       NO2        CO        O3      TEMP  \\\n0    4.0  0.002006  0.007433  0.020671  0.020202  0.071710  0.312195   \n1    8.0  0.006018  0.007433  0.020671  0.020202  0.071710  0.305691   \n2    7.0  0.005015  0.009434  0.031053  0.020202  0.067974  0.305691   \n3    6.0  0.004012  0.021441  0.034514  0.020202  0.067040  0.300813   \n4    3.0  0.001003  0.023442  0.037974  0.020202  0.067040  0.291057   \n5    5.0  0.003009  0.035449  0.058737  0.030303  0.061437  0.287805   \n6    3.0  0.001003  0.035449  0.107185  0.040404  0.046495  0.281301   \n7    3.0  0.004012  0.037450  0.138329  0.040404  0.039957  0.297561   \n8    3.0  0.004012  0.031447  0.145250  0.040404  0.041825  0.325203   \n9    3.0  0.006018  0.023442  0.093342  0.030303  0.054900  0.343089   \n\n       PRES      DEWP  RAIN  ...  WD_NNW  WD_NW  WD_S  WD_SE  WD_SSE  WD_SSW  \\\n0  0.672185  0.339310   0.0  ...       1      0     0      0       0       0   \n1  0.675497  0.347586   0.0  ...       0      0     0      0       0       0   \n2  0.680464  0.347586   0.0  ...       1      0     0      0       0       0   \n3  0.697020  0.331034   0.0  ...       0      1     0      0       0       0   \n4  0.708609  0.329655   0.0  ...       0      0     0      0       0       0   \n5  0.715232  0.328276   0.0  ...       0      0     0      0       0       0   \n6  0.730132  0.335172   0.0  ...       0      0     0      0       0       0   \n7  0.745033  0.335172   0.0  ...       1      0     0      0       0       0   \n8  0.759934  0.333793   0.0  ...       1      0     0      0       0       0   \n9  0.763245  0.332414   0.0  ...       0      0     0      0       0       0   \n\n   WD_SW  WD_W  WD_WNW  WD_WSW  \n0      0     0       0       0  \n1      0     0       0       0  \n2      0     0       0       0  \n3      0     0       0       0  \n4      0     0       0       0  \n5      0     0       0       0  \n6      0     0       0       0  \n7      0     0       0       0  \n8      0     0       0       0  \n9      0     0       0       0  \n\n[10 rows x 27 columns]",
      "text/html": "<div>\n<style scoped>\n    .dataframe tbody tr th:only-of-type {\n        vertical-align: middle;\n    }\n\n    .dataframe tbody tr th {\n        vertical-align: top;\n    }\n\n    .dataframe thead th {\n        text-align: right;\n    }\n</style>\n<table border=\"1\" class=\"dataframe\">\n  <thead>\n    <tr style=\"text-align: right;\">\n      <th></th>\n      <th>PM2.5</th>\n      <th>PM10</th>\n      <th>SO2</th>\n      <th>NO2</th>\n      <th>CO</th>\n      <th>O3</th>\n      <th>TEMP</th>\n      <th>PRES</th>\n      <th>DEWP</th>\n      <th>RAIN</th>\n      <th>...</th>\n      <th>WD_NNW</th>\n      <th>WD_NW</th>\n      <th>WD_S</th>\n      <th>WD_SE</th>\n      <th>WD_SSE</th>\n      <th>WD_SSW</th>\n      <th>WD_SW</th>\n      <th>WD_W</th>\n      <th>WD_WNW</th>\n      <th>WD_WSW</th>\n    </tr>\n  </thead>\n  <tbody>\n    <tr>\n      <td>0</td>\n      <td>4.0</td>\n      <td>0.002006</td>\n      <td>0.007433</td>\n      <td>0.020671</td>\n      <td>0.020202</td>\n      <td>0.071710</td>\n      <td>0.312195</td>\n      <td>0.672185</td>\n      <td>0.339310</td>\n      <td>0.0</td>\n      <td>...</td>\n      <td>1</td>\n      <td>0</td>\n      <td>0</td>\n      <td>0</td>\n      <td>0</td>\n      <td>0</td>\n      <td>0</td>\n      <td>0</td>\n      <td>0</td>\n      <td>0</td>\n    </tr>\n    <tr>\n      <td>1</td>\n      <td>8.0</td>\n      <td>0.006018</td>\n      <td>0.007433</td>\n      <td>0.020671</td>\n      <td>0.020202</td>\n      <td>0.071710</td>\n      <td>0.305691</td>\n      <td>0.675497</td>\n      <td>0.347586</td>\n      <td>0.0</td>\n      <td>...</td>\n      <td>0</td>\n      <td>0</td>\n      <td>0</td>\n      <td>0</td>\n      <td>0</td>\n      <td>0</td>\n      <td>0</td>\n      <td>0</td>\n      <td>0</td>\n      <td>0</td>\n    </tr>\n    <tr>\n      <td>2</td>\n      <td>7.0</td>\n      <td>0.005015</td>\n      <td>0.009434</td>\n      <td>0.031053</td>\n      <td>0.020202</td>\n      <td>0.067974</td>\n      <td>0.305691</td>\n      <td>0.680464</td>\n      <td>0.347586</td>\n      <td>0.0</td>\n      <td>...</td>\n      <td>1</td>\n      <td>0</td>\n      <td>0</td>\n      <td>0</td>\n      <td>0</td>\n      <td>0</td>\n      <td>0</td>\n      <td>0</td>\n      <td>0</td>\n      <td>0</td>\n    </tr>\n    <tr>\n      <td>3</td>\n      <td>6.0</td>\n      <td>0.004012</td>\n      <td>0.021441</td>\n      <td>0.034514</td>\n      <td>0.020202</td>\n      <td>0.067040</td>\n      <td>0.300813</td>\n      <td>0.697020</td>\n      <td>0.331034</td>\n      <td>0.0</td>\n      <td>...</td>\n      <td>0</td>\n      <td>1</td>\n      <td>0</td>\n      <td>0</td>\n      <td>0</td>\n      <td>0</td>\n      <td>0</td>\n      <td>0</td>\n      <td>0</td>\n      <td>0</td>\n    </tr>\n    <tr>\n      <td>4</td>\n      <td>3.0</td>\n      <td>0.001003</td>\n      <td>0.023442</td>\n      <td>0.037974</td>\n      <td>0.020202</td>\n      <td>0.067040</td>\n      <td>0.291057</td>\n      <td>0.708609</td>\n      <td>0.329655</td>\n      <td>0.0</td>\n      <td>...</td>\n      <td>0</td>\n      <td>0</td>\n      <td>0</td>\n      <td>0</td>\n      <td>0</td>\n      <td>0</td>\n      <td>0</td>\n      <td>0</td>\n      <td>0</td>\n      <td>0</td>\n    </tr>\n    <tr>\n      <td>5</td>\n      <td>5.0</td>\n      <td>0.003009</td>\n      <td>0.035449</td>\n      <td>0.058737</td>\n      <td>0.030303</td>\n      <td>0.061437</td>\n      <td>0.287805</td>\n      <td>0.715232</td>\n      <td>0.328276</td>\n      <td>0.0</td>\n      <td>...</td>\n      <td>0</td>\n      <td>0</td>\n      <td>0</td>\n      <td>0</td>\n      <td>0</td>\n      <td>0</td>\n      <td>0</td>\n      <td>0</td>\n      <td>0</td>\n      <td>0</td>\n    </tr>\n    <tr>\n      <td>6</td>\n      <td>3.0</td>\n      <td>0.001003</td>\n      <td>0.035449</td>\n      <td>0.107185</td>\n      <td>0.040404</td>\n      <td>0.046495</td>\n      <td>0.281301</td>\n      <td>0.730132</td>\n      <td>0.335172</td>\n      <td>0.0</td>\n      <td>...</td>\n      <td>0</td>\n      <td>0</td>\n      <td>0</td>\n      <td>0</td>\n      <td>0</td>\n      <td>0</td>\n      <td>0</td>\n      <td>0</td>\n      <td>0</td>\n      <td>0</td>\n    </tr>\n    <tr>\n      <td>7</td>\n      <td>3.0</td>\n      <td>0.004012</td>\n      <td>0.037450</td>\n      <td>0.138329</td>\n      <td>0.040404</td>\n      <td>0.039957</td>\n      <td>0.297561</td>\n      <td>0.745033</td>\n      <td>0.335172</td>\n      <td>0.0</td>\n      <td>...</td>\n      <td>1</td>\n      <td>0</td>\n      <td>0</td>\n      <td>0</td>\n      <td>0</td>\n      <td>0</td>\n      <td>0</td>\n      <td>0</td>\n      <td>0</td>\n      <td>0</td>\n    </tr>\n    <tr>\n      <td>8</td>\n      <td>3.0</td>\n      <td>0.004012</td>\n      <td>0.031447</td>\n      <td>0.145250</td>\n      <td>0.040404</td>\n      <td>0.041825</td>\n      <td>0.325203</td>\n      <td>0.759934</td>\n      <td>0.333793</td>\n      <td>0.0</td>\n      <td>...</td>\n      <td>1</td>\n      <td>0</td>\n      <td>0</td>\n      <td>0</td>\n      <td>0</td>\n      <td>0</td>\n      <td>0</td>\n      <td>0</td>\n      <td>0</td>\n      <td>0</td>\n    </tr>\n    <tr>\n      <td>9</td>\n      <td>3.0</td>\n      <td>0.006018</td>\n      <td>0.023442</td>\n      <td>0.093342</td>\n      <td>0.030303</td>\n      <td>0.054900</td>\n      <td>0.343089</td>\n      <td>0.763245</td>\n      <td>0.332414</td>\n      <td>0.0</td>\n      <td>...</td>\n      <td>0</td>\n      <td>0</td>\n      <td>0</td>\n      <td>0</td>\n      <td>0</td>\n      <td>0</td>\n      <td>0</td>\n      <td>0</td>\n      <td>0</td>\n      <td>0</td>\n    </tr>\n  </tbody>\n</table>\n<p>10 rows × 27 columns</p>\n</div>"
     },
     "metadata": {},
     "output_type": "execute_result",
     "execution_count": 1
    }
   ],
   "source": [
    "from utils import read_data\n",
    "\n",
    "count_per_station, df_all = read_data(keep_nan=True,keep_dates=False)\n",
    "df_all = df_all.drop(columns=[\"station\",\"time_stamp\"])\n",
    "df_all.columns\n",
    "df_all.head(10)"
   ]
  },
  {
   "cell_type": "code",
   "execution_count": 2,
   "outputs": [
    {
     "name": "stdout",
     "text": [
      "(3564, 48, 27)\n"
     ],
     "output_type": "stream"
    }
   ],
   "source": [
    "import numpy as np\n",
    "data = df_all.values.reshape(12,-1, 24,27)\n",
    "data = data[:,:1460,:,:]\n",
    "data = data.reshape(-1 ,48,27)\n",
    "data = data[~np.isnan(data).any(axis=(1,2))]\n",
    "print(data.shape)"
   ],
   "metadata": {
    "collapsed": false,
    "pycharm": {
     "name": "#%%\n",
     "is_executing": false
    }
   }
  },
  {
   "cell_type": "code",
   "execution_count": 3,
   "outputs": [],
   "source": [
    "import torch\n",
    "import torch.nn as nn\n",
    "import torch.nn.functional as F\n",
    "import torch.optim as optim\n",
    "import torch.utils.data as tud\n",
    "\n",
    "class TimeSeriesDataset(tud.Dataset):\n",
    "    def __init__(self, data):\n",
    "        self.y = data[:,24:,0]\n",
    "        self.x = data[:,:,1:]\n",
    "    \n",
    "    def __len__(self):\n",
    "        return self.x.shape[0]\n",
    "    \n",
    "    def __getitem__(self, idx):\n",
    "        return self.y[idx], self.x[idx]"
   ],
   "metadata": {
    "collapsed": false,
    "pycharm": {
     "name": "#%%\n",
     "is_executing": false
    }
   }
  },
  {
   "cell_type": "code",
   "execution_count": 4,
   "outputs": [],
   "source": [
    "class LSTM_Model(nn.Module):\n",
    "    def __init__(self):\n",
    "        super(LSTM_Model, self).__init__()\n",
    "        self.LSTM = nn.LSTM(26, 16, batch_first=True)\n",
    "        self.fc1 = nn.Linear(16, 5)\n",
    "        self.fc2 = nn.Linear(5 ,1)\n",
    "        \n",
    "    def forward(self, x):\n",
    "        x, (h_n, h_c) = self.LSTM(x)\n",
    "        x = x[:,24:,:]\n",
    "        x = self.fc1(x)\n",
    "        x = F.relu(x)\n",
    "        x = F.dropout(x, p = 0.1, training = self.training)\n",
    "        x = self.fc2(x)\n",
    "        return x"
   ],
   "metadata": {
    "collapsed": false,
    "pycharm": {
     "name": "#%%\n",
     "is_executing": false
    }
   }
  },
  {
   "cell_type": "code",
   "execution_count": 5,
   "outputs": [],
   "source": [
    "device = \"cuda\" if torch.cuda.is_available() else \"cpu\"\n",
    "learning_rate = 1e-3\n",
    "batch_size = 30\n",
    "epochs = 80\n",
    "test_interval = 5\n",
    "log_interval = 50\n",
    "\n",
    "model = LSTM_Model().to(device).double()\n",
    "optimizer = optim.Adam(model.parameters(), lr=learning_rate)\n",
    "dataset = TimeSeriesDataset(data)\n",
    "train_set, test_set = torch.utils.data.random_split(dataset, [len(dataset) - 600, 600])\n",
    "train_dataloader = tud.DataLoader(train_set, batch_size=batch_size, shuffle=True)\n",
    "test_dataloader = tud.DataLoader(test_set, batch_size=batch_size)"
   ],
   "metadata": {
    "collapsed": false,
    "pycharm": {
     "name": "#%%\n",
     "is_executing": false
    }
   }
  },
  {
   "cell_type": "code",
   "execution_count": 6,
   "outputs": [],
   "source": [
    "def train(model, device, train_loader, optimizer, epoch, log_interval):\n",
    "    model.train()\n",
    "    \n",
    "    losses = []\n",
    "    for batch_idx, (y ,x) in enumerate(train_loader):\n",
    "        y = y.to(device)\n",
    "        x = x.to(device)\n",
    "        \n",
    "        optimizer.zero_grad()\n",
    "        output = model(x)\n",
    "        \n",
    "        loss = F.mse_loss(output, y.view(-1,24,1))\n",
    "        losses.append(loss.item())\n",
    "        \n",
    "        loss.backward()\n",
    "        optimizer.step()\n",
    "        \n",
    "        if (batch_idx + 1) % log_interval == 0:\n",
    "            print('Train Epoch: {} [{}/{} ({:.0f}%)]\\tLoss: {:.6f}'.format(\n",
    "                epoch + 1, (batch_idx + 1) * batch_size, len(train_loader.dataset),\n",
    "                100. * (batch_idx + 1) / len(train_loader), loss.item()))\n",
    "    return losses"
   ],
   "metadata": {
    "collapsed": false,
    "pycharm": {
     "name": "#%%\n",
     "is_executing": false
    }
   }
  },
  {
   "cell_type": "code",
   "execution_count": 7,
   "outputs": [],
   "source": [
    "def test(model, device, test_loader):\n",
    "    model.eval()\n",
    "    losses = []\n",
    "    accuracy10 = []\n",
    "    accuracy15 = []\n",
    "    accuracy20 = []\n",
    "    for batch_idx, (y ,x) in enumerate(test_loader):\n",
    "        y = y.to(device).view(-1,24,1)\n",
    "        x = x.to(device)\n",
    "        \n",
    "        with torch.no_grad():\n",
    "            output = model(x)\n",
    "            loss = F.mse_loss(output, y)\n",
    "            losses.append(loss.item())\n",
    "            diff = output - y\n",
    "            accuracy10.append(len(diff[abs(diff)<=10]))\n",
    "            accuracy15.append(len(diff[abs(diff)<=15]))\n",
    "            accuracy20.append(len(diff[abs(diff)<=20]))\n",
    "    data_size = len(test_loader.dataset) * 24.\n",
    "    print(float(sum(losses))/len(losses), float(sum(accuracy10))/data_size, float(sum(accuracy15))/data_size,\n",
    "          float(sum(accuracy20))/data_size)\n",
    "    return float(sum(losses))/len(losses), float(sum(accuracy10))/data_size, \\\n",
    "           float(sum(accuracy15))/data_size, float(sum(accuracy20))/data_size"
   ],
   "metadata": {
    "collapsed": false,
    "pycharm": {
     "name": "#%%\n",
     "is_executing": false
    }
   }
  },
  {
   "cell_type": "code",
   "execution_count": 8,
   "outputs": [
    {
     "name": "stdout",
     "text": [
      "Train Epoch: 1 [1500/2964 (51%)]\tLoss: 10510.388126\n",
      "10738.280940068296 0.13361111111111112 0.20104166666666667 0.25645833333333334\n",
      "Train Epoch: 2 [1500/2964 (51%)]\tLoss: 7962.711960\n",
      "9788.506690761711 0.22340277777777778 0.2765972222222222 0.32055555555555554\n",
      "Train Epoch: 3 [1500/2964 (51%)]\tLoss: 12728.812734\n",
      "8665.57422782883 0.2445138888888889 0.3398611111111111 0.39118055555555553\n",
      "Train Epoch: 4 [1500/2964 (51%)]\tLoss: 13070.632895\n",
      "7539.520876384107 0.17881944444444445 0.2808333333333333 0.39861111111111114\n",
      "Train Epoch: 5 [1500/2964 (51%)]\tLoss: 13799.207398\n",
      "6598.683660074488 0.15013888888888888 0.22770833333333335 0.3072916666666667\n",
      "Train Epoch: 6 [1500/2964 (51%)]\tLoss: 7256.696950\n",
      "5939.165877249026 0.13541666666666666 0.2038888888888889 0.27090277777777777\n",
      "Train Epoch: 7 [1500/2964 (51%)]\tLoss: 6576.650115\n",
      "5572.390325017235 0.12097222222222222 0.1817361111111111 0.24340277777777777\n",
      "Train Epoch: 8 [1500/2964 (51%)]\tLoss: 6359.536959\n",
      "5401.102561445217 0.113125 0.16604166666666667 0.22493055555555555\n",
      "Train Epoch: 9 [1500/2964 (51%)]\tLoss: 3553.327260\n",
      "4441.562947879546 0.25631944444444443 0.37027777777777776 0.4575694444444444\n",
      "Train Epoch: 10 [1500/2964 (51%)]\tLoss: 4619.662508\n",
      "3775.389712603096 0.2816666666666667 0.3933333333333333 0.4867361111111111\n",
      "Train Epoch: 11 [1500/2964 (51%)]\tLoss: 3342.867385\n",
      "3268.6632853010965 0.29638888888888887 0.4047222222222222 0.4963194444444444\n",
      "Train Epoch: 12 [1500/2964 (51%)]\tLoss: 2439.200718\n",
      "2764.4553119627853 0.3661111111111111 0.4816666666666667 0.571875\n",
      "Train Epoch: 13 [1500/2964 (51%)]\tLoss: 1402.262981\n",
      "2383.534690950633 0.38534722222222223 0.5064583333333333 0.6\n",
      "Train Epoch: 14 [1500/2964 (51%)]\tLoss: 2728.319669\n",
      "2097.25846607937 0.4136111111111111 0.5424305555555555 0.6354861111111111\n",
      "Train Epoch: 15 [1500/2964 (51%)]\tLoss: 1135.352270\n",
      "1857.1189922985952 0.4267361111111111 0.5599305555555556 0.6558333333333334\n",
      "Train Epoch: 16 [1500/2964 (51%)]\tLoss: 2673.793888\n",
      "1703.891694618575 0.4427083333333333 0.576875 0.6691666666666667\n",
      "Train Epoch: 17 [1500/2964 (51%)]\tLoss: 2282.866623\n",
      "1530.4642098926122 0.42743055555555554 0.5622222222222222 0.6561111111111111\n",
      "Train Epoch: 18 [1500/2964 (51%)]\tLoss: 3300.006814\n",
      "1403.9262058862364 0.4663888888888889 0.5955555555555555 0.6866666666666666\n",
      "Train Epoch: 19 [1500/2964 (51%)]\tLoss: 1317.075753\n",
      "1288.7637779291708 0.455625 0.5964583333333333 0.6925\n",
      "Train Epoch: 20 [1500/2964 (51%)]\tLoss: 1802.335232\n",
      "1202.2861525075546 0.4775 0.613125 0.7038194444444444\n",
      "Train Epoch: 21 [1500/2964 (51%)]\tLoss: 1578.582565\n",
      "1175.6936443887776 0.4815277777777778 0.6070138888888889 0.6960416666666667\n",
      "Train Epoch: 22 [1500/2964 (51%)]\tLoss: 1856.314121\n",
      "1062.4911495018976 0.49972222222222223 0.6318055555555555 0.7211805555555556\n",
      "Train Epoch: 23 [1500/2964 (51%)]\tLoss: 1312.983034\n",
      "1011.1477698605511 0.48243055555555553 0.6267361111111112 0.7226388888888889\n",
      "Train Epoch: 24 [1500/2964 (51%)]\tLoss: 2236.405385\n",
      "938.1590983207598 0.5088194444444445 0.6419444444444444 0.7336805555555556\n",
      "Train Epoch: 25 [1500/2964 (51%)]\tLoss: 2735.833042\n",
      "891.9783471647303 0.5057638888888889 0.6463888888888889 0.7390972222222222\n",
      "Train Epoch: 26 [1500/2964 (51%)]\tLoss: 1264.114268\n",
      "835.0090228387669 0.5184722222222222 0.6539583333333333 0.7444444444444445\n",
      "Train Epoch: 27 [1500/2964 (51%)]\tLoss: 1550.976743\n",
      "839.7066563499486 0.5154166666666666 0.6508333333333334 0.7394444444444445\n",
      "Train Epoch: 28 [1500/2964 (51%)]\tLoss: 873.807435\n",
      "778.4311949761991 0.5075694444444444 0.6526388888888889 0.74625\n",
      "Train Epoch: 29 [1500/2964 (51%)]\tLoss: 2250.560289\n",
      "693.9165344902365 0.5316666666666666 0.6672222222222223 0.7609722222222223\n",
      "Train Epoch: 30 [1500/2964 (51%)]\tLoss: 642.822065\n",
      "701.400714244641 0.5079166666666667 0.6547222222222222 0.749375\n",
      "Train Epoch: 31 [1500/2964 (51%)]\tLoss: 970.740184\n",
      "660.8171414168011 0.5360416666666666 0.6661111111111111 0.759375\n",
      "Train Epoch: 32 [1500/2964 (51%)]\tLoss: 670.545087\n",
      "623.90762957832 0.5428472222222223 0.6748611111111111 0.7690277777777778\n",
      "Train Epoch: 33 [1500/2964 (51%)]\tLoss: 1306.259223\n",
      "621.2184157736408 0.5395833333333333 0.6740277777777778 0.7674305555555555\n",
      "Train Epoch: 34 [1500/2964 (51%)]\tLoss: 594.336087\n",
      "640.4871313362066 0.5341666666666667 0.6709027777777777 0.7629166666666667\n",
      "Train Epoch: 35 [1500/2964 (51%)]\tLoss: 974.945770\n",
      "569.2733014866486 0.5376388888888889 0.6754166666666667 0.7679166666666667\n",
      "Train Epoch: 36 [1500/2964 (51%)]\tLoss: 325.128906\n",
      "539.8013856095471 0.5504166666666667 0.6872222222222222 0.7783333333333333\n",
      "Train Epoch: 37 [1500/2964 (51%)]\tLoss: 1028.043976\n",
      "567.7242363540975 0.5399305555555556 0.6740277777777778 0.7620138888888889\n",
      "Train Epoch: 38 [1500/2964 (51%)]\tLoss: 1164.839911\n",
      "549.8144818302059 0.5365972222222222 0.6718055555555555 0.7579166666666667\n",
      "Train Epoch: 39 [1500/2964 (51%)]\tLoss: 647.494947\n",
      "514.7861516652786 0.5463194444444445 0.6813194444444445 0.7753472222222222\n",
      "Train Epoch: 40 [1500/2964 (51%)]\tLoss: 937.499336\n",
      "517.7399612239036 0.5423611111111111 0.6840277777777778 0.778125\n",
      "Train Epoch: 41 [1500/2964 (51%)]\tLoss: 708.813046\n",
      "503.93967740403866 0.5522222222222222 0.6863888888888889 0.7790277777777778\n",
      "Train Epoch: 42 [1500/2964 (51%)]\tLoss: 1133.929061\n",
      "473.43558269568075 0.5563888888888889 0.6921527777777777 0.7831944444444444\n",
      "Train Epoch: 43 [1500/2964 (51%)]\tLoss: 577.018481\n",
      "471.4344498830607 0.55625 0.6907638888888888 0.7814583333333334\n",
      "Train Epoch: 44 [1500/2964 (51%)]\tLoss: 648.886721\n",
      "514.6077394296219 0.5516666666666666 0.6911111111111111 0.7874305555555555\n",
      "Train Epoch: 45 [1500/2964 (51%)]\tLoss: 623.408591\n",
      "453.653045313449 0.5559027777777777 0.6968055555555556 0.7888194444444444\n",
      "Train Epoch: 46 [1500/2964 (51%)]\tLoss: 934.812836\n",
      "479.51711192135355 0.5413888888888889 0.6738194444444444 0.7658333333333334\n",
      "Train Epoch: 47 [1500/2964 (51%)]\tLoss: 855.151222\n",
      "443.8963089937427 0.56 0.6969444444444445 0.785625\n",
      "Train Epoch: 48 [1500/2964 (51%)]\tLoss: 780.439840\n",
      "445.4229138483064 0.5425694444444444 0.6908333333333333 0.7856944444444445\n",
      "Train Epoch: 49 [1500/2964 (51%)]\tLoss: 2251.119865\n",
      "439.31538581128035 0.5474305555555555 0.6905555555555556 0.7890972222222222\n",
      "Train Epoch: 50 [1500/2964 (51%)]\tLoss: 770.781156\n",
      "433.15744577494434 0.5560416666666667 0.6913194444444445 0.7827083333333333\n",
      "Train Epoch: 51 [1500/2964 (51%)]\tLoss: 636.475065\n",
      "461.32842002165944 0.5426388888888889 0.6761805555555556 0.7665972222222223\n",
      "Train Epoch: 52 [1500/2964 (51%)]\tLoss: 807.130749\n",
      "406.9605853668527 0.5643055555555555 0.7003472222222222 0.7936805555555555\n",
      "Train Epoch: 53 [1500/2964 (51%)]\tLoss: 666.048218\n",
      "416.8172435408429 0.556875 0.6927777777777778 0.7867361111111111\n",
      "Train Epoch: 54 [1500/2964 (51%)]\tLoss: 825.498031\n",
      "413.06027152047983 0.5485416666666667 0.6933333333333334 0.78875\n",
      "Train Epoch: 55 [1500/2964 (51%)]\tLoss: 1132.109586\n",
      "418.7400319318348 0.5493055555555556 0.6927083333333334 0.7917361111111111\n",
      "Train Epoch: 56 [1500/2964 (51%)]\tLoss: 1033.780391\n",
      "406.00408044448244 0.5627083333333334 0.6986805555555555 0.790625\n",
      "Train Epoch: 57 [1500/2964 (51%)]\tLoss: 1299.695021\n",
      "423.09338373337977 0.5551388888888888 0.6928472222222222 0.7814583333333334\n",
      "Train Epoch: 58 [1500/2964 (51%)]\tLoss: 702.354550\n",
      "426.8023281725967 0.5572222222222222 0.6994444444444444 0.7913194444444445\n",
      "Train Epoch: 59 [1500/2964 (51%)]\tLoss: 631.605832\n",
      "393.85199244606287 0.5603472222222222 0.6979861111111111 0.7909722222222222\n",
      "Train Epoch: 60 [1500/2964 (51%)]\tLoss: 387.050640\n",
      "396.89141915419196 0.5648611111111111 0.6994444444444444 0.7892361111111111\n",
      "Train Epoch: 61 [1500/2964 (51%)]\tLoss: 439.851709\n",
      "382.9927899475177 0.565625 0.7031944444444445 0.7975\n",
      "Train Epoch: 62 [1500/2964 (51%)]\tLoss: 680.681805\n",
      "373.9966338288062 0.5711111111111111 0.7141666666666666 0.8038194444444444\n",
      "Train Epoch: 63 [1500/2964 (51%)]\tLoss: 715.628415\n",
      "392.62895612032537 0.565625 0.7019444444444445 0.7914583333333334\n",
      "Train Epoch: 64 [1500/2964 (51%)]\tLoss: 401.510428\n",
      "420.1998594727967 0.5633333333333334 0.7028472222222222 0.7945138888888889\n",
      "Train Epoch: 65 [1500/2964 (51%)]\tLoss: 687.693309\n",
      "380.8039834471461 0.5765277777777778 0.7204166666666667 0.80875\n",
      "Train Epoch: 66 [1500/2964 (51%)]\tLoss: 451.206977\n",
      "366.0684935842461 0.5645833333333333 0.7153472222222222 0.8054861111111111\n",
      "Train Epoch: 67 [1500/2964 (51%)]\tLoss: 922.289242\n",
      "380.93047411483 0.5659027777777778 0.7027777777777777 0.7941666666666667\n",
      "Train Epoch: 68 [1500/2964 (51%)]\tLoss: 603.598042\n",
      "362.17987863396786 0.5697916666666667 0.7188888888888889 0.80875\n",
      "Train Epoch: 69 [1500/2964 (51%)]\tLoss: 417.013132\n",
      "408.804286008272 0.5608333333333333 0.6951388888888889 0.7855555555555556\n",
      "Train Epoch: 70 [1500/2964 (51%)]\tLoss: 940.915405\n",
      "356.434132581701 0.5803472222222222 0.7218055555555556 0.8095833333333333\n",
      "Train Epoch: 71 [1500/2964 (51%)]\tLoss: 674.716028\n",
      "350.924795432976 0.5774305555555556 0.7221527777777778 0.8095138888888889\n",
      "Train Epoch: 72 [1500/2964 (51%)]\tLoss: 524.304183\n",
      "353.9726476610384 0.5754166666666667 0.7178472222222222 0.8079166666666666\n",
      "Train Epoch: 73 [1500/2964 (51%)]\tLoss: 600.938854\n",
      "354.93144349943265 0.5764583333333333 0.715 0.8047222222222222\n",
      "Train Epoch: 74 [1500/2964 (51%)]\tLoss: 607.495715\n",
      "356.925195142749 0.5779861111111111 0.7172916666666667 0.8077777777777778\n",
      "Train Epoch: 75 [1500/2964 (51%)]\tLoss: 997.236225\n",
      "380.6381771135764 0.5850694444444444 0.7292361111111111 0.8154166666666667\n",
      "Train Epoch: 76 [1500/2964 (51%)]\tLoss: 594.119501\n",
      "389.2635115575343 0.5755555555555556 0.7133333333333334 0.8001388888888888\n",
      "Train Epoch: 77 [1500/2964 (51%)]\tLoss: 619.508892\n",
      "386.7978454158627 0.5707638888888888 0.710625 0.7984027777777778\n",
      "Train Epoch: 78 [1500/2964 (51%)]\tLoss: 499.161449\n",
      "352.3924627387754 0.5699305555555556 0.7154166666666667 0.8055555555555556\n",
      "Train Epoch: 79 [1500/2964 (51%)]\tLoss: 672.628865\n",
      "358.76744395143385 0.5783333333333334 0.7174305555555556 0.8061805555555556\n",
      "Train Epoch: 80 [1500/2964 (51%)]\tLoss: 482.446186\n",
      "360.62904855432123 0.5696527777777778 0.71 0.8022916666666666\n"
     ],
     "output_type": "stream"
    }
   ],
   "source": [
    "epoch_losses = []\n",
    "epoch_test_losses = []\n",
    "epoch_test_acc10 = []\n",
    "epoch_test_acc15 = []\n",
    "epoch_test_acc20 = []\n",
    "for epoch in range(epochs):\n",
    "    loss = train(model, device, train_dataloader, optimizer, epoch, log_interval)\n",
    "    epoch_losses.append(loss)\n",
    "    test_losses, acc10, acc15, acc20 = test(model, device, test_dataloader)\n",
    "    epoch_test_losses.append(test_losses)\n",
    "    epoch_test_acc10.append(acc10)\n",
    "    epoch_test_acc15.append(acc15)\n",
    "    epoch_test_acc20.append(acc20)\n",
    "    "
   ],
   "metadata": {
    "collapsed": false,
    "pycharm": {
     "name": "#%%\n",
     "is_executing": false
    }
   }
  },
  {
   "cell_type": "code",
   "execution_count": 10,
   "outputs": [
    {
     "data": {
      "text/plain": "<Figure size 432x288 with 1 Axes>",
      "image/png": "[encoded data removed]"
     },
     "metadata": {
      "needs_background": "light"
     },
     "output_type": "display_data"
    }
   ],
   "source": [
    "import matplotlib.pyplot as plt\n",
    "A = np.array(epoch_losses)\n",
    "B = np.array(epoch_test_acc20)\n",
    "C = np.array(epoch_test_acc15)\n",
    "D = np.array(epoch_test_acc10)\n",
    "x = range(1,81)\n",
    "plt.plot(x, B.flatten(), label = \"+-20\")\n",
    "plt.plot(x, C.flatten(), label = \"+-15\")\n",
    "plt.plot(x, D.flatten(), label = \"+-10\")\n",
    "plt.xlabel('epochs')\n",
    "plt.ylabel('accurarcy')\n",
    "plt.legend(bbox_to_anchor=(0.7, 0.7))\n",
    "plt.show()"
   ],
   "metadata": {
    "collapsed": false,
    "pycharm": {
     "name": "#%%\n",
     "is_executing": false
    }
   }
  }
 ],
 "metadata": {
  "kernelspec": {
   "display_name": "Python 3",
   "language": "python",
   "name": "python3"
  },
  "language_info": {
   "codemirror_mode": {
    "name": "ipython",
    "version": 2
   },
   "file_extension": ".py",
   "mimetype": "text/x-python",
   "name": "python",
   "nbconvert_exporter": "python",
   "pygments_lexer": "ipython2",
   "version": "2.7.6"
  },
  "pycharm": {
   "stem_cell": {
    "cell_type": "raw",
    "source": [],
    "metadata": {
     "collapsed": false
    }
   }
  }
 },
 "nbformat": 4,
 "nbformat_minor": 0
}