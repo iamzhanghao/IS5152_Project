{
 "cells": [
  {
   "cell_type": "code",
   "execution_count": 1,
   "metadata": {
    "collapsed": true,
    "pycharm": {
     "is_executing": false
    }
   },
   "outputs": [
    {
     "name": "stdout",
     "text": [
      "Loaded  data\\PRSA_Data_Aotizhongxin_20130301-20170228.csv\n",
      "Loaded  data\\PRSA_Data_Changping_20130301-20170228.csv\n",
      "Loaded  data\\PRSA_Data_Dingling_20130301-20170228.csv\n",
      "Loaded  data\\PRSA_Data_Dongsi_20130301-20170228.csv\n",
      "Loaded  data\\PRSA_Data_Guanyuan_20130301-20170228.csv\n",
      "Loaded  data\\PRSA_Data_Gucheng_20130301-20170228.csv\n",
      "Loaded  data\\PRSA_Data_Huairou_20130301-20170228.csv\n",
      "Loaded  data\\PRSA_Data_Nongzhanguan_20130301-20170228.csv\n",
      "Loaded  data\\PRSA_Data_Shunyi_20130301-20170228.csv\n",
      "Loaded  data\\PRSA_Data_Tiantan_20130301-20170228.csv\n",
      "Loaded  data\\PRSA_Data_Wanliu_20130301-20170228.csv\n",
      "Loaded  data\\PRSA_Data_Wanshouxigong_20130301-20170228.csv\n",
      "Applied normalization on  ['PM10', 'SO2', 'NO2', 'CO', 'O3', 'TEMP', 'PRES', 'DEWP', 'RAIN', 'WSPM']\n",
      "35064 rows per station, total 420768 rows\n"
     ],
     "output_type": "stream"
    },
    {
     "data": {
      "text/plain": "   PM2.5      PM10       SO2       NO2        CO        O3      TEMP  \\\n0    4.0  0.002006  0.007433  0.020671  0.020202  0.071710  0.312195   \n1    8.0  0.006018  0.007433  0.020671  0.020202  0.071710  0.305691   \n2    7.0  0.005015  0.009434  0.031053  0.020202  0.067974  0.305691   \n3    6.0  0.004012  0.021441  0.034514  0.020202  0.067040  0.300813   \n4    3.0  0.001003  0.023442  0.037974  0.020202  0.067040  0.291057   \n5    5.0  0.003009  0.035449  0.058737  0.030303  0.061437  0.287805   \n6    3.0  0.001003  0.035449  0.107185  0.040404  0.046495  0.281301   \n7    3.0  0.004012  0.037450  0.138329  0.040404  0.039957  0.297561   \n8    3.0  0.004012  0.031447  0.145250  0.040404  0.041825  0.325203   \n9    3.0  0.006018  0.023442  0.093342  0.030303  0.054900  0.343089   \n\n       PRES      DEWP  RAIN  ...  WD_NNW  WD_NW  WD_S  WD_SE  WD_SSE  WD_SSW  \\\n0  0.672185  0.339310   0.0  ...       1      0     0      0       0       0   \n1  0.675497  0.347586   0.0  ...       0      0     0      0       0       0   \n2  0.680464  0.347586   0.0  ...       1      0     0      0       0       0   \n3  0.697020  0.331034   0.0  ...       0      1     0      0       0       0   \n4  0.708609  0.329655   0.0  ...       0      0     0      0       0       0   \n5  0.715232  0.328276   0.0  ...       0      0     0      0       0       0   \n6  0.730132  0.335172   0.0  ...       0      0     0      0       0       0   \n7  0.745033  0.335172   0.0  ...       1      0     0      0       0       0   \n8  0.759934  0.333793   0.0  ...       1      0     0      0       0       0   \n9  0.763245  0.332414   0.0  ...       0      0     0      0       0       0   \n\n   WD_SW  WD_W  WD_WNW  WD_WSW  \n0      0     0       0       0  \n1      0     0       0       0  \n2      0     0       0       0  \n3      0     0       0       0  \n4      0     0       0       0  \n5      0     0       0       0  \n6      0     0       0       0  \n7      0     0       0       0  \n8      0     0       0       0  \n9      0     0       0       0  \n\n[10 rows x 27 columns]",
      "text/html": "<div>\n<style scoped>\n    .dataframe tbody tr th:only-of-type {\n        vertical-align: middle;\n    }\n\n    .dataframe tbody tr th {\n        vertical-align: top;\n    }\n\n    .dataframe thead th {\n        text-align: right;\n    }\n</style>\n<table border=\"1\" class=\"dataframe\">\n  <thead>\n    <tr style=\"text-align: right;\">\n      <th></th>\n      <th>PM2.5</th>\n      <th>PM10</th>\n      <th>SO2</th>\n      <th>NO2</th>\n      <th>CO</th>\n      <th>O3</th>\n      <th>TEMP</th>\n      <th>PRES</th>\n      <th>DEWP</th>\n      <th>RAIN</th>\n      <th>...</th>\n      <th>WD_NNW</th>\n      <th>WD_NW</th>\n      <th>WD_S</th>\n      <th>WD_SE</th>\n      <th>WD_SSE</th>\n      <th>WD_SSW</th>\n      <th>WD_SW</th>\n      <th>WD_W</th>\n      <th>WD_WNW</th>\n      <th>WD_WSW</th>\n    </tr>\n  </thead>\n  <tbody>\n    <tr>\n      <td>0</td>\n      <td>4.0</td>\n      <td>0.002006</td>\n      <td>0.007433</td>\n      <td>0.020671</td>\n      <td>0.020202</td>\n      <td>0.071710</td>\n      <td>0.312195</td>\n      <td>0.672185</td>\n      <td>0.339310</td>\n      <td>0.0</td>\n      <td>...</td>\n      <td>1</td>\n      <td>0</td>\n      <td>0</td>\n      <td>0</td>\n      <td>0</td>\n      <td>0</td>\n      <td>0</td>\n      <td>0</td>\n      <td>0</td>\n      <td>0</td>\n    </tr>\n    <tr>\n      <td>1</td>\n      <td>8.0</td>\n      <td>0.006018</td>\n      <td>0.007433</td>\n      <td>0.020671</td>\n      <td>0.020202</td>\n      <td>0.071710</td>\n      <td>0.305691</td>\n      <td>0.675497</td>\n      <td>0.347586</td>\n      <td>0.0</td>\n      <td>...</td>\n      <td>0</td>\n      <td>0</td>\n      <td>0</td>\n      <td>0</td>\n      <td>0</td>\n      <td>0</td>\n      <td>0</td>\n      <td>0</td>\n      <td>0</td>\n      <td>0</td>\n    </tr>\n    <tr>\n      <td>2</td>\n      <td>7.0</td>\n      <td>0.005015</td>\n      <td>0.009434</td>\n      <td>0.031053</td>\n      <td>0.020202</td>\n      <td>0.067974</td>\n      <td>0.305691</td>\n      <td>0.680464</td>\n      <td>0.347586</td>\n      <td>0.0</td>\n      <td>...</td>\n      <td>1</td>\n      <td>0</td>\n      <td>0</td>\n      <td>0</td>\n      <td>0</td>\n      <td>0</td>\n      <td>0</td>\n      <td>0</td>\n      <td>0</td>\n      <td>0</td>\n    </tr>\n    <tr>\n      <td>3</td>\n      <td>6.0</td>\n      <td>0.004012</td>\n      <td>0.021441</td>\n      <td>0.034514</td>\n      <td>0.020202</td>\n      <td>0.067040</td>\n      <td>0.300813</td>\n      <td>0.697020</td>\n      <td>0.331034</td>\n      <td>0.0</td>\n      <td>...</td>\n      <td>0</td>\n      <td>1</td>\n      <td>0</td>\n      <td>0</td>\n      <td>0</td>\n      <td>0</td>\n      <td>0</td>\n      <td>0</td>\n      <td>0</td>\n      <td>0</td>\n    </tr>\n    <tr>\n      <td>4</td>\n      <td>3.0</td>\n      <td>0.001003</td>\n      <td>0.023442</td>\n      <td>0.037974</td>\n      <td>0.020202</td>\n      <td>0.067040</td>\n      <td>0.291057</td>\n      <td>0.708609</td>\n      <td>0.329655</td>\n      <td>0.0</td>\n      <td>...</td>\n      <td>0</td>\n      <td>0</td>\n      <td>0</td>\n      <td>0</td>\n      <td>0</td>\n      <td>0</td>\n      <td>0</td>\n      <td>0</td>\n      <td>0</td>\n      <td>0</td>\n    </tr>\n    <tr>\n      <td>5</td>\n      <td>5.0</td>\n      <td>0.003009</td>\n      <td>0.035449</td>\n      <td>0.058737</td>\n      <td>0.030303</td>\n      <td>0.061437</td>\n      <td>0.287805</td>\n      <td>0.715232</td>\n      <td>0.328276</td>\n      <td>0.0</td>\n      <td>...</td>\n      <td>0</td>\n      <td>0</td>\n      <td>0</td>\n      <td>0</td>\n      <td>0</td>\n      <td>0</td>\n      <td>0</td>\n      <td>0</td>\n      <td>0</td>\n      <td>0</td>\n    </tr>\n    <tr>\n      <td>6</td>\n      <td>3.0</td>\n      <td>0.001003</td>\n      <td>0.035449</td>\n      <td>0.107185</td>\n      <td>0.040404</td>\n      <td>0.046495</td>\n      <td>0.281301</td>\n      <td>0.730132</td>\n      <td>0.335172</td>\n      <td>0.0</td>\n      <td>...</td>\n      <td>0</td>\n      <td>0</td>\n      <td>0</td>\n      <td>0</td>\n      <td>0</td>\n      <td>0</td>\n      <td>0</td>\n      <td>0</td>\n      <td>0</td>\n      <td>0</td>\n    </tr>\n    <tr>\n      <td>7</td>\n      <td>3.0</td>\n      <td>0.004012</td>\n      <td>0.037450</td>\n      <td>0.138329</td>\n      <td>0.040404</td>\n      <td>0.039957</td>\n      <td>0.297561</td>\n      <td>0.745033</td>\n      <td>0.335172</td>\n      <td>0.0</td>\n      <td>...</td>\n      <td>1</td>\n      <td>0</td>\n      <td>0</td>\n      <td>0</td>\n      <td>0</td>\n      <td>0</td>\n      <td>0</td>\n      <td>0</td>\n      <td>0</td>\n      <td>0</td>\n    </tr>\n    <tr>\n      <td>8</td>\n      <td>3.0</td>\n      <td>0.004012</td>\n      <td>0.031447</td>\n      <td>0.145250</td>\n      <td>0.040404</td>\n      <td>0.041825</td>\n      <td>0.325203</td>\n      <td>0.759934</td>\n      <td>0.333793</td>\n      <td>0.0</td>\n      <td>...</td>\n      <td>1</td>\n      <td>0</td>\n      <td>0</td>\n      <td>0</td>\n      <td>0</td>\n      <td>0</td>\n      <td>0</td>\n      <td>0</td>\n      <td>0</td>\n      <td>0</td>\n    </tr>\n    <tr>\n      <td>9</td>\n      <td>3.0</td>\n      <td>0.006018</td>\n      <td>0.023442</td>\n      <td>0.093342</td>\n      <td>0.030303</td>\n      <td>0.054900</td>\n      <td>0.343089</td>\n      <td>0.763245</td>\n      <td>0.332414</td>\n      <td>0.0</td>\n      <td>...</td>\n      <td>0</td>\n      <td>0</td>\n      <td>0</td>\n      <td>0</td>\n      <td>0</td>\n      <td>0</td>\n      <td>0</td>\n      <td>0</td>\n      <td>0</td>\n      <td>0</td>\n    </tr>\n  </tbody>\n</table>\n<p>10 rows × 27 columns</p>\n</div>"
     },
     "metadata": {},
     "output_type": "execute_result",
     "execution_count": 1
    }
   ],
   "source": [
    "from utils import read_data\n",
    "\n",
    "count_per_station, df_all = read_data(True,True)\n",
    "df_all = df_all.drop(columns=[\"station\",\"time_stamp\"])\n",
    "df_all.columns\n",
    "df_all.head(10)"
   ]
  },
  {
   "cell_type": "code",
   "execution_count": 2,
   "outputs": [
    {
     "name": "stdout",
     "text": [
      "(3564, 48, 27)\n"
     ],
     "output_type": "stream"
    }
   ],
   "source": [
    "import numpy as np\n",
    "data = df_all.values.reshape(12,-1, 24,27)\n",
    "data = data[:,:1460,:,:]\n",
    "data = data.reshape(-1 ,48,27)\n",
    "data = data[~np.isnan(data).any(axis=(1,2))]\n",
    "print(data.shape)"
   ],
   "metadata": {
    "collapsed": false,
    "pycharm": {
     "name": "#%%\n",
     "is_executing": false
    }
   }
  },
  {
   "cell_type": "code",
   "execution_count": 3,
   "outputs": [],
   "source": [
    "import torch\n",
    "import torch.nn as nn\n",
    "import torch.nn.functional as F\n",
    "import torch.optim as optim\n",
    "import torch.utils.data as tud\n",
    "\n",
    "class TimeSeriesDataset(tud.Dataset):\n",
    "    def __init__(self, data):\n",
    "        self.y = data[:,24:,0]\n",
    "        self.x = data[:,:,1:]\n",
    "    \n",
    "    def __len__(self):\n",
    "        return self.x.shape[0]\n",
    "    \n",
    "    def __getitem__(self, idx):\n",
    "        return self.y[idx], self.x[idx]"
   ],
   "metadata": {
    "collapsed": false,
    "pycharm": {
     "name": "#%%\n",
     "is_executing": false
    }
   }
  },
  {
   "cell_type": "code",
   "execution_count": 4,
   "outputs": [],
   "source": [
    "class LSTM_Model(nn.Module):\n",
    "    def __init__(self):\n",
    "        super(LSTM_Model, self).__init__()\n",
    "        self.LSTM = nn.LSTM(26, 16, batch_first=True)\n",
    "        self.fc1 = nn.Linear(16, 5)\n",
    "        self.fc2 = nn.Linear(5 ,1)\n",
    "        \n",
    "    def forward(self, x):\n",
    "        x, (h_n, h_c) = self.LSTM(x)\n",
    "        x = x[:,24:,:]\n",
    "        x = self.fc1(x)\n",
    "        x = F.relu(x)\n",
    "        x = F.dropout(x, p = 0.1, training = self.training)\n",
    "        x = self.fc2(x)\n",
    "        return x"
   ],
   "metadata": {
    "collapsed": false,
    "pycharm": {
     "name": "#%%\n",
     "is_executing": false
    }
   }
  },
  {
   "cell_type": "code",
   "execution_count": 5,
   "outputs": [],
   "source": [
    "device = \"cuda\" if torch.cuda.is_available() else \"cpu\"\n",
    "learning_rate = 1e-3\n",
    "batch_size = 30\n",
    "epochs = 80\n",
    "test_interval = 5\n",
    "log_interval = 50\n",
    "\n",
    "model = LSTM_Model().to(device).double()\n",
    "optimizer = optim.Adam(model.parameters(), lr=learning_rate)\n",
    "dataset = TimeSeriesDataset(data)\n",
    "train_set, test_set = torch.utils.data.random_split(dataset, [len(dataset) - 600, 600])\n",
    "train_dataloader = tud.DataLoader(train_set, batch_size=batch_size, shuffle=True)\n",
    "test_dataloader = tud.DataLoader(test_set, batch_size=batch_size)"
   ],
   "metadata": {
    "collapsed": false,
    "pycharm": {
     "name": "#%%\n",
     "is_executing": false
    }
   }
  },
  {
   "cell_type": "code",
   "execution_count": 6,
   "outputs": [],
   "source": [
    "def train(model, device, train_loader, optimizer, epoch, log_interval):\n",
    "    model.train()\n",
    "    \n",
    "    losses = []\n",
    "    for batch_idx, (y ,x) in enumerate(train_loader):\n",
    "        y = y.to(device)\n",
    "        x = x.to(device)\n",
    "        \n",
    "        optimizer.zero_grad()\n",
    "        output = model(x)\n",
    "        \n",
    "        loss = F.mse_loss(output, y.view(-1,24,1))\n",
    "        losses.append(loss.item())\n",
    "        \n",
    "        loss.backward()\n",
    "        optimizer.step()\n",
    "        \n",
    "        if (batch_idx + 1) % log_interval == 0:\n",
    "            print('Train Epoch: {} [{}/{} ({:.0f}%)]\\tLoss: {:.6f}'.format(\n",
    "                epoch + 1, (batch_idx + 1) * batch_size, len(train_loader.dataset),\n",
    "                100. * (batch_idx + 1) / len(train_loader), loss.item()))\n",
    "    return losses"
   ],
   "metadata": {
    "collapsed": false,
    "pycharm": {
     "name": "#%%\n",
     "is_executing": false
    }
   }
  },
  {
   "cell_type": "code",
   "execution_count": 7,
   "outputs": [],
   "source": [
    "def test(model, device, test_loader):\n",
    "    model.eval()\n",
    "    losses = []\n",
    "    accuracy2 = []\n",
    "    accuracy5 = []\n",
    "    accuracy10 = []\n",
    "    for batch_idx, (y ,x) in enumerate(test_loader):\n",
    "        y = y.to(device).view(-1,24,1)\n",
    "        x = x.to(device)\n",
    "        \n",
    "        with torch.no_grad():\n",
    "            output = model(x)\n",
    "            loss = F.mse_loss(output, y)\n",
    "            losses.append(loss.item())\n",
    "            diff = output - y\n",
    "            accuracy2.append(len(diff[abs(diff)<=2]))\n",
    "            accuracy5.append(len(diff[abs(diff)<=5]))\n",
    "            accuracy10.append(len(diff[abs(diff)<=10]))\n",
    "    data_size = len(test_loader.dataset) * 24.\n",
    "    print(float(sum(losses))/len(losses), float(sum(accuracy2))/data_size, float(sum(accuracy5))/data_size,\n",
    "          float(sum(accuracy10))/data_size)\n",
    "    return float(sum(losses))/len(losses), float(sum(accuracy2))/data_size, \\\n",
    "           float(sum(accuracy5))/data_size, float(sum(accuracy10))/data_size"
   ],
   "metadata": {
    "collapsed": false,
    "pycharm": {
     "name": "#%%\n",
     "is_executing": false
    }
   }
  },
  {
   "cell_type": "code",
   "execution_count": 8,
   "outputs": [
    {
     "name": "stdout",
     "text": [
      "Train Epoch: 1 [1500/2964 (51%)]\tLoss: 17662.095006\n",
      "9952.633703590449 0.033541666666666664 0.07194444444444445 0.14958333333333335\n",
      "Train Epoch: 2 [1500/2964 (51%)]\tLoss: 9593.204769\n",
      "9004.957716088564 0.06298611111111112 0.14645833333333333 0.23965277777777777\n",
      "Train Epoch: 3 [1500/2964 (51%)]\tLoss: 20362.665527\n",
      "7907.051368595947 0.04534722222222222 0.11451388888888889 0.24055555555555555\n",
      "Train Epoch: 4 [1500/2964 (51%)]\tLoss: 6670.949037\n",
      "6831.712000002587 0.034652777777777775 0.08701388888888889 0.17770833333333333\n",
      "Train Epoch: 5 [1500/2964 (51%)]\tLoss: 7872.280117\n",
      "5945.780980277523 0.027916666666666666 0.07256944444444445 0.14729166666666665\n",
      "Train Epoch: 6 [1500/2964 (51%)]\tLoss: 3276.677880\n",
      "5358.952701370314 0.025138888888888888 0.06243055555555556 0.1270138888888889\n",
      "Train Epoch: 7 [1500/2964 (51%)]\tLoss: 4636.609314\n",
      "5039.473556747373 0.02451388888888889 0.058680555555555555 0.11423611111111111\n",
      "Train Epoch: 8 [1500/2964 (51%)]\tLoss: 8148.353641\n",
      "4921.4815803770725 0.020972222222222222 0.055 0.10722222222222222\n",
      "Train Epoch: 9 [1500/2964 (51%)]\tLoss: 6589.792046\n",
      "4722.393184108363 0.022430555555555554 0.051875 0.10180555555555555\n",
      "Train Epoch: 10 [1500/2964 (51%)]\tLoss: 14906.574430\n",
      "3700.3290054568365 0.043680555555555556 0.10951388888888888 0.23381944444444444\n",
      "Train Epoch: 11 [1500/2964 (51%)]\tLoss: 4080.926975\n",
      "3076.752990904354 0.07263888888888889 0.17625 0.3172916666666667\n",
      "Train Epoch: 12 [1500/2964 (51%)]\tLoss: 2325.783966\n",
      "2602.7507965257846 0.09451388888888888 0.2129861111111111 0.3614583333333333\n",
      "Train Epoch: 13 [1500/2964 (51%)]\tLoss: 2627.985266\n",
      "2236.2187745504298 0.09944444444444445 0.23666666666666666 0.39208333333333334\n",
      "Train Epoch: 14 [1500/2964 (51%)]\tLoss: 2354.027440\n",
      "1943.6647164533904 0.09368055555555556 0.21819444444444444 0.3784722222222222\n",
      "Train Epoch: 15 [1500/2964 (51%)]\tLoss: 4118.234415\n",
      "1711.5769622388725 0.08930555555555555 0.215 0.38458333333333333\n",
      "Train Epoch: 16 [1500/2964 (51%)]\tLoss: 987.836436\n",
      "1504.344084531896 0.11027777777777778 0.25666666666666665 0.4267361111111111\n",
      "Train Epoch: 17 [1500/2964 (51%)]\tLoss: 3088.056681\n",
      "1361.958336196761 0.09861111111111111 0.2401388888888889 0.41097222222222224\n",
      "Train Epoch: 18 [1500/2964 (51%)]\tLoss: 1901.562851\n",
      "1220.5348317165403 0.11125 0.2615277777777778 0.4413888888888889\n",
      "Train Epoch: 19 [1500/2964 (51%)]\tLoss: 5033.710289\n",
      "1116.3938250923402 0.118125 0.26756944444444447 0.4509722222222222\n",
      "Train Epoch: 20 [1500/2964 (51%)]\tLoss: 798.339070\n",
      "1044.0646797561549 0.11736111111111111 0.27631944444444445 0.46034722222222224\n",
      "Train Epoch: 21 [1500/2964 (51%)]\tLoss: 2753.871486\n",
      "973.3935548169011 0.11888888888888889 0.27875 0.4675694444444444\n",
      "Train Epoch: 22 [1500/2964 (51%)]\tLoss: 1578.401501\n",
      "890.1071329720784 0.12423611111111112 0.2838888888888889 0.4790277777777778\n",
      "Train Epoch: 23 [1500/2964 (51%)]\tLoss: 2175.831802\n",
      "830.5848747963834 0.12111111111111111 0.28055555555555556 0.4842361111111111\n",
      "Train Epoch: 24 [1500/2964 (51%)]\tLoss: 545.156106\n",
      "784.3880214737212 0.11965277777777777 0.2911111111111111 0.4934722222222222\n",
      "Train Epoch: 25 [1500/2964 (51%)]\tLoss: 1135.396479\n",
      "753.8507028087001 0.12895833333333334 0.2961111111111111 0.49840277777777775\n",
      "Train Epoch: 26 [1500/2964 (51%)]\tLoss: 618.497027\n",
      "714.3141854578075 0.12881944444444443 0.30270833333333336 0.5122222222222222\n",
      "Train Epoch: 27 [1500/2964 (51%)]\tLoss: 1167.160992\n",
      "681.9869046258137 0.12416666666666666 0.29847222222222225 0.5109722222222223\n",
      "Train Epoch: 28 [1500/2964 (51%)]\tLoss: 962.431753\n",
      "708.7843459574389 0.1272222222222222 0.29625 0.49409722222222224\n",
      "Train Epoch: 29 [1500/2964 (51%)]\tLoss: 928.973605\n",
      "626.8704463379169 0.1329861111111111 0.31222222222222223 0.5216666666666666\n",
      "Train Epoch: 30 [1500/2964 (51%)]\tLoss: 798.277374\n",
      "636.1979491279453 0.13131944444444443 0.3032638888888889 0.5088194444444445\n",
      "Train Epoch: 31 [1500/2964 (51%)]\tLoss: 1178.335649\n",
      "575.7892435437934 0.1322222222222222 0.31090277777777775 0.5274305555555555\n",
      "Train Epoch: 32 [1500/2964 (51%)]\tLoss: 855.806993\n",
      "627.3283977284784 0.11534722222222223 0.2822222222222222 0.5019444444444444\n",
      "Train Epoch: 33 [1500/2964 (51%)]\tLoss: 878.164782\n",
      "540.3875938565785 0.1342361111111111 0.3202777777777778 0.5320138888888889\n",
      "Train Epoch: 34 [1500/2964 (51%)]\tLoss: 1638.506559\n",
      "543.1883554158355 0.13458333333333333 0.31145833333333334 0.5184722222222222\n",
      "Train Epoch: 35 [1500/2964 (51%)]\tLoss: 1201.318160\n",
      "512.2206994375907 0.13493055555555555 0.3147916666666667 0.5343055555555556\n",
      "Train Epoch: 36 [1500/2964 (51%)]\tLoss: 654.283399\n",
      "503.23430018235274 0.1338888888888889 0.3157638888888889 0.5375\n",
      "Train Epoch: 37 [1500/2964 (51%)]\tLoss: 473.595640\n",
      "528.8950963281604 0.13368055555555555 0.31180555555555556 0.5217361111111111\n",
      "Train Epoch: 38 [1500/2964 (51%)]\tLoss: 764.280645\n",
      "475.0623237952198 0.12861111111111112 0.3082638888888889 0.5377083333333333\n",
      "Train Epoch: 39 [1500/2964 (51%)]\tLoss: 814.564702\n",
      "491.1985153765809 0.13680555555555557 0.32180555555555557 0.5338194444444444\n",
      "Train Epoch: 40 [1500/2964 (51%)]\tLoss: 1488.993311\n",
      "464.6290125298104 0.13347222222222221 0.3132638888888889 0.536875\n",
      "Train Epoch: 41 [1500/2964 (51%)]\tLoss: 693.372573\n",
      "448.43345510116853 0.14076388888888888 0.3304166666666667 0.5461111111111111\n",
      "Train Epoch: 42 [1500/2964 (51%)]\tLoss: 806.955555\n",
      "443.8027412658478 0.14229166666666668 0.32625 0.5515972222222222\n",
      "Train Epoch: 43 [1500/2964 (51%)]\tLoss: 1018.155660\n",
      "439.0779477025891 0.134375 0.32243055555555555 0.5449305555555556\n",
      "Train Epoch: 44 [1500/2964 (51%)]\tLoss: 593.970580\n",
      "455.852971026003 0.13680555555555557 0.3194444444444444 0.5361111111111111\n",
      "Train Epoch: 45 [1500/2964 (51%)]\tLoss: 819.694529\n",
      "455.73953713910885 0.14048611111111112 0.32680555555555557 0.5408333333333334\n",
      "Train Epoch: 46 [1500/2964 (51%)]\tLoss: 642.466545\n",
      "468.5706715321274 0.1334027777777778 0.3173611111111111 0.5289583333333333\n",
      "Train Epoch: 47 [1500/2964 (51%)]\tLoss: 688.789676\n",
      "425.1004932130856 0.14569444444444443 0.3317361111111111 0.5547916666666667\n",
      "Train Epoch: 48 [1500/2964 (51%)]\tLoss: 746.025486\n",
      "452.69140071086133 0.129375 0.303125 0.5349305555555556\n",
      "Train Epoch: 49 [1500/2964 (51%)]\tLoss: 557.735767\n",
      "434.5965377550389 0.14215277777777777 0.3292361111111111 0.5498611111111111\n",
      "Train Epoch: 50 [1500/2964 (51%)]\tLoss: 670.092609\n",
      "412.22168137163607 0.1470138888888889 0.33694444444444444 0.5628472222222223\n",
      "Train Epoch: 51 [1500/2964 (51%)]\tLoss: 665.276899\n",
      "429.1400704266531 0.13868055555555556 0.3285416666666667 0.5464583333333334\n",
      "Train Epoch: 52 [1500/2964 (51%)]\tLoss: 801.331764\n",
      "434.13412421940694 0.14402777777777778 0.3304861111111111 0.5476388888888889\n",
      "Train Epoch: 53 [1500/2964 (51%)]\tLoss: 558.406531\n",
      "417.41514535583764 0.13847222222222222 0.3323611111111111 0.56\n",
      "Train Epoch: 54 [1500/2964 (51%)]\tLoss: 494.433313\n",
      "414.4302542806455 0.14472222222222222 0.3368055555555556 0.5611805555555556\n",
      "Train Epoch: 55 [1500/2964 (51%)]\tLoss: 793.324998\n",
      "406.7585023598403 0.1451388888888889 0.3348611111111111 0.5574305555555555\n",
      "Train Epoch: 56 [1500/2964 (51%)]\tLoss: 555.143186\n",
      "397.210873281123 0.14298611111111112 0.33090277777777777 0.5645138888888889\n",
      "Train Epoch: 57 [1500/2964 (51%)]\tLoss: 439.719571\n",
      "451.6554067101765 0.1411111111111111 0.32618055555555553 0.5358333333333334\n",
      "Train Epoch: 58 [1500/2964 (51%)]\tLoss: 567.587095\n",
      "394.0430033941617 0.14888888888888888 0.3346527777777778 0.5673611111111111\n",
      "Train Epoch: 59 [1500/2964 (51%)]\tLoss: 730.970464\n",
      "390.111060897346 0.14201388888888888 0.330625 0.5627083333333334\n",
      "Train Epoch: 60 [1500/2964 (51%)]\tLoss: 596.581722\n",
      "389.8414798151516 0.14159722222222224 0.3279166666666667 0.5622222222222222\n",
      "Train Epoch: 61 [1500/2964 (51%)]\tLoss: 1165.848368\n",
      "423.54042296143353 0.14145833333333332 0.32763888888888887 0.54875\n",
      "Train Epoch: 62 [1500/2964 (51%)]\tLoss: 500.954374\n",
      "412.72607811532544 0.14416666666666667 0.3269444444444444 0.5459722222222222\n",
      "Train Epoch: 63 [1500/2964 (51%)]\tLoss: 594.261761\n",
      "388.88410713140644 0.14590277777777777 0.3329861111111111 0.56625\n",
      "Train Epoch: 64 [1500/2964 (51%)]\tLoss: 768.185014\n",
      "402.8433319108067 0.13166666666666665 0.3140277777777778 0.5484027777777778\n",
      "Train Epoch: 65 [1500/2964 (51%)]\tLoss: 490.684376\n",
      "396.6727051243925 0.14375 0.33013888888888887 0.5567361111111111\n",
      "Train Epoch: 66 [1500/2964 (51%)]\tLoss: 763.811981\n",
      "401.6400670119893 0.1473611111111111 0.33611111111111114 0.5659027777777778\n",
      "Train Epoch: 67 [1500/2964 (51%)]\tLoss: 629.644144\n",
      "381.73618640794433 0.13819444444444445 0.3215972222222222 0.5588888888888889\n",
      "Train Epoch: 68 [1500/2964 (51%)]\tLoss: 418.303120\n",
      "417.1265362696451 0.13597222222222222 0.3195138888888889 0.5370138888888889\n",
      "Train Epoch: 69 [1500/2964 (51%)]\tLoss: 498.687735\n",
      "383.31761832774697 0.15034722222222222 0.33819444444444446 0.5703472222222222\n",
      "Train Epoch: 70 [1500/2964 (51%)]\tLoss: 533.550186\n",
      "402.3942086090577 0.139375 0.32416666666666666 0.5459027777777777\n",
      "Train Epoch: 71 [1500/2964 (51%)]\tLoss: 490.476171\n",
      "378.86635583213626 0.14729166666666665 0.33493055555555556 0.5611111111111111\n",
      "Train Epoch: 72 [1500/2964 (51%)]\tLoss: 954.369911\n",
      "389.40829360406593 0.14104166666666668 0.32652777777777775 0.5492361111111111\n",
      "Train Epoch: 73 [1500/2964 (51%)]\tLoss: 762.742954\n",
      "366.71511186875716 0.14604166666666665 0.3375 0.5671527777777777\n",
      "Train Epoch: 74 [1500/2964 (51%)]\tLoss: 796.193885\n",
      "368.72427714707203 0.14680555555555555 0.32902777777777775 0.5676388888888889\n",
      "Train Epoch: 75 [1500/2964 (51%)]\tLoss: 655.785344\n",
      "368.76904641596576 0.145 0.3320138888888889 0.5645138888888889\n",
      "Train Epoch: 76 [1500/2964 (51%)]\tLoss: 488.012000\n",
      "396.24430825701523 0.1457638888888889 0.33034722222222224 0.5528472222222223\n",
      "Train Epoch: 77 [1500/2964 (51%)]\tLoss: 927.214516\n",
      "380.7658830445725 0.14777777777777779 0.33944444444444444 0.5689583333333333\n",
      "Train Epoch: 78 [1500/2964 (51%)]\tLoss: 611.800149\n",
      "418.12137087148847 0.13527777777777777 0.3159722222222222 0.5289583333333333\n",
      "Train Epoch: 79 [1500/2964 (51%)]\tLoss: 1323.515660\n",
      "382.4499721310713 0.14375 0.3370138888888889 0.5603472222222222\n",
      "Train Epoch: 80 [1500/2964 (51%)]\tLoss: 974.855249\n",
      "370.87306547009473 0.13979166666666668 0.3242361111111111 0.5627777777777778\n"
     ],
     "output_type": "stream"
    }
   ],
   "source": [
    "epoch_losses = []\n",
    "epoch_test_losses = []\n",
    "epoch_test_acc2 = []\n",
    "epoch_test_acc5 = []\n",
    "epoch_test_acc10 = []\n",
    "for epoch in range(epochs):\n",
    "    loss = train(model, device, train_dataloader, optimizer, epoch, log_interval)\n",
    "    epoch_losses.append(loss)\n",
    "    test_losses, acc2, acc5, acc10 = test(model, device, test_dataloader)\n",
    "    epoch_test_losses.append(test_losses)\n",
    "    epoch_test_acc2.append(acc2)\n",
    "    epoch_test_acc5.append(acc5)\n",
    "    epoch_test_acc10.append(acc10)\n",
    "    "
   ],
   "metadata": {
    "collapsed": false,
    "pycharm": {
     "name": "#%%\n",
     "is_executing": false
    }
   }
  },
  {
   "cell_type": "code",
   "execution_count": 10,
   "outputs": [
    {
     "data": {
      "text/plain": "<Figure size 432x288 with 1 Axes>",
      "image/png": "[encoded data removed]"
     },
     "metadata": {
      "needs_background": "light"
     },
     "output_type": "display_data"
    }
   ],
   "source": [
    "import matplotlib.pyplot as plt\n",
    "A = np.array(epoch_losses)\n",
    "B = np.array(epoch_test_acc10)\n",
    "C = np.array(epoch_test_acc5)\n",
    "D = np.array(epoch_test_acc2)\n",
    "x = range(1,81)\n",
    "plt.plot(x, B.flatten(), label = \"+-10\")\n",
    "plt.plot(x, C.flatten(), label = \"+-5\")\n",
    "plt.plot(x, D.flatten(), label = \"+-2\")\n",
    "plt.xlabel('epochs')\n",
    "plt.ylabel('accurarcy')\n",
    "plt.legend(bbox_to_anchor=(0.7, 0.7))\n",
    "plt.show()"
   ],
   "metadata": {
    "collapsed": false,
    "pycharm": {
     "name": "#%%\n",
     "is_executing": false
    }
   }
  }
 ],
 "metadata": {
  "kernelspec": {
   "display_name": "Python 3",
   "language": "python",
   "name": "python3"
  },
  "language_info": {
   "codemirror_mode": {
    "name": "ipython",
    "version": 2
   },
   "file_extension": ".py",
   "mimetype": "text/x-python",
   "name": "python",
   "nbconvert_exporter": "python",
   "pygments_lexer": "ipython2",
   "version": "2.7.6"
  },
  "pycharm": {
   "stem_cell": {
    "cell_type": "raw",
    "source": [],
    "metadata": {
     "collapsed": false
    }
   }
  }
 },
 "nbformat": 4,
 "nbformat_minor": 0
}