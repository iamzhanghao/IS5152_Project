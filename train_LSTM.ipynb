{
 "cells": [
  {
   "cell_type": "code",
   "execution_count": 12,
   "metadata": {
    "collapsed": true,
    "pycharm": {
     "is_executing": false
    }
   },
   "outputs": [
    {
     "name": "stdout",
     "text": [
      "Loaded  data\\PRSA_Data_Aotizhongxin_20130301-20170228.csv\n",
      "Loaded  data\\PRSA_Data_Changping_20130301-20170228.csv\n",
      "Loaded  data\\PRSA_Data_Dingling_20130301-20170228.csv\n",
      "Loaded  data\\PRSA_Data_Dongsi_20130301-20170228.csv\n",
      "Loaded  data\\PRSA_Data_Guanyuan_20130301-20170228.csv\n",
      "Loaded  data\\PRSA_Data_Gucheng_20130301-20170228.csv\n",
      "Loaded  data\\PRSA_Data_Huairou_20130301-20170228.csv\n",
      "Loaded  data\\PRSA_Data_Nongzhanguan_20130301-20170228.csv\n",
      "Loaded  data\\PRSA_Data_Shunyi_20130301-20170228.csv\n",
      "Loaded  data\\PRSA_Data_Tiantan_20130301-20170228.csv\n",
      "Loaded  data\\PRSA_Data_Wanliu_20130301-20170228.csv\n",
      "Loaded  data\\PRSA_Data_Wanshouxigong_20130301-20170228.csv\n",
      "Applied normalization on  ['PM10', 'SO2', 'NO2', 'CO', 'O3', 'TEMP', 'PRES', 'DEWP', 'RAIN', 'WSPM']\n",
      "Applied normalization on  ['PM10', 'SO2', 'NO2', 'CO', 'O3', 'TEMP', 'PRES', 'DEWP', 'RAIN', 'WSPM']\n"
     ],
     "output_type": "stream"
    },
    {
     "data": {
      "text/plain": "   PM2.5      PM10       SO2       NO2        CO        O3      TEMP  \\\n0    4.0  0.002006  0.007433  0.020671  0.020202  0.071710  0.312195   \n1    8.0  0.006018  0.007433  0.020671  0.020202  0.071710  0.305691   \n2    7.0  0.005015  0.009434  0.031053  0.020202  0.067974  0.305691   \n3    6.0  0.004012  0.021441  0.034514  0.020202  0.067040  0.300813   \n4    3.0  0.001003  0.023442  0.037974  0.020202  0.067040  0.291057   \n5    5.0  0.003009  0.035449  0.058737  0.030303  0.061437  0.287805   \n6    3.0  0.001003  0.035449  0.107185  0.040404  0.046495  0.281301   \n7    3.0  0.004012  0.037450  0.138329  0.040404  0.039957  0.297561   \n8    3.0  0.004012  0.031447  0.145250  0.040404  0.041825  0.325203   \n9    3.0  0.006018  0.023442  0.093342  0.030303  0.054900  0.343089   \n\n       PRES      DEWP  RAIN  ...  WD_NNW  WD_NW  WD_S  WD_SE  WD_SSE  WD_SSW  \\\n0  0.672185  0.339310   0.0  ...       1      0     0      0       0       0   \n1  0.675497  0.347586   0.0  ...       0      0     0      0       0       0   \n2  0.680464  0.347586   0.0  ...       1      0     0      0       0       0   \n3  0.697020  0.331034   0.0  ...       0      1     0      0       0       0   \n4  0.708609  0.329655   0.0  ...       0      0     0      0       0       0   \n5  0.715232  0.328276   0.0  ...       0      0     0      0       0       0   \n6  0.730132  0.335172   0.0  ...       0      0     0      0       0       0   \n7  0.745033  0.335172   0.0  ...       1      0     0      0       0       0   \n8  0.759934  0.333793   0.0  ...       1      0     0      0       0       0   \n9  0.763245  0.332414   0.0  ...       0      0     0      0       0       0   \n\n   WD_SW  WD_W  WD_WNW  WD_WSW  \n0      0     0       0       0  \n1      0     0       0       0  \n2      0     0       0       0  \n3      0     0       0       0  \n4      0     0       0       0  \n5      0     0       0       0  \n6      0     0       0       0  \n7      0     0       0       0  \n8      0     0       0       0  \n9      0     0       0       0  \n\n[10 rows x 27 columns]",
      "text/html": "<div>\n<style scoped>\n    .dataframe tbody tr th:only-of-type {\n        vertical-align: middle;\n    }\n\n    .dataframe tbody tr th {\n        vertical-align: top;\n    }\n\n    .dataframe thead th {\n        text-align: right;\n    }\n</style>\n<table border=\"1\" class=\"dataframe\">\n  <thead>\n    <tr style=\"text-align: right;\">\n      <th></th>\n      <th>PM2.5</th>\n      <th>PM10</th>\n      <th>SO2</th>\n      <th>NO2</th>\n      <th>CO</th>\n      <th>O3</th>\n      <th>TEMP</th>\n      <th>PRES</th>\n      <th>DEWP</th>\n      <th>RAIN</th>\n      <th>...</th>\n      <th>WD_NNW</th>\n      <th>WD_NW</th>\n      <th>WD_S</th>\n      <th>WD_SE</th>\n      <th>WD_SSE</th>\n      <th>WD_SSW</th>\n      <th>WD_SW</th>\n      <th>WD_W</th>\n      <th>WD_WNW</th>\n      <th>WD_WSW</th>\n    </tr>\n  </thead>\n  <tbody>\n    <tr>\n      <td>0</td>\n      <td>4.0</td>\n      <td>0.002006</td>\n      <td>0.007433</td>\n      <td>0.020671</td>\n      <td>0.020202</td>\n      <td>0.071710</td>\n      <td>0.312195</td>\n      <td>0.672185</td>\n      <td>0.339310</td>\n      <td>0.0</td>\n      <td>...</td>\n      <td>1</td>\n      <td>0</td>\n      <td>0</td>\n      <td>0</td>\n      <td>0</td>\n      <td>0</td>\n      <td>0</td>\n      <td>0</td>\n      <td>0</td>\n      <td>0</td>\n    </tr>\n    <tr>\n      <td>1</td>\n      <td>8.0</td>\n      <td>0.006018</td>\n      <td>0.007433</td>\n      <td>0.020671</td>\n      <td>0.020202</td>\n      <td>0.071710</td>\n      <td>0.305691</td>\n      <td>0.675497</td>\n      <td>0.347586</td>\n      <td>0.0</td>\n      <td>...</td>\n      <td>0</td>\n      <td>0</td>\n      <td>0</td>\n      <td>0</td>\n      <td>0</td>\n      <td>0</td>\n      <td>0</td>\n      <td>0</td>\n      <td>0</td>\n      <td>0</td>\n    </tr>\n    <tr>\n      <td>2</td>\n      <td>7.0</td>\n      <td>0.005015</td>\n      <td>0.009434</td>\n      <td>0.031053</td>\n      <td>0.020202</td>\n      <td>0.067974</td>\n      <td>0.305691</td>\n      <td>0.680464</td>\n      <td>0.347586</td>\n      <td>0.0</td>\n      <td>...</td>\n      <td>1</td>\n      <td>0</td>\n      <td>0</td>\n      <td>0</td>\n      <td>0</td>\n      <td>0</td>\n      <td>0</td>\n      <td>0</td>\n      <td>0</td>\n      <td>0</td>\n    </tr>\n    <tr>\n      <td>3</td>\n      <td>6.0</td>\n      <td>0.004012</td>\n      <td>0.021441</td>\n      <td>0.034514</td>\n      <td>0.020202</td>\n      <td>0.067040</td>\n      <td>0.300813</td>\n      <td>0.697020</td>\n      <td>0.331034</td>\n      <td>0.0</td>\n      <td>...</td>\n      <td>0</td>\n      <td>1</td>\n      <td>0</td>\n      <td>0</td>\n      <td>0</td>\n      <td>0</td>\n      <td>0</td>\n      <td>0</td>\n      <td>0</td>\n      <td>0</td>\n    </tr>\n    <tr>\n      <td>4</td>\n      <td>3.0</td>\n      <td>0.001003</td>\n      <td>0.023442</td>\n      <td>0.037974</td>\n      <td>0.020202</td>\n      <td>0.067040</td>\n      <td>0.291057</td>\n      <td>0.708609</td>\n      <td>0.329655</td>\n      <td>0.0</td>\n      <td>...</td>\n      <td>0</td>\n      <td>0</td>\n      <td>0</td>\n      <td>0</td>\n      <td>0</td>\n      <td>0</td>\n      <td>0</td>\n      <td>0</td>\n      <td>0</td>\n      <td>0</td>\n    </tr>\n    <tr>\n      <td>5</td>\n      <td>5.0</td>\n      <td>0.003009</td>\n      <td>0.035449</td>\n      <td>0.058737</td>\n      <td>0.030303</td>\n      <td>0.061437</td>\n      <td>0.287805</td>\n      <td>0.715232</td>\n      <td>0.328276</td>\n      <td>0.0</td>\n      <td>...</td>\n      <td>0</td>\n      <td>0</td>\n      <td>0</td>\n      <td>0</td>\n      <td>0</td>\n      <td>0</td>\n      <td>0</td>\n      <td>0</td>\n      <td>0</td>\n      <td>0</td>\n    </tr>\n    <tr>\n      <td>6</td>\n      <td>3.0</td>\n      <td>0.001003</td>\n      <td>0.035449</td>\n      <td>0.107185</td>\n      <td>0.040404</td>\n      <td>0.046495</td>\n      <td>0.281301</td>\n      <td>0.730132</td>\n      <td>0.335172</td>\n      <td>0.0</td>\n      <td>...</td>\n      <td>0</td>\n      <td>0</td>\n      <td>0</td>\n      <td>0</td>\n      <td>0</td>\n      <td>0</td>\n      <td>0</td>\n      <td>0</td>\n      <td>0</td>\n      <td>0</td>\n    </tr>\n    <tr>\n      <td>7</td>\n      <td>3.0</td>\n      <td>0.004012</td>\n      <td>0.037450</td>\n      <td>0.138329</td>\n      <td>0.040404</td>\n      <td>0.039957</td>\n      <td>0.297561</td>\n      <td>0.745033</td>\n      <td>0.335172</td>\n      <td>0.0</td>\n      <td>...</td>\n      <td>1</td>\n      <td>0</td>\n      <td>0</td>\n      <td>0</td>\n      <td>0</td>\n      <td>0</td>\n      <td>0</td>\n      <td>0</td>\n      <td>0</td>\n      <td>0</td>\n    </tr>\n    <tr>\n      <td>8</td>\n      <td>3.0</td>\n      <td>0.004012</td>\n      <td>0.031447</td>\n      <td>0.145250</td>\n      <td>0.040404</td>\n      <td>0.041825</td>\n      <td>0.325203</td>\n      <td>0.759934</td>\n      <td>0.333793</td>\n      <td>0.0</td>\n      <td>...</td>\n      <td>1</td>\n      <td>0</td>\n      <td>0</td>\n      <td>0</td>\n      <td>0</td>\n      <td>0</td>\n      <td>0</td>\n      <td>0</td>\n      <td>0</td>\n      <td>0</td>\n    </tr>\n    <tr>\n      <td>9</td>\n      <td>3.0</td>\n      <td>0.006018</td>\n      <td>0.023442</td>\n      <td>0.093342</td>\n      <td>0.030303</td>\n      <td>0.054900</td>\n      <td>0.343089</td>\n      <td>0.763245</td>\n      <td>0.332414</td>\n      <td>0.0</td>\n      <td>...</td>\n      <td>0</td>\n      <td>0</td>\n      <td>0</td>\n      <td>0</td>\n      <td>0</td>\n      <td>0</td>\n      <td>0</td>\n      <td>0</td>\n      <td>0</td>\n      <td>0</td>\n    </tr>\n  </tbody>\n</table>\n<p>10 rows × 27 columns</p>\n</div>"
     },
     "metadata": {},
     "output_type": "execute_result",
     "execution_count": 12
    }
   ],
   "source": [
    "from utils import read_data\n",
    "\n",
    "data = read_data(keep_nan=True,keep_dates=False)\n",
    "df_all = data.train_val_df\n",
    "df_test = data.test_df\n",
    "df_all = df_all.drop(columns=[\"station\",\"time_stamp\"])\n",
    "df_test = df_test.drop(columns=[\"station\",\"time_stamp\"])\n",
    "df_all.columns\n",
    "df_all.head(10)"
   ]
  },
  {
   "cell_type": "code",
   "execution_count": 13,
   "outputs": [
    {
     "name": "stdout",
     "text": [
      "(2985, 48, 27)\n"
     ],
     "output_type": "stream"
    }
   ],
   "source": [
    "import numpy as np\n",
    "data = df_all.values.reshape(12,-1,27)[:,-29760:,:]\n",
    "data = data.reshape(-1 ,48,27)\n",
    "data = data[~np.isnan(data).any(axis=(1,2))]\n",
    "print(data.shape)"
   ],
   "metadata": {
    "collapsed": false,
    "pycharm": {
     "name": "#%%\n",
     "is_executing": false
    }
   }
  },
  {
   "cell_type": "code",
   "execution_count": 14,
   "outputs": [],
   "source": [
    "import torch\n",
    "import torch.nn as nn\n",
    "import torch.nn.functional as F\n",
    "import torch.optim as optim\n",
    "import torch.utils.data as tud\n",
    "\n",
    "class TimeSeriesDataset(tud.Dataset):\n",
    "    def __init__(self, data):\n",
    "        self.y = data[:,24:,0]\n",
    "        self.x = data[:,:,1:]\n",
    "    \n",
    "    def __len__(self):\n",
    "        return self.x.shape[0]\n",
    "    \n",
    "    def __getitem__(self, idx):\n",
    "        return self.y[idx], self.x[idx]"
   ],
   "metadata": {
    "collapsed": false,
    "pycharm": {
     "name": "#%%\n",
     "is_executing": false
    }
   }
  },
  {
   "cell_type": "code",
   "execution_count": 15,
   "outputs": [],
   "source": [
    "class LSTM_Model(nn.Module):\n",
    "    def __init__(self):\n",
    "        super(LSTM_Model, self).__init__()\n",
    "        self.LSTM = nn.LSTM(26, 16, batch_first=True)\n",
    "        self.fc1 = nn.Linear(16, 5)\n",
    "        self.fc2 = nn.Linear(5 ,1)\n",
    "        \n",
    "    def forward(self, x):\n",
    "        x, (h_n, h_c) = self.LSTM(x)\n",
    "        x = x[:,24:,:]\n",
    "        x = self.fc1(x)\n",
    "        x = F.relu(x)\n",
    "        x = F.dropout(x, p = 0.1, training = self.training)\n",
    "        x = self.fc2(x)\n",
    "        return x"
   ],
   "metadata": {
    "collapsed": false,
    "pycharm": {
     "name": "#%%\n",
     "is_executing": false
    }
   }
  },
  {
   "cell_type": "code",
   "execution_count": 16,
   "outputs": [],
   "source": [
    "device = \"cuda\" if torch.cuda.is_available() else \"cpu\"\n",
    "learning_rate = 1e-3\n",
    "batch_size = 30\n",
    "epochs = 80\n",
    "test_interval = 5\n",
    "log_interval = 50\n",
    "\n",
    "model = LSTM_Model().to(device).double()\n",
    "optimizer = optim.Adam(model.parameters(), lr=learning_rate)\n",
    "dataset = TimeSeriesDataset(data)\n",
    "train_set, validation_set = torch.utils.data.random_split(dataset, [len(dataset) - 590, 590])\n",
    "train_dataloader = tud.DataLoader(train_set, batch_size=batch_size, shuffle=True)\n",
    "validation_dataloader = tud.DataLoader(validation_set, batch_size=batch_size)"
   ],
   "metadata": {
    "collapsed": false,
    "pycharm": {
     "name": "#%%\n",
     "is_executing": false
    }
   }
  },
  {
   "cell_type": "code",
   "execution_count": 17,
   "outputs": [],
   "source": [
    "def train(model, device, train_loader, optimizer, epoch, log_interval):\n",
    "    model.train()\n",
    "    \n",
    "    losses = []\n",
    "    for batch_idx, (y ,x) in enumerate(train_loader):\n",
    "        y = y.to(device)\n",
    "        x = x.to(device)\n",
    "        \n",
    "        optimizer.zero_grad()\n",
    "        output = model(x)\n",
    "        \n",
    "        loss = F.mse_loss(output, y.view(-1,24,1))\n",
    "        losses.append(loss.item())\n",
    "        \n",
    "        loss.backward()\n",
    "        optimizer.step()\n",
    "        \n",
    "        if (batch_idx + 1) % log_interval == 0:\n",
    "            print('Train Epoch: {} [{}/{} ({:.0f}%)]\\tLoss: {:.6f}'.format(\n",
    "                epoch + 1, (batch_idx + 1) * batch_size, len(train_loader.dataset),\n",
    "                100. * (batch_idx + 1) / len(train_loader), loss.item()))\n",
    "    return losses"
   ],
   "metadata": {
    "collapsed": false,
    "pycharm": {
     "name": "#%%\n",
     "is_executing": false
    }
   }
  },
  {
   "cell_type": "code",
   "execution_count": 18,
   "outputs": [],
   "source": [
    "def test(model, device, test_loader):\n",
    "    model.eval()\n",
    "    losses = []\n",
    "    accuracy10 = []\n",
    "    accuracy15 = []\n",
    "    accuracy20 = []\n",
    "    for batch_idx, (y ,x) in enumerate(test_loader):\n",
    "        y = y.to(device).view(-1,24,1)\n",
    "        x = x.to(device)\n",
    "        \n",
    "        with torch.no_grad():\n",
    "            output = model(x)\n",
    "            loss = F.mse_loss(output, y)\n",
    "            losses.append(loss.item())\n",
    "            diff = output - y\n",
    "            accuracy10.append(len(diff[abs(diff)<=10]))\n",
    "            accuracy15.append(len(diff[abs(diff)<=15]))\n",
    "            accuracy20.append(len(diff[abs(diff)<=20]))\n",
    "    data_size = len(test_loader.dataset) * 24.\n",
    "    print(float(sum(losses))/len(losses), float(sum(accuracy10))/data_size, float(sum(accuracy15))/data_size,\n",
    "          float(sum(accuracy20))/data_size)\n",
    "    return float(sum(losses))/len(losses), float(sum(accuracy10))/data_size, \\\n",
    "           float(sum(accuracy15))/data_size, float(sum(accuracy20))/data_size"
   ],
   "metadata": {
    "collapsed": false,
    "pycharm": {
     "name": "#%%\n",
     "is_executing": false
    }
   }
  },
  {
   "cell_type": "code",
   "execution_count": 19,
   "outputs": [
    {
     "name": "stdout",
     "text": [
      "Train Epoch: 1 [1500/2395 (62%)]\tLoss: 8689.731783\n",
      "11132.748400853523 0.1047316384180791 0.1701271186440678 0.22620056497175142\n",
      "Train Epoch: 2 [1500/2395 (62%)]\tLoss: 10092.153724\n",
      "10627.534213057981 0.1468220338983051 0.20466101694915254 0.2554378531073446\n",
      "Train Epoch: 3 [1500/2395 (62%)]\tLoss: 15535.255105\n",
      "9954.551049187612 0.20466101694915254 0.2554378531073446 0.3001412429378531\n",
      "Train Epoch: 4 [1500/2395 (62%)]\tLoss: 10272.624054\n",
      "9173.25402621925 0.23375706214689265 0.30995762711864405 0.35353107344632767\n",
      "Train Epoch: 5 [1500/2395 (62%)]\tLoss: 8174.619743\n",
      "8348.173006247067 0.21235875706214688 0.32125706214689265 0.4088276836158192\n",
      "Train Epoch: 6 [1500/2395 (62%)]\tLoss: 8172.034168\n",
      "7549.364925871702 0.18093220338983051 0.2747175141242938 0.37662429378531076\n",
      "Train Epoch: 7 [1500/2395 (62%)]\tLoss: 8105.831221\n",
      "6842.373788142836 0.15932203389830507 0.23495762711864407 0.3219632768361582\n",
      "Train Epoch: 8 [1500/2395 (62%)]\tLoss: 10273.951742\n",
      "6265.251845426388 0.13637005649717515 0.21179378531073445 0.2875\n",
      "Train Epoch: 9 [1500/2395 (62%)]\tLoss: 9512.813862\n",
      "5825.597995634921 0.12514124293785311 0.1902542372881356 0.2582627118644068\n",
      "Train Epoch: 10 [1500/2395 (62%)]\tLoss: 9708.929457\n",
      "5525.666227796778 0.11730225988700566 0.1772598870056497 0.23573446327683617\n",
      "Train Epoch: 11 [1500/2395 (62%)]\tLoss: 6293.831497\n",
      "5016.151026211195 0.13481638418079095 0.20466101694915254 0.278954802259887\n",
      "Train Epoch: 12 [1500/2395 (62%)]\tLoss: 8551.158665\n",
      "4326.645214963904 0.24307909604519773 0.34011299435028247 0.4263418079096045\n",
      "Train Epoch: 13 [1500/2395 (62%)]\tLoss: 7002.367064\n",
      "3854.2429951427775 0.32916666666666666 0.4371468926553672 0.5174435028248587\n",
      "Train Epoch: 14 [1500/2395 (62%)]\tLoss: 5128.325902\n",
      "3412.1845495953544 0.3426553672316384 0.4518361581920904 0.5375\n",
      "Train Epoch: 15 [1500/2395 (62%)]\tLoss: 7215.749985\n",
      "3035.8368658458126 0.36885593220338986 0.48015536723163843 0.5627118644067797\n",
      "Train Epoch: 16 [1500/2395 (62%)]\tLoss: 3785.112035\n",
      "2676.0938788418935 0.359816384180791 0.48509887005649716 0.5745056497175142\n",
      "Train Epoch: 17 [1500/2395 (62%)]\tLoss: 2443.025051\n",
      "2430.3516605759387 0.4036723163841808 0.5171610169491525 0.6003531073446328\n",
      "Train Epoch: 18 [1500/2395 (62%)]\tLoss: 2616.280537\n",
      "2186.3973169707497 0.41362994350282484 0.5262711864406779 0.6095338983050848\n",
      "Train Epoch: 19 [1500/2395 (62%)]\tLoss: 2762.312484\n",
      "1850.6185521486816 0.4221045197740113 0.5396186440677966 0.6246468926553672\n",
      "Train Epoch: 20 [1500/2395 (62%)]\tLoss: 4992.410264\n",
      "1589.8797341406605 0.42704802259887004 0.5492937853107345 0.6372881355932203\n",
      "Train Epoch: 21 [1500/2395 (62%)]\tLoss: 1593.804776\n",
      "1447.7264647552852 0.4410310734463277 0.5574152542372881 0.6459745762711865\n",
      "Train Epoch: 22 [1500/2395 (62%)]\tLoss: 1364.060477\n",
      "1286.1579220289113 0.4490819209039548 0.5761299435028249 0.6648305084745763\n",
      "Train Epoch: 23 [1500/2395 (62%)]\tLoss: 1738.101639\n",
      "1213.2362208823947 0.4507062146892655 0.5687853107344633 0.6588983050847458\n",
      "Train Epoch: 24 [1500/2395 (62%)]\tLoss: 1082.435771\n",
      "1099.5837293373663 0.46299435028248587 0.5896186440677966 0.6791666666666667\n",
      "Train Epoch: 25 [1500/2395 (62%)]\tLoss: 2964.885184\n",
      "983.4689984227143 0.46864406779661016 0.6042372881355932 0.6956214689265536\n",
      "Train Epoch: 26 [1500/2395 (62%)]\tLoss: 868.370839\n",
      "969.2532341359226 0.47415254237288135 0.598587570621469 0.6874293785310734\n",
      "Train Epoch: 27 [1500/2395 (62%)]\tLoss: 630.393839\n",
      "893.4647696276413 0.48050847457627116 0.6134887005649717 0.7011299435028249\n",
      "Train Epoch: 28 [1500/2395 (62%)]\tLoss: 706.711643\n",
      "878.9115930416353 0.4814265536723164 0.6089689265536723 0.6956920903954802\n",
      "Train Epoch: 29 [1500/2395 (62%)]\tLoss: 1187.148951\n",
      "803.9730208062015 0.44943502824858755 0.5984463276836158 0.700635593220339\n",
      "Train Epoch: 30 [1500/2395 (62%)]\tLoss: 1376.859563\n",
      "770.577981285889 0.4925847457627119 0.6245762711864407 0.7143361581920904\n",
      "Train Epoch: 31 [1500/2395 (62%)]\tLoss: 806.571691\n",
      "756.3948398568457 0.4956214689265537 0.6230225988700565 0.7159604519774011\n",
      "Train Epoch: 32 [1500/2395 (62%)]\tLoss: 605.748863\n",
      "731.380309937839 0.4772598870056497 0.6193502824858758 0.7136299435028248\n",
      "Train Epoch: 33 [1500/2395 (62%)]\tLoss: 969.576663\n",
      "706.8607882742306 0.4971045197740113 0.6293785310734463 0.7225988700564971\n",
      "Train Epoch: 34 [1500/2395 (62%)]\tLoss: 718.747111\n",
      "685.5615086475389 0.4902542372881356 0.6307203389830508 0.7249293785310734\n",
      "Train Epoch: 35 [1500/2395 (62%)]\tLoss: 1168.956765\n",
      "683.2731087893814 0.4869350282485876 0.6278954802259887 0.723093220338983\n",
      "Train Epoch: 36 [1500/2395 (62%)]\tLoss: 634.224200\n",
      "640.4444698124419 0.4961158192090395 0.635593220338983 0.7331214689265537\n",
      "Train Epoch: 37 [1500/2395 (62%)]\tLoss: 3635.656862\n",
      "642.3442768232096 0.5050141242937853 0.6432909604519774 0.7304378531073447\n",
      "Train Epoch: 38 [1500/2395 (62%)]\tLoss: 1122.531514\n",
      "595.3623911224448 0.5121468926553673 0.6518361581920904 0.7427259887005649\n",
      "Train Epoch: 39 [1500/2395 (62%)]\tLoss: 338.683463\n",
      "760.329693683566 0.46807909604519776 0.5950564971751412 0.6887005649717514\n",
      "Train Epoch: 40 [1500/2395 (62%)]\tLoss: 1248.986934\n",
      "602.5166530455201 0.5064265536723164 0.6430790960451978 0.7377118644067797\n",
      "Train Epoch: 41 [1500/2395 (62%)]\tLoss: 1218.251812\n",
      "578.6775323262248 0.5123587570621468 0.65 0.7413841807909605\n",
      "Train Epoch: 42 [1500/2395 (62%)]\tLoss: 673.307432\n",
      "598.4918093830285 0.5032485875706215 0.6372881355932203 0.72704802259887\n",
      "Train Epoch: 43 [1500/2395 (62%)]\tLoss: 1322.664111\n",
      "591.5304730044102 0.5014830508474576 0.6436440677966102 0.7345338983050848\n",
      "Train Epoch: 44 [1500/2395 (62%)]\tLoss: 493.035323\n",
      "582.5454694212553 0.5125 0.6464689265536723 0.7330508474576272\n",
      "Train Epoch: 45 [1500/2395 (62%)]\tLoss: 591.517877\n",
      "551.6747312546372 0.5016949152542373 0.6403248587570621 0.7373587570621469\n",
      "Train Epoch: 46 [1500/2395 (62%)]\tLoss: 619.602417\n",
      "487.4257364779288 0.525635593220339 0.6669491525423729 0.753954802259887\n",
      "Train Epoch: 47 [1500/2395 (62%)]\tLoss: 945.998244\n",
      "512.9414221574456 0.5146892655367231 0.6526836158192091 0.7486581920903955\n",
      "Train Epoch: 48 [1500/2395 (62%)]\tLoss: 1016.484711\n",
      "446.92053429778343 0.5263418079096045 0.6725282485875707 0.7679378531073446\n",
      "Train Epoch: 49 [1500/2395 (62%)]\tLoss: 376.410103\n",
      "455.4933488500686 0.5302259887005649 0.6728813559322034 0.7657485875706215\n",
      "Train Epoch: 50 [1500/2395 (62%)]\tLoss: 932.317379\n",
      "488.40679580300684 0.5213983050847457 0.6524717514124294 0.7475282485875706\n",
      "Train Epoch: 51 [1500/2395 (62%)]\tLoss: 1079.058050\n",
      "455.2949438940541 0.5281779661016949 0.6774011299435029 0.7678672316384181\n",
      "Train Epoch: 52 [1500/2395 (62%)]\tLoss: 687.410957\n",
      "496.4171838879528 0.5199858757062147 0.6573446327683616 0.7521892655367232\n",
      "Train Epoch: 53 [1500/2395 (62%)]\tLoss: 672.559553\n",
      "428.01136972060283 0.5141949152542373 0.669774011299435 0.7670197740112994\n",
      "Train Epoch: 54 [1500/2395 (62%)]\tLoss: 564.820402\n",
      "420.0595638445211 0.5305084745762711 0.6819915254237288 0.7748587570621469\n",
      "Train Epoch: 55 [1500/2395 (62%)]\tLoss: 836.116075\n",
      "430.9161181175252 0.532909604519774 0.6753531073446327 0.7688559322033899\n",
      "Train Epoch: 56 [1500/2395 (62%)]\tLoss: 1505.586959\n",
      "415.0511613666214 0.5413135593220338 0.6828389830508474 0.7738700564971751\n",
      "Train Epoch: 57 [1500/2395 (62%)]\tLoss: 1024.416725\n",
      "427.51373672245035 0.5346045197740112 0.6778954802259887 0.7701271186440678\n",
      "Train Epoch: 58 [1500/2395 (62%)]\tLoss: 808.033252\n",
      "425.0009196434643 0.5347457627118644 0.6802259887005649 0.7740819209039548\n",
      "Train Epoch: 59 [1500/2395 (62%)]\tLoss: 913.769514\n",
      "414.7576516847915 0.5342514124293786 0.6807203389830508 0.775776836158192\n",
      "Train Epoch: 60 [1500/2395 (62%)]\tLoss: 1198.669584\n",
      "459.96986643042 0.5221751412429378 0.6541666666666667 0.7478813559322034\n",
      "Train Epoch: 61 [1500/2395 (62%)]\tLoss: 496.090368\n",
      "432.63984608216214 0.5221045197740113 0.6758474576271186 0.7702683615819209\n",
      "Train Epoch: 62 [1500/2395 (62%)]\tLoss: 967.068724\n",
      "440.65061261450967 0.5282485875706214 0.6619350282485875 0.7584745762711864\n",
      "Train Epoch: 63 [1500/2395 (62%)]\tLoss: 416.988759\n",
      "498.29514829073105 0.5242231638418079 0.6583333333333333 0.747457627118644\n",
      "Train Epoch: 64 [1500/2395 (62%)]\tLoss: 650.894478\n",
      "408.03935931930164 0.5403954802259887 0.6846045197740113 0.7805790960451977\n",
      "Train Epoch: 65 [1500/2395 (62%)]\tLoss: 1136.577914\n",
      "387.3490567083377 0.5339689265536723 0.686864406779661 0.7820621468926554\n",
      "Train Epoch: 66 [1500/2395 (62%)]\tLoss: 643.888658\n",
      "410.7858606594913 0.536723163841808 0.675 0.7701977401129944\n",
      "Train Epoch: 67 [1500/2395 (62%)]\tLoss: 510.759373\n",
      "389.01415507769 0.5452683615819209 0.6907485875706215 0.7826271186440678\n",
      "Train Epoch: 68 [1500/2395 (62%)]\tLoss: 771.858178\n",
      "381.9397174830586 0.5438559322033898 0.6937146892655367 0.7869350282485875\n",
      "Train Epoch: 69 [1500/2395 (62%)]\tLoss: 526.410270\n",
      "385.64532458539264 0.5422316384180791 0.6882062146892656 0.782132768361582\n",
      "Train Epoch: 70 [1500/2395 (62%)]\tLoss: 751.544122\n",
      "392.99955770841154 0.5399717514124294 0.6853813559322034 0.7819915254237289\n",
      "Train Epoch: 71 [1500/2395 (62%)]\tLoss: 581.172664\n",
      "388.670652111917 0.544138418079096 0.6898305084745763 0.7844632768361582\n",
      "Train Epoch: 72 [1500/2395 (62%)]\tLoss: 823.314303\n",
      "400.66580162171965 0.5380649717514124 0.6804378531073446 0.7745056497175141\n",
      "Train Epoch: 73 [1500/2395 (62%)]\tLoss: 648.433503\n",
      "431.96204890577974 0.5312853107344633 0.6711864406779661 0.7705508474576271\n",
      "Train Epoch: 74 [1500/2395 (62%)]\tLoss: 645.284730\n",
      "381.3436005712118 0.5423022598870056 0.6935734463276836 0.7865819209039548\n",
      "Train Epoch: 75 [1500/2395 (62%)]\tLoss: 663.459291\n",
      "393.354516260087 0.5356638418079096 0.6862994350282486 0.7812146892655367\n",
      "Train Epoch: 76 [1500/2395 (62%)]\tLoss: 511.043489\n",
      "394.55983006616214 0.5389830508474577 0.6860169491525424 0.7820621468926554\n",
      "Train Epoch: 77 [1500/2395 (62%)]\tLoss: 539.647126\n",
      "409.0817236118288 0.5369350282485875 0.6764830508474576 0.769774011299435\n",
      "Train Epoch: 78 [1500/2395 (62%)]\tLoss: 572.483948\n",
      "376.7135058218782 0.5430084745762712 0.6920197740112994 0.7877118644067796\n",
      "Train Epoch: 79 [1500/2395 (62%)]\tLoss: 665.118433\n",
      "383.19655078539256 0.5461158192090395 0.6927966101694916 0.7850988700564971\n",
      "Train Epoch: 80 [1500/2395 (62%)]\tLoss: 1072.617895\n",
      "367.7113698566462 0.5482344632768361 0.6977401129943502 0.7915960451977401\n"
     ],
     "output_type": "stream"
    }
   ],
   "source": [
    "epoch_losses = []\n",
    "epoch_test_losses = []\n",
    "epoch_test_acc10 = []\n",
    "epoch_test_acc15 = []\n",
    "epoch_test_acc20 = []\n",
    "for epoch in range(epochs):\n",
    "    loss = train(model, device, train_dataloader, optimizer, epoch, log_interval)\n",
    "    epoch_losses.append(loss)\n",
    "    test_losses, acc10, acc15, acc20 = test(model, device, validation_dataloader)\n",
    "    epoch_test_losses.append(test_losses)\n",
    "    epoch_test_acc10.append(acc10)\n",
    "    epoch_test_acc15.append(acc15)\n",
    "    epoch_test_acc20.append(acc20)\n",
    "    "
   ],
   "metadata": {
    "collapsed": false,
    "pycharm": {
     "name": "#%%\n",
     "is_executing": false
    }
   }
  },
  {
   "cell_type": "code",
   "execution_count": 20,
   "outputs": [
    {
     "data": {
      "text/plain": "[<matplotlib.lines.Line2D at 0x1c404fc7448>]"
     },
     "metadata": {},
     "output_type": "execute_result",
     "execution_count": 20
    },
    {
     "data": {
      "text/plain": "<Figure size 432x288 with 1 Axes>",
      "image/png": "[encoded data removed]"
     },
     "metadata": {
      "needs_background": "light"
     },
     "output_type": "display_data"
    }
   ],
   "source": [
    "import matplotlib.pyplot as plt\n",
    "A = np.array(epoch_losses)\n",
    "plt.plot(A.flatten())"
   ],
   "metadata": {
    "collapsed": false,
    "pycharm": {
     "name": "#%%\n",
     "is_executing": false
    }
   }
  },
  {
   "cell_type": "code",
   "execution_count": 21,
   "outputs": [
    {
     "data": {
      "text/plain": "<Figure size 432x288 with 1 Axes>",
      "image/png": "[encoded data removed]"
     },
     "metadata": {
      "needs_background": "light"
     },
     "output_type": "display_data"
    }
   ],
   "source": [
    "B = np.array(epoch_test_acc20)\n",
    "C = np.array(epoch_test_acc15)\n",
    "D = np.array(epoch_test_acc10)\n",
    "x = range(1,81)\n",
    "plt.plot(x, B.flatten(), label = \"+-20\")\n",
    "plt.plot(x, C.flatten(), label = \"+-15\")\n",
    "plt.plot(x, D.flatten(), label = \"+-10\")\n",
    "plt.xlabel('epochs')\n",
    "plt.ylabel('accurarcy')\n",
    "plt.legend(bbox_to_anchor=(0.7, 0.7))\n",
    "plt.show()"
   ],
   "metadata": {
    "collapsed": false,
    "pycharm": {
     "name": "#%%\n",
     "is_executing": false
    }
   }
  },
  {
   "cell_type": "code",
   "execution_count": 22,
   "outputs": [
    {
     "name": "stdout",
     "text": [
      "(594, 48, 27)\n"
     ],
     "output_type": "stream"
    }
   ],
   "source": [
    "#inference on test data\n",
    "test_data = df_test.values.reshape(12,-1,27)[:,-5232:,:]\n",
    "test_data = test_data.reshape(-1 ,48,27)\n",
    "test_data = test_data[~np.isnan(test_data).any(axis=(1,2))]\n",
    "print(test_data.shape)\n",
    "test_set = TimeSeriesDataset(test_data)\n",
    "test_dataloader = tud.DataLoader(test_set, batch_size=batch_size)"
   ],
   "metadata": {
    "collapsed": false,
    "pycharm": {
     "name": "#%%\n",
     "is_executing": false
    }
   }
  },
  {
   "cell_type": "code",
   "execution_count": 23,
   "outputs": [
    {
     "name": "stdout",
     "text": [
      "588.0120628057017 0.5611672278338945 0.6889029180695847 0.7716049382716049\n"
     ],
     "output_type": "stream"
    }
   ],
   "source": [
    "test_losses, acc10, acc15, acc20 = test(model, device, test_dataloader)"
   ],
   "metadata": {
    "collapsed": false,
    "pycharm": {
     "name": "#%%\n",
     "is_executing": false
    }
   }
  }
 ],
 "metadata": {
  "kernelspec": {
   "display_name": "Python 3",
   "language": "python",
   "name": "python3"
  },
  "language_info": {
   "codemirror_mode": {
    "name": "ipython",
    "version": 2
   },
   "file_extension": ".py",
   "mimetype": "text/x-python",
   "name": "python",
   "nbconvert_exporter": "python",
   "pygments_lexer": "ipython2",
   "version": "2.7.6"
  },
  "pycharm": {
   "stem_cell": {
    "cell_type": "raw",
    "source": [],
    "metadata": {
     "collapsed": false
    }
   }
  }
 },
 "nbformat": 4,
 "nbformat_minor": 0
}