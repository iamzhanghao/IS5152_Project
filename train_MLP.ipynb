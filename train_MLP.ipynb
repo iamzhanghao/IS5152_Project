{
 "cells": [
  {
   "cell_type": "code",
   "execution_count": 1,
   "metadata": {
    "collapsed": true,
    "pycharm": {
     "is_executing": false
    }
   },
   "outputs": [
    {
     "name": "stdout",
     "text": [
      "Loaded  data\\PRSA_Data_Aotizhongxin_20130301-20170228.csv\n",
      "Loaded  data\\PRSA_Data_Changping_20130301-20170228.csv\n",
      "Loaded  data\\PRSA_Data_Dingling_20130301-20170228.csv\n",
      "Loaded  data\\PRSA_Data_Dongsi_20130301-20170228.csv\n",
      "Loaded  data\\PRSA_Data_Guanyuan_20130301-20170228.csv\n",
      "Loaded  data\\PRSA_Data_Gucheng_20130301-20170228.csv\n",
      "Loaded  data\\PRSA_Data_Huairou_20130301-20170228.csv\n",
      "Loaded  data\\PRSA_Data_Nongzhanguan_20130301-20170228.csv\n",
      "Loaded  data\\PRSA_Data_Shunyi_20130301-20170228.csv\n",
      "Loaded  data\\PRSA_Data_Tiantan_20130301-20170228.csv\n",
      "Loaded  data\\PRSA_Data_Wanliu_20130301-20170228.csv\n",
      "Loaded  data\\PRSA_Data_Wanshouxigong_20130301-20170228.csv\n",
      "Applied normalization on  ['PM10', 'SO2', 'NO2', 'CO', 'O3', 'TEMP', 'PRES', 'DEWP', 'RAIN', 'WSPM']\n",
      "35064 rows per station, total 382168 rows\n"
     ],
     "output_type": "stream"
    },
    {
     "data": {
      "text/plain": "Index(['PM2.5', 'PM10', 'SO2', 'NO2', 'CO', 'O3', 'TEMP', 'PRES', 'DEWP',\n       'RAIN', 'WSPM', 'WD_E', 'WD_ENE', 'WD_ESE', 'WD_N', 'WD_NE', 'WD_NNE',\n       'WD_NNW', 'WD_NW', 'WD_S', 'WD_SE', 'WD_SSE', 'WD_SSW', 'WD_SW', 'WD_W',\n       'WD_WNW', 'WD_WSW'],\n      dtype='object')"
     },
     "metadata": {},
     "output_type": "execute_result",
     "execution_count": 1
    }
   ],
   "source": [
    "#data preparation\n",
    "from utils import read_data\n",
    "\n",
    "count_per_station, df_all = read_data(True)\n",
    "df_all = df_all.drop(columns=[\"time_stamp\",\"station\"])\n",
    "df_all.columns"
   ]
  },
  {
   "cell_type": "code",
   "execution_count": 2,
   "outputs": [],
   "source": [
    "import torch\n",
    "import torch.nn as nn\n",
    "import torch.nn.functional as F\n",
    "import torch.optim as optim\n",
    "import torch.utils.data as tud\n",
    "import numpy as np\n",
    "\n",
    "class MLPDataset(tud.Dataset):\n",
    "    def __init__(self, data):\n",
    "        self.y = data[\"PM2.5\"].values\n",
    "        self.x = data[data.columns[1:]].values\n",
    "        \n",
    "    def __len__(self):\n",
    "        return len(self.x)\n",
    "    \n",
    "    def __getitem__(self, idx):\n",
    "        return self.y[idx], self.x[idx]\n",
    "    "
   ],
   "metadata": {
    "collapsed": false,
    "pycharm": {
     "name": "#%%\n",
     "is_executing": false
    }
   }
  },
  {
   "cell_type": "code",
   "execution_count": 3,
   "outputs": [],
   "source": [
    "model = nn.Sequential(\n",
    "    nn.Linear(26,10),\n",
    "    nn.ReLU(),\n",
    "    nn.Linear(10, 3),\n",
    "    nn.ReLU(),\n",
    "    nn.Dropout(0.1),\n",
    "    nn.Linear(3, 1)\n",
    ")\n"
   ],
   "metadata": {
    "collapsed": false,
    "pycharm": {
     "name": "#%%\n",
     "is_executing": false
    }
   }
  },
  {
   "cell_type": "code",
   "execution_count": 4,
   "outputs": [],
   "source": [
    "device = \"cuda\" if torch.cuda.is_available() else \"cpu\"\n",
    "learning_rate = 1e-3\n",
    "batch_size = 300\n",
    "epochs = 80\n",
    "test_interval = 5\n",
    "log_interval = 1000\n",
    "\n",
    "model = model.to(device).double()\n",
    "optimizer = optim.Adam(model.parameters(), lr=learning_rate)\n",
    "mlpDataset = MLPDataset(df_all)\n",
    "train_set, test_set = torch.utils.data.random_split(mlpDataset, [len(mlpDataset) - 7000, 7000])\n",
    "train_dataloader = tud.DataLoader(train_set, batch_size=batch_size, shuffle=True)\n",
    "test_dataloader = tud.DataLoader(test_set, batch_size=batch_size)"
   ],
   "metadata": {
    "collapsed": false,
    "pycharm": {
     "name": "#%%\n",
     "is_executing": false
    }
   }
  },
  {
   "cell_type": "code",
   "execution_count": 5,
   "outputs": [],
   "source": [
    "def train(model, device, train_loader, optimizer, epoch, log_interval):\n",
    "    model.train()\n",
    "    \n",
    "    losses = []\n",
    "    for batch_idx, (y ,x) in enumerate(train_loader):\n",
    "        y = y.to(device).double()\n",
    "        x = x.to(device)\n",
    "        \n",
    "        optimizer.zero_grad()\n",
    "        output = model(x)\n",
    "        \n",
    "        loss = F.mse_loss(output, y.view(-1,1))\n",
    "        losses.append(loss.item())\n",
    "        \n",
    "        loss.backward()\n",
    "        optimizer.step()\n",
    "        \n",
    "        if (batch_idx + 1) % log_interval == 0:\n",
    "            print('Train Epoch: {} [{}/{} ({:.0f}%)]\\tLoss: {:.6f}'.format(\n",
    "                epoch + 1, (batch_idx + 1) * batch_size, len(train_loader.dataset),\n",
    "                100. * (batch_idx + 1) / len(train_loader), loss.item()))\n",
    "    return losses"
   ],
   "metadata": {
    "collapsed": false,
    "pycharm": {
     "name": "#%%\n",
     "is_executing": false
    }
   }
  },
  {
   "cell_type": "code",
   "execution_count": 6,
   "outputs": [],
   "source": [
    "def test(model, device, test_loader):\n",
    "    model.eval()\n",
    "    losses = []\n",
    "    accuracy2 = []\n",
    "    accuracy5 = []\n",
    "    accuracy10 = []\n",
    "    for batch_idx, (y ,x) in enumerate(test_loader):\n",
    "        y = y.to(device).double().view(-1,1)\n",
    "        x = x.to(device)\n",
    "        \n",
    "        with torch.no_grad():\n",
    "            output = model(x)\n",
    "            loss = F.mse_loss(output, y)\n",
    "            losses.append(loss.item())\n",
    "            diff = output - y\n",
    "            accuracy2.append(len(diff[abs(diff)<=2]))\n",
    "            accuracy5.append(len(diff[abs(diff)<=5]))\n",
    "            accuracy10.append(len(diff[abs(diff)<=10]))\n",
    "    \n",
    "    data_size = len(test_loader.dataset)\n",
    "    print(float(sum(losses))/len(losses), float(sum(accuracy2))/data_size, float(sum(accuracy5))/data_size,\n",
    "          float(sum(accuracy10))/data_size)\n",
    "    return float(sum(losses))/len(losses), float(sum(accuracy2))/data_size, \\\n",
    "           float(sum(accuracy5))/data_size, float(sum(accuracy10))/data_size\n",
    "        \n",
    "            \n",
    "    "
   ],
   "metadata": {
    "collapsed": false,
    "pycharm": {
     "name": "#%%\n",
     "is_executing": false
    }
   }
  },
  {
   "cell_type": "code",
   "execution_count": 7,
   "outputs": [
    {
     "name": "stdout",
     "text": [
      "Train Epoch: 1 [300000/375168 (80%)]\tLoss: 5665.283723\n",
      "4788.690644864472 0.022714285714285715 0.06 0.11957142857142856\n",
      "Train Epoch: 2 [300000/375168 (80%)]\tLoss: 2776.862166\n",
      "1885.2326981726508 0.05985714285714286 0.14257142857142857 0.29114285714285715\n",
      "Train Epoch: 3 [300000/375168 (80%)]\tLoss: 2962.060161\n",
      "1334.8497145734727 0.08385714285714285 0.19742857142857143 0.3737142857142857\n",
      "Train Epoch: 4 [300000/375168 (80%)]\tLoss: 3035.451022\n",
      "1190.3506973218498 0.09514285714285714 0.225 0.4022857142857143\n",
      "Train Epoch: 5 [300000/375168 (80%)]\tLoss: 1903.528463\n",
      "1098.5114024562988 0.10442857142857143 0.23314285714285715 0.42114285714285715\n",
      "Train Epoch: 6 [300000/375168 (80%)]\tLoss: 2586.476535\n",
      "1032.0285681323294 0.09885714285714285 0.24628571428571427 0.431\n",
      "Train Epoch: 7 [300000/375168 (80%)]\tLoss: 1906.860969\n",
      "1033.3200180908677 0.10614285714285714 0.2592857142857143 0.4352857142857143\n",
      "Train Epoch: 8 [300000/375168 (80%)]\tLoss: 1980.295549\n",
      "1029.6069838224125 0.10957142857142857 0.2682857142857143 0.43885714285714283\n",
      "Train Epoch: 9 [300000/375168 (80%)]\tLoss: 1642.213319\n",
      "1002.322539852424 0.11142857142857143 0.2551428571428571 0.44114285714285717\n",
      "Train Epoch: 10 [300000/375168 (80%)]\tLoss: 1657.947524\n",
      "1016.229815098885 0.11028571428571429 0.25642857142857145 0.44571428571428573\n",
      "Train Epoch: 11 [300000/375168 (80%)]\tLoss: 1678.704191\n",
      "1019.8617092811346 0.10014285714285714 0.25414285714285717 0.452\n",
      "Train Epoch: 12 [300000/375168 (80%)]\tLoss: 2918.100703\n",
      "1001.8108455900782 0.10671428571428572 0.263 0.45371428571428574\n",
      "Train Epoch: 13 [300000/375168 (80%)]\tLoss: 2323.720320\n",
      "981.8810101040284 0.099 0.24828571428571428 0.45042857142857146\n",
      "Train Epoch: 14 [300000/375168 (80%)]\tLoss: 1274.059101\n",
      "1004.386735663306 0.101 0.25485714285714284 0.4534285714285714\n",
      "Train Epoch: 15 [300000/375168 (80%)]\tLoss: 1223.077275\n",
      "992.3543455593311 0.097 0.24885714285714286 0.45071428571428573\n",
      "Train Epoch: 16 [300000/375168 (80%)]\tLoss: 1960.325561\n",
      "991.392001795398 0.09771428571428571 0.24885714285714286 0.4492857142857143\n",
      "Train Epoch: 17 [300000/375168 (80%)]\tLoss: 1204.010325\n",
      "1003.0353242863483 0.09785714285714285 0.24757142857142858 0.44971428571428573\n",
      "Train Epoch: 18 [300000/375168 (80%)]\tLoss: 937.796285\n",
      "973.6136435901 0.09285714285714286 0.23942857142857144 0.4482857142857143\n",
      "Train Epoch: 19 [300000/375168 (80%)]\tLoss: 1188.320726\n",
      "995.6105466955679 0.094 0.24042857142857144 0.44742857142857145\n",
      "Train Epoch: 20 [300000/375168 (80%)]\tLoss: 1027.788300\n",
      "970.6646094359098 0.08985714285714286 0.23214285714285715 0.444\n",
      "Train Epoch: 21 [300000/375168 (80%)]\tLoss: 2305.054607\n",
      "979.0684858057057 0.09442857142857143 0.24071428571428571 0.44442857142857145\n",
      "Train Epoch: 22 [300000/375168 (80%)]\tLoss: 2013.722952\n",
      "967.0064908468752 0.094 0.237 0.4432857142857143\n",
      "Train Epoch: 23 [300000/375168 (80%)]\tLoss: 1423.654948\n",
      "976.4111612981033 0.09228571428571429 0.23185714285714284 0.44114285714285717\n",
      "Train Epoch: 24 [300000/375168 (80%)]\tLoss: 1500.853792\n",
      "962.7485646569422 0.09428571428571429 0.2362857142857143 0.44342857142857145\n",
      "Train Epoch: 25 [300000/375168 (80%)]\tLoss: 1349.265767\n",
      "960.9645866911219 0.09014285714285715 0.22714285714285715 0.4392857142857143\n",
      "Train Epoch: 26 [300000/375168 (80%)]\tLoss: 1667.114908\n",
      "931.8352508094104 0.082 0.217 0.42957142857142855\n",
      "Train Epoch: 27 [300000/375168 (80%)]\tLoss: 1439.702449\n",
      "938.5825022297937 0.093 0.23114285714285715 0.43742857142857144\n",
      "Train Epoch: 28 [300000/375168 (80%)]\tLoss: 2418.844834\n",
      "930.4289820950607 0.08742857142857142 0.22342857142857142 0.4342857142857143\n",
      "Train Epoch: 29 [300000/375168 (80%)]\tLoss: 1587.255216\n",
      "909.5766917797656 0.09042857142857143 0.22957142857142857 0.43814285714285717\n",
      "Train Epoch: 30 [300000/375168 (80%)]\tLoss: 1318.185108\n",
      "911.3398414415454 0.09014285714285715 0.23142857142857143 0.44042857142857145\n",
      "Train Epoch: 31 [300000/375168 (80%)]\tLoss: 1627.188470\n",
      "879.6179311570337 0.08757142857142858 0.2312857142857143 0.4412857142857143\n",
      "Train Epoch: 32 [300000/375168 (80%)]\tLoss: 2469.972107\n",
      "868.3037824471708 0.08857142857142856 0.23 0.4392857142857143\n",
      "Train Epoch: 33 [300000/375168 (80%)]\tLoss: 1191.639651\n",
      "834.688456674099 0.09142857142857143 0.23142857142857143 0.4432857142857143\n",
      "Train Epoch: 34 [300000/375168 (80%)]\tLoss: 1383.963964\n",
      "830.3215460937689 0.086 0.22657142857142856 0.4421428571428571\n",
      "Train Epoch: 35 [300000/375168 (80%)]\tLoss: 1930.238029\n",
      "817.222942871961 0.09028571428571429 0.228 0.4422857142857143\n",
      "Train Epoch: 36 [300000/375168 (80%)]\tLoss: 1041.997870\n",
      "808.4714277465447 0.09385714285714286 0.235 0.44657142857142856\n",
      "Train Epoch: 37 [300000/375168 (80%)]\tLoss: 1095.999311\n",
      "798.9629254415928 0.09842857142857143 0.23657142857142857 0.45271428571428574\n",
      "Train Epoch: 38 [300000/375168 (80%)]\tLoss: 1298.133131\n",
      "778.6958000999833 0.10214285714285715 0.25257142857142856 0.4622857142857143\n",
      "Train Epoch: 39 [300000/375168 (80%)]\tLoss: 979.363925\n",
      "763.293845544784 0.09742857142857143 0.24242857142857144 0.4551428571428571\n",
      "Train Epoch: 40 [300000/375168 (80%)]\tLoss: 2623.802487\n",
      "768.7951797548006 0.10485714285714286 0.252 0.4614285714285714\n",
      "Train Epoch: 41 [300000/375168 (80%)]\tLoss: 1064.185937\n",
      "769.0006485522299 0.103 0.241 0.4531428571428571\n",
      "Train Epoch: 42 [300000/375168 (80%)]\tLoss: 1481.322715\n",
      "749.1674139710025 0.107 0.26371428571428573 0.4684285714285714\n",
      "Train Epoch: 43 [300000/375168 (80%)]\tLoss: 872.718920\n",
      "753.6679857496132 0.09957142857142857 0.2397142857142857 0.4492857142857143\n",
      "Train Epoch: 44 [300000/375168 (80%)]\tLoss: 2049.625513\n",
      "739.8289325740269 0.099 0.2342857142857143 0.447\n",
      "Train Epoch: 45 [300000/375168 (80%)]\tLoss: 1155.854589\n",
      "743.8007123199818 0.09757142857142857 0.2332857142857143 0.44542857142857145\n",
      "Train Epoch: 46 [300000/375168 (80%)]\tLoss: 1188.265971\n",
      "729.4376201692866 0.10428571428571429 0.24557142857142858 0.4552857142857143\n",
      "Train Epoch: 47 [300000/375168 (80%)]\tLoss: 1690.960021\n",
      "733.3148709655375 0.099 0.2302857142857143 0.4451428571428571\n",
      "Train Epoch: 48 [300000/375168 (80%)]\tLoss: 772.646809\n",
      "725.6165128746903 0.095 0.2267142857142857 0.43714285714285717\n",
      "Train Epoch: 49 [300000/375168 (80%)]\tLoss: 1044.968596\n",
      "731.6067872437952 0.09085714285714286 0.22014285714285714 0.43142857142857144\n",
      "Train Epoch: 50 [300000/375168 (80%)]\tLoss: 1532.687869\n",
      "702.4259033858689 0.10085714285714285 0.24414285714285713 0.45685714285714285\n",
      "Train Epoch: 51 [300000/375168 (80%)]\tLoss: 979.464661\n",
      "722.7164148979203 0.097 0.23442857142857143 0.445\n",
      "Train Epoch: 52 [300000/375168 (80%)]\tLoss: 930.513163\n",
      "710.6375335612425 0.10057142857142858 0.2352857142857143 0.4441428571428571\n",
      "Train Epoch: 53 [300000/375168 (80%)]\tLoss: 1420.811651\n",
      "714.0276722948225 0.092 0.22071428571428572 0.42942857142857144\n",
      "Train Epoch: 54 [300000/375168 (80%)]\tLoss: 1032.012198\n",
      "688.6130653196933 0.09971428571428571 0.23314285714285715 0.44985714285714284\n",
      "Train Epoch: 55 [300000/375168 (80%)]\tLoss: 1140.149510\n",
      "693.1029571164717 0.10185714285714285 0.23557142857142857 0.447\n",
      "Train Epoch: 56 [300000/375168 (80%)]\tLoss: 1114.882904\n",
      "697.7333975648658 0.09985714285714285 0.23042857142857143 0.4421428571428571\n",
      "Train Epoch: 57 [300000/375168 (80%)]\tLoss: 1735.290361\n",
      "709.7990314044458 0.09028571428571429 0.223 0.42714285714285716\n",
      "Train Epoch: 58 [300000/375168 (80%)]\tLoss: 1425.156353\n",
      "692.5021522613928 0.09771428571428571 0.234 0.44571428571428573\n",
      "Train Epoch: 59 [300000/375168 (80%)]\tLoss: 1428.264523\n",
      "701.9585730764506 0.08442857142857142 0.21514285714285714 0.41828571428571426\n",
      "Train Epoch: 60 [300000/375168 (80%)]\tLoss: 1712.209301\n",
      "690.9008477990484 0.09085714285714286 0.22442857142857142 0.43042857142857144\n",
      "Train Epoch: 61 [300000/375168 (80%)]\tLoss: 1186.680657\n",
      "703.1621082552846 0.09257142857142857 0.2257142857142857 0.42657142857142855\n",
      "Train Epoch: 62 [300000/375168 (80%)]\tLoss: 1039.073283\n",
      "685.3315690668156 0.09142857142857143 0.22442857142857142 0.43142857142857144\n",
      "Train Epoch: 63 [300000/375168 (80%)]\tLoss: 1575.233928\n",
      "687.4386760196129 0.10185714285714285 0.23142857142857143 0.43757142857142856\n",
      "Train Epoch: 64 [300000/375168 (80%)]\tLoss: 1056.454979\n",
      "702.6869854530678 0.08457142857142858 0.211 0.41\n",
      "Train Epoch: 65 [300000/375168 (80%)]\tLoss: 814.889766\n",
      "691.5146372655696 0.08057142857142857 0.20757142857142857 0.408\n",
      "Train Epoch: 66 [300000/375168 (80%)]\tLoss: 1118.527629\n",
      "682.7476327054152 0.08885714285714286 0.21771428571428572 0.42514285714285716\n",
      "Train Epoch: 67 [300000/375168 (80%)]\tLoss: 1818.112512\n",
      "682.8791393180546 0.09185714285714286 0.22514285714285714 0.4235714285714286\n",
      "Train Epoch: 68 [300000/375168 (80%)]\tLoss: 862.909598\n",
      "690.1581916665345 0.08342857142857144 0.21114285714285713 0.41514285714285715\n",
      "Train Epoch: 69 [300000/375168 (80%)]\tLoss: 1671.249968\n",
      "680.2801365210229 0.09614285714285714 0.22428571428571428 0.42842857142857144\n",
      "Train Epoch: 70 [300000/375168 (80%)]\tLoss: 1665.601786\n",
      "691.16294196908 0.09042857142857143 0.21971428571428572 0.4188571428571429\n",
      "Train Epoch: 71 [300000/375168 (80%)]\tLoss: 897.972823\n",
      "692.1684880685988 0.093 0.22614285714285715 0.4215714285714286\n",
      "Train Epoch: 72 [300000/375168 (80%)]\tLoss: 1049.111983\n",
      "687.9985417329061 0.08885714285714286 0.21728571428571428 0.4217142857142857\n",
      "Train Epoch: 73 [300000/375168 (80%)]\tLoss: 1201.586113\n",
      "681.6156794559827 0.08585714285714285 0.211 0.4188571428571429\n",
      "Train Epoch: 74 [300000/375168 (80%)]\tLoss: 919.085389\n",
      "693.1125828408652 0.09071428571428572 0.22442857142857142 0.4215714285714286\n",
      "Train Epoch: 75 [300000/375168 (80%)]\tLoss: 1621.474172\n",
      "685.4060335313766 0.07857142857142857 0.196 0.3974285714285714\n",
      "Train Epoch: 76 [300000/375168 (80%)]\tLoss: 1412.685509\n",
      "670.651053715044 0.09228571428571429 0.223 0.43014285714285716\n",
      "Train Epoch: 77 [300000/375168 (80%)]\tLoss: 1334.462681\n",
      "691.3400913641476 0.08742857142857142 0.21571428571428572 0.4147142857142857\n",
      "Train Epoch: 78 [300000/375168 (80%)]\tLoss: 1648.364462\n",
      "687.4855740238264 0.08828571428571429 0.21157142857142858 0.41514285714285715\n",
      "Train Epoch: 79 [300000/375168 (80%)]\tLoss: 1381.592463\n",
      "682.4612400544559 0.09742857142857143 0.2327142857142857 0.4328571428571429\n",
      "Train Epoch: 80 [300000/375168 (80%)]\tLoss: 699.798563\n",
      "683.1513432900462 0.08385714285714285 0.2062857142857143 0.4094285714285714\n"
     ],
     "output_type": "stream"
    }
   ],
   "source": [
    "epoch_losses = []\n",
    "epoch_test_losses = []\n",
    "epoch_test_acc2 = []\n",
    "epoch_test_acc5 = []\n",
    "epoch_test_acc10 = []\n",
    "for epoch in range(epochs):\n",
    "    loss = train(model, device, train_dataloader, optimizer, epoch, log_interval)\n",
    "    epoch_losses.append(loss)\n",
    "    test_losses, acc2, acc5, acc10 = test(model, device, test_dataloader)\n",
    "    epoch_test_losses.append(test_losses)\n",
    "    epoch_test_acc2.append(acc2)\n",
    "    epoch_test_acc5.append(acc5)\n",
    "    epoch_test_acc10.append(acc10)"
   ],
   "metadata": {
    "collapsed": false,
    "pycharm": {
     "name": "#%%\n",
     "is_executing": false
    }
   }
  },
  {
   "cell_type": "code",
   "execution_count": 9,
   "outputs": [
    {
     "data": {
      "text/plain": "<Figure size 432x288 with 1 Axes>",
      "image/png": "[encoded data removed]"
     },
     "metadata": {
      "needs_background": "light"
     },
     "output_type": "display_data"
    }
   ],
   "source": [
    "import matplotlib.pyplot as plt\n",
    "A = np.array(epoch_losses)\n",
    "B = np.array(epoch_test_acc10)\n",
    "C = np.array(epoch_test_acc5)\n",
    "D = np.array(epoch_test_acc2)\n",
    "x = range(1,81)\n",
    "plt.plot(x, B.flatten(), label = \"+-10\")\n",
    "plt.plot(x, C.flatten(), label = \"+-5\")\n",
    "plt.plot(x, D.flatten(), label = \"+-2\")\n",
    "plt.xlabel('epochs')\n",
    "plt.ylabel('accurarcy')\n",
    "plt.legend(bbox_to_anchor=(0.7, 0.7))\n",
    "plt.show()"
   ],
   "metadata": {
    "collapsed": false,
    "pycharm": {
     "name": "#%%\n",
     "is_executing": false
    }
   }
  }
 ],
 "metadata": {
  "kernelspec": {
   "display_name": "Python 3",
   "language": "python",
   "name": "python3"
  },
  "language_info": {
   "codemirror_mode": {
    "name": "ipython",
    "version": 2
   },
   "file_extension": ".py",
   "mimetype": "text/x-python",
   "name": "python",
   "nbconvert_exporter": "python",
   "pygments_lexer": "ipython2",
   "version": "2.7.6"
  },
  "pycharm": {
   "stem_cell": {
    "cell_type": "raw",
    "source": [],
    "metadata": {
     "collapsed": false
    }
   }
  }
 },
 "nbformat": 4,
 "nbformat_minor": 0
}