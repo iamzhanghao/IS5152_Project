{
 "cells": [
  {
   "cell_type": "code",
   "execution_count": 2,
   "metadata": {
    "collapsed": true,
    "pycharm": {
     "is_executing": false
    }
   },
   "outputs": [
    {
     "name": "stdout",
     "text": [
      "Loaded  data\\PRSA_Data_Aotizhongxin_20130301-20170228.csv\n",
      "Loaded  data\\PRSA_Data_Changping_20130301-20170228.csv\n",
      "Loaded  data\\PRSA_Data_Dingling_20130301-20170228.csv\n",
      "Loaded  data\\PRSA_Data_Dongsi_20130301-20170228.csv\n",
      "Loaded  data\\PRSA_Data_Guanyuan_20130301-20170228.csv\n",
      "Loaded  data\\PRSA_Data_Gucheng_20130301-20170228.csv\n",
      "Loaded  data\\PRSA_Data_Huairou_20130301-20170228.csv\n",
      "Loaded  data\\PRSA_Data_Nongzhanguan_20130301-20170228.csv\n",
      "Loaded  data\\PRSA_Data_Shunyi_20130301-20170228.csv\n",
      "Loaded  data\\PRSA_Data_Tiantan_20130301-20170228.csv\n",
      "Loaded  data\\PRSA_Data_Wanliu_20130301-20170228.csv\n",
      "Loaded  data\\PRSA_Data_Wanshouxigong_20130301-20170228.csv\n",
      "Applied normalization on  ['PM10', 'SO2', 'NO2', 'CO', 'O3', 'TEMP', 'PRES', 'DEWP', 'RAIN', 'WSPM']\n",
      "Applied normalization on  ['PM10', 'SO2', 'NO2', 'CO', 'O3', 'TEMP', 'PRES', 'DEWP', 'RAIN', 'WSPM']\n"
     ],
     "output_type": "stream"
    },
    {
     "data": {
      "text/plain": "Index(['PM2.5', 'PM10', 'SO2', 'NO2', 'CO', 'O3', 'TEMP', 'PRES', 'DEWP',\n       'RAIN', 'WSPM', 'WD_E', 'WD_ENE', 'WD_ESE', 'WD_N', 'WD_NE', 'WD_NNE',\n       'WD_NNW', 'WD_NW', 'WD_S', 'WD_SE', 'WD_SSE', 'WD_SSW', 'WD_SW', 'WD_W',\n       'WD_WNW', 'WD_WSW'],\n      dtype='object')"
     },
     "metadata": {},
     "output_type": "execute_result",
     "execution_count": 2
    }
   ],
   "source": [
    "#data preparation\n",
    "from utils import read_data\n",
    "\n",
    "data = read_data(keep_dates=False)\n",
    "df_all = data.train_val_df\n",
    "df_test = data.test_df\n",
    "df_test = df_test.drop(columns=[\"time_stamp\",\"station\"])\n",
    "df_all = df_all.drop(columns=[\"time_stamp\",\"station\"])\n",
    "df_all.columns"
   ]
  },
  {
   "cell_type": "code",
   "execution_count": 8,
   "outputs": [],
   "source": [
    "import torch\n",
    "import torch.nn as nn\n",
    "import torch.nn.functional as F\n",
    "import torch.optim as optim\n",
    "import torch.utils.data as tud\n",
    "import numpy as np\n",
    "\n",
    "class MLPDataset(tud.Dataset):\n",
    "    def __init__(self, data):\n",
    "        self.y = data[\"PM2.5\"].values\n",
    "        self.x = data[data.columns[1:]].values\n",
    "        \n",
    "    def __len__(self):\n",
    "        return len(self.x)\n",
    "    \n",
    "    def __getitem__(self, idx):\n",
    "        return self.y[idx], self.x[idx]"
   ],
   "metadata": {
    "collapsed": false,
    "pycharm": {
     "name": "#%%\n",
     "is_executing": false
    }
   }
  },
  {
   "cell_type": "code",
   "execution_count": 9,
   "outputs": [],
   "source": [
    "model = nn.Sequential(\n",
    "    nn.Linear(26,10),\n",
    "    nn.ReLU(),\n",
    "    nn.Linear(10, 3),\n",
    "    nn.ReLU(),\n",
    "    nn.Dropout(0.1),\n",
    "    nn.Linear(3, 1)\n",
    ")\n"
   ],
   "metadata": {
    "collapsed": false,
    "pycharm": {
     "name": "#%%\n",
     "is_executing": false
    }
   }
  },
  {
   "cell_type": "code",
   "execution_count": 10,
   "outputs": [],
   "source": [
    "device = \"cuda\" if torch.cuda.is_available() else \"cpu\"\n",
    "learning_rate = 1e-3\n",
    "batch_size = 300\n",
    "epochs = 80\n",
    "test_interval = 5\n",
    "log_interval = 1000\n",
    "\n",
    "model = model.to(device).double()\n",
    "optimizer = optim.Adam(model.parameters(), lr=learning_rate)\n",
    "mlpDataset = MLPDataset(df_all)\n",
    "train_set, validation_set = torch.utils.data.random_split(mlpDataset, [len(mlpDataset) - 64000, 64000])\n",
    "train_dataloader = tud.DataLoader(train_set, batch_size=batch_size, shuffle=True)\n",
    "validation_dataloader = tud.DataLoader(validation_set, batch_size=batch_size)"
   ],
   "metadata": {
    "collapsed": false,
    "pycharm": {
     "name": "#%%\n",
     "is_executing": false
    }
   }
  },
  {
   "cell_type": "code",
   "execution_count": 11,
   "outputs": [],
   "source": [
    "def train(model, device, train_loader, optimizer, epoch, log_interval):\n",
    "    model.train()\n",
    "    \n",
    "    losses = []\n",
    "    for batch_idx, (y ,x) in enumerate(train_loader):\n",
    "        y = y.to(device).double()\n",
    "        x = x.to(device)\n",
    "        \n",
    "        optimizer.zero_grad()\n",
    "        output = model(x)\n",
    "        \n",
    "        loss = F.mse_loss(output, y.view(-1,1))\n",
    "        losses.append(loss.item())\n",
    "        \n",
    "        loss.backward()\n",
    "        optimizer.step()\n",
    "        \n",
    "        if (batch_idx + 1) % log_interval == 0:\n",
    "            print('Train Epoch: {} [{}/{} ({:.0f}%)]\\tLoss: {:.6f}'.format(\n",
    "                epoch + 1, (batch_idx + 1) * batch_size, len(train_loader.dataset),\n",
    "                100. * (batch_idx + 1) / len(train_loader), loss.item()))\n",
    "    return losses"
   ],
   "metadata": {
    "collapsed": false,
    "pycharm": {
     "name": "#%%\n",
     "is_executing": false
    }
   }
  },
  {
   "cell_type": "code",
   "execution_count": 12,
   "outputs": [],
   "source": [
    "def test(model, device, test_loader):\n",
    "    model.eval()\n",
    "    losses = []\n",
    "    accuracy10 = []\n",
    "    accuracy15 = []\n",
    "    accuracy20 = []\n",
    "    for batch_idx, (y ,x) in enumerate(test_loader):\n",
    "        y = y.to(device).double().view(-1,1)\n",
    "        x = x.to(device)\n",
    "        \n",
    "        with torch.no_grad():\n",
    "            output = model(x)\n",
    "            loss = F.mse_loss(output, y)\n",
    "            losses.append(loss.item())\n",
    "            diff = output - y\n",
    "            accuracy10.append(len(diff[abs(diff)<=10]))\n",
    "            accuracy15.append(len(diff[abs(diff)<=15]))\n",
    "            accuracy20.append(len(diff[abs(diff)<=20]))\n",
    "    \n",
    "    data_size = len(test_loader.dataset)\n",
    "    print(float(sum(losses))/len(losses), float(sum(accuracy10))/data_size, float(sum(accuracy15))/data_size,\n",
    "          float(sum(accuracy20))/data_size)\n",
    "    return float(sum(losses))/len(losses), float(sum(accuracy10))/data_size, \\\n",
    "           float(sum(accuracy15))/data_size, float(sum(accuracy20))/data_size\n",
    "        \n",
    "            \n",
    "    "
   ],
   "metadata": {
    "collapsed": false,
    "pycharm": {
     "name": "#%%\n",
     "is_executing": false
    }
   }
  },
  {
   "cell_type": "code",
   "execution_count": 13,
   "outputs": [
    {
     "name": "stdout",
     "text": [
      "4972.073825351215 0.11028125 0.164859375 0.220109375\n",
      "2349.256988182629 0.2389375 0.35071875 0.454265625\n",
      "1444.877858249835 0.31378125 0.45284375 0.569625\n",
      "1190.7462602618716 0.388328125 0.52603125 0.626984375\n",
      "1075.9490706271208 0.411265625 0.547953125 0.645984375\n",
      "1000.5911944164513 0.427921875 0.5630625 0.65915625\n",
      "946.649340805612 0.439671875 0.57221875 0.6676875\n",
      "903.181473364129 0.447703125 0.578296875 0.672921875\n",
      "869.9228886817051 0.4489375 0.581734375 0.6766875\n",
      "840.090586281839 0.452640625 0.585765625 0.679859375\n",
      "789.5299396503736 0.4593125 0.5968125 0.6905\n",
      "778.2820506902547 0.462140625 0.59459375 0.68928125\n",
      "755.4155297548748 0.465609375 0.599546875 0.693625\n",
      "722.6111721019336 0.470078125 0.6041875 0.69896875\n",
      "699.3199739747824 0.473890625 0.6105 0.704890625\n",
      "700.4212712742643 0.47540625 0.607765625 0.702625\n",
      "685.5217542226434 0.478625 0.6108125 0.70584375\n",
      "680.3561188315537 0.480203125 0.612109375 0.705359375\n",
      "669.1086178377029 0.48490625 0.61728125 0.71175\n",
      "662.8678005766199 0.487671875 0.618375 0.71253125\n",
      "657.0513511826126 0.473625 0.621515625 0.715265625\n",
      "653.2779760329322 0.473734375 0.620953125 0.7155625\n",
      "646.9331144531387 0.473515625 0.62465625 0.718640625\n",
      "657.7483381366267 0.461078125 0.619046875 0.712375\n",
      "651.6959808247826 0.46409375 0.624375 0.7178125\n",
      "656.8579808799285 0.45584375 0.622734375 0.715734375\n",
      "653.0432183351085 0.444203125 0.624796875 0.71746875\n",
      "632.836886041028 0.4866875 0.632671875 0.72459375\n",
      "640.5200653089046 0.4859375 0.62821875 0.72121875\n",
      "641.9265814742438 0.4869375 0.62646875 0.72025\n",
      "644.3848061356515 0.48671875 0.62425 0.718734375\n",
      "634.1116614046952 0.484171875 0.63246875 0.72409375\n",
      "632.4268787180267 0.4915625 0.632890625 0.726265625\n",
      "632.0050238458947 0.491453125 0.631140625 0.724625\n",
      "635.2576969498128 0.49096875 0.631328125 0.723421875\n",
      "626.6755592753673 0.49125 0.635390625 0.728125\n",
      "628.7720878290324 0.48865625 0.632171875 0.7256875\n",
      "629.1043194232138 0.492640625 0.633484375 0.72640625\n",
      "621.3292855123707 0.497171875 0.637734375 0.72940625\n",
      "629.4789455043266 0.494890625 0.63403125 0.725703125\n",
      "628.3314684338616 0.492015625 0.6338125 0.727203125\n",
      "630.9205028712066 0.490921875 0.632890625 0.72565625\n",
      "632.0400760654122 0.488140625 0.6314375 0.725359375\n",
      "619.0658553819745 0.489609375 0.637140625 0.73165625\n",
      "619.3236580064815 0.4963125 0.638734375 0.731796875\n",
      "625.3288173990073 0.489 0.63534375 0.72990625\n",
      "617.827415599599 0.48165625 0.635609375 0.732890625\n",
      "615.1911746416347 0.491671875 0.637890625 0.732953125\n",
      "624.5890332796837 0.4895625 0.633859375 0.728875\n",
      "624.8985037990767 0.489640625 0.63440625 0.729328125\n",
      "621.5585884328099 0.483453125 0.63503125 0.731421875\n",
      "616.0154816170414 0.4815625 0.635921875 0.733984375\n",
      "605.6949626949456 0.497015625 0.6440625 0.7400625\n",
      "615.3774469403162 0.48546875 0.637625 0.733125\n",
      "612.8734870716703 0.4895625 0.638921875 0.734625\n",
      "618.1637295684859 0.48896875 0.636734375 0.73203125\n",
      "614.5012382582099 0.48165625 0.63725 0.735078125\n",
      "625.6040195384891 0.48034375 0.632640625 0.729203125\n",
      "616.7243555082496 0.4916875 0.638734375 0.73259375\n",
      "603.5763548757338 0.496921875 0.644609375 0.739515625\n",
      "612.1762477987651 0.477671875 0.6345625 0.734265625\n",
      "617.2847884375514 0.483828125 0.6353125 0.73196875\n",
      "615.8623910070703 0.490125 0.636296875 0.7306875\n",
      "618.1189523855486 0.4789375 0.634625 0.731859375\n",
      "616.8075264129658 0.474625 0.631296875 0.73275\n",
      "609.7335869651952 0.473015625 0.633875 0.736390625\n",
      "608.3728424548856 0.48440625 0.638296875 0.735953125\n",
      "608.2906057994064 0.49203125 0.63996875 0.735734375\n",
      "606.2012884198767 0.490203125 0.640421875 0.738046875\n",
      "603.844414786443 0.49253125 0.6418125 0.73840625\n",
      "604.4261950798879 0.4795 0.636484375 0.737015625\n",
      "609.9208009921384 0.487625 0.637859375 0.73340625\n",
      "610.6687274167531 0.486546875 0.63721875 0.734125\n",
      "606.4840862741942 0.483765625 0.637140625 0.73571875\n",
      "602.4935335135815 0.4814375 0.6380625 0.73721875\n",
      "603.8109504103339 0.484265625 0.637703125 0.735515625\n",
      "599.4113011026582 0.480296875 0.637984375 0.739203125\n",
      "604.3715788320609 0.48284375 0.637640625 0.73559375\n",
      "598.9102430713015 0.477109375 0.636625 0.738421875\n",
      "604.3653768556454 0.482203125 0.6375 0.73659375\n"
     ],
     "output_type": "stream"
    }
   ],
   "source": [
    "epoch_losses = []\n",
    "epoch_test_losses = []\n",
    "epoch_test_acc10 = []\n",
    "epoch_test_acc15 = []\n",
    "epoch_test_acc20 = []\n",
    "for epoch in range(epochs):\n",
    "    loss = train(model, device, train_dataloader, optimizer, epoch, log_interval)\n",
    "    epoch_losses.append(loss)\n",
    "    test_losses, acc10, acc15, acc20 = test(model, device, validation_dataloader)\n",
    "    epoch_test_losses.append(test_losses)\n",
    "    epoch_test_acc10.append(acc10)\n",
    "    epoch_test_acc15.append(acc15)\n",
    "    epoch_test_acc20.append(acc20)"
   ],
   "metadata": {
    "collapsed": false,
    "pycharm": {
     "name": "#%%\n",
     "is_executing": false
    }
   }
  },
  {
   "cell_type": "code",
   "execution_count": 14,
   "outputs": [
    {
     "data": {
      "text/plain": "[<matplotlib.lines.Line2D at 0x1c208401f88>]"
     },
     "metadata": {},
     "output_type": "execute_result",
     "execution_count": 14
    },
    {
     "data": {
      "text/plain": "<Figure size 432x288 with 1 Axes>",
      "image/png": "[encoded data removed]"
     },
     "metadata": {
      "needs_background": "light"
     },
     "output_type": "display_data"
    }
   ],
   "source": [
    "import matplotlib.pyplot as plt\n",
    "A = np.array(epoch_losses)\n",
    "plt.plot(A.flatten())"
   ],
   "metadata": {
    "collapsed": false,
    "pycharm": {
     "name": "#%%\n",
     "is_executing": false
    }
   }
  },
  {
   "cell_type": "code",
   "execution_count": 15,
   "outputs": [
    {
     "data": {
      "text/plain": "<Figure size 432x288 with 1 Axes>",
      "image/png": "[encoded data removed]"
     },
     "metadata": {
      "needs_background": "light"
     },
     "output_type": "display_data"
    }
   ],
   "source": [
    "B = np.array(epoch_test_acc20)\n",
    "C = np.array(epoch_test_acc15)\n",
    "D = np.array(epoch_test_acc10)\n",
    "x = range(1,81)\n",
    "plt.plot(x, B.flatten(), label = \"+-20\")\n",
    "plt.plot(x, C.flatten(), label = \"+-15\")\n",
    "plt.plot(x, D.flatten(), label = \"+-10\")\n",
    "plt.xlabel('epochs')\n",
    "plt.ylabel('accurarcy')\n",
    "plt.legend(bbox_to_anchor=(0.7, 0.7))\n",
    "plt.show()"
   ],
   "metadata": {
    "collapsed": false,
    "pycharm": {
     "name": "#%%\n",
     "is_executing": false
    }
   }
  },
  {
   "cell_type": "code",
   "execution_count": 16,
   "outputs": [
    {
     "name": "stdout",
     "text": [
      "604.3653768556454 0.482203125 0.6375 0.73659375\n"
     ],
     "output_type": "stream"
    }
   ],
   "source": [
    "test_dataset = MLPDataset(df_test)\n",
    "test_dataloader = tud.DataLoader(validation_set, batch_size=batch_size)\n",
    "test_losses, acc10, acc15, acc20 = test(model, device, test_dataloader)"
   ],
   "metadata": {
    "collapsed": false,
    "pycharm": {
     "name": "#%%\n",
     "is_executing": false
    }
   }
  }
 ],
 "metadata": {
  "kernelspec": {
   "display_name": "Python 3",
   "language": "python",
   "name": "python3"
  },
  "language_info": {
   "codemirror_mode": {
    "name": "ipython",
    "version": 2
   },
   "file_extension": ".py",
   "mimetype": "text/x-python",
   "name": "python",
   "nbconvert_exporter": "python",
   "pygments_lexer": "ipython2",
   "version": "2.7.6"
  },
  "pycharm": {
   "stem_cell": {
    "cell_type": "raw",
    "source": [],
    "metadata": {
     "collapsed": false
    }
   }
  }
 },
 "nbformat": 4,
 "nbformat_minor": 0
}