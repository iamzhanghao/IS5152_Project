{
 "cells": [
  {
   "cell_type": "code",
   "execution_count": 1,
   "metadata": {
    "collapsed": true,
    "pycharm": {
     "is_executing": false
    }
   },
   "outputs": [
    {
     "name": "stdout",
     "text": [
      "Loaded  data\\PRSA_Data_Aotizhongxin_20130301-20170228.csv\n",
      "Loaded  data\\PRSA_Data_Changping_20130301-20170228.csv\n",
      "Loaded  data\\PRSA_Data_Dingling_20130301-20170228.csv\n",
      "Loaded  data\\PRSA_Data_Dongsi_20130301-20170228.csv\n",
      "Loaded  data\\PRSA_Data_Guanyuan_20130301-20170228.csv\n",
      "Loaded  data\\PRSA_Data_Gucheng_20130301-20170228.csv\n",
      "Loaded  data\\PRSA_Data_Huairou_20130301-20170228.csv\n",
      "Loaded  data\\PRSA_Data_Nongzhanguan_20130301-20170228.csv\n",
      "Loaded  data\\PRSA_Data_Shunyi_20130301-20170228.csv\n",
      "Loaded  data\\PRSA_Data_Tiantan_20130301-20170228.csv\n",
      "Loaded  data\\PRSA_Data_Wanliu_20130301-20170228.csv\n",
      "Loaded  data\\PRSA_Data_Wanshouxigong_20130301-20170228.csv\n",
      "Applied normalization on  ['PM10', 'SO2', 'NO2', 'CO', 'O3', 'TEMP', 'PRES', 'DEWP', 'RAIN', 'WSPM']\n",
      "35064 rows per station, total 382168 rows\n"
     ],
     "output_type": "stream"
    }
   ],
   "source": [
    "from utils import read_data\n",
    "\n",
    "count_per_station, df_all = read_data(True)"
   ]
  },
  {
   "cell_type": "code",
   "execution_count": 4,
   "outputs": [
    {
     "data": {
      "text/plain": "Index(['PM2.5', 'PM10', 'SO2', 'NO2', 'CO', 'O3', 'TEMP', 'PRES', 'DEWP',\n       'RAIN', 'WSPM', 'WD_E', 'WD_ENE', 'WD_ESE', 'WD_N', 'WD_NE', 'WD_NNE',\n       'WD_NNW', 'WD_NW', 'WD_S', 'WD_SE', 'WD_SSE', 'WD_SSW', 'WD_SW', 'WD_W',\n       'WD_WNW', 'WD_WSW'],\n      dtype='object')"
     },
     "metadata": {},
     "output_type": "execute_result",
     "execution_count": 4
    }
   ],
   "source": [
    "df_all = df_all.drop(columns=[\"time_stamp\",\"station\"])\n",
    "df_all.columns"
   ],
   "metadata": {
    "collapsed": false,
    "pycharm": {
     "name": "#%%\n",
     "is_executing": false
    }
   }
  },
  {
   "cell_type": "code",
   "execution_count": 151,
   "outputs": [],
   "source": [
    "import torch\n",
    "import torch.nn as nn\n",
    "import torch.nn.functional as F\n",
    "import torch.optim as optim\n",
    "import torch.utils.data as tud\n",
    "import numpy as np\n",
    "\n",
    "class MLPDataset(tud.Dataset):\n",
    "    def __init__(self, data):\n",
    "        self.y = data[\"PM2.5\"].values\n",
    "        self.x = data[data.columns[1:]].values\n",
    "        \n",
    "    def __len__(self):\n",
    "        return len(self.x)\n",
    "    \n",
    "    def __getitem__(self, idx):\n",
    "        return self.y[idx], self.x[idx]\n",
    "    "
   ],
   "metadata": {
    "collapsed": false,
    "pycharm": {
     "name": "#%%\n",
     "is_executing": false
    }
   }
  },
  {
   "cell_type": "code",
   "execution_count": 152,
   "outputs": [],
   "source": [
    "model = nn.Sequential(\n",
    "    nn.Linear(26,10),\n",
    "    nn.ReLU(),\n",
    "    nn.Linear(10, 3),\n",
    "    nn.ReLU(),\n",
    "    nn.Dropout(0.1),\n",
    "    nn.Linear(3, 1)\n",
    ")\n"
   ],
   "metadata": {
    "collapsed": false,
    "pycharm": {
     "name": "#%%\n",
     "is_executing": false
    }
   }
  },
  {
   "cell_type": "code",
   "execution_count": 153,
   "outputs": [],
   "source": [
    "device = \"cuda\" if torch.cuda.is_available() else \"cpu\"\n",
    "learning_rate = 1e-3\n",
    "batch_size = 300\n",
    "epochs = 30\n",
    "test_interval = 5\n",
    "log_interval = 1000\n",
    "\n",
    "model = model.to(device).double()\n",
    "optimizer = optim.Adam(model.parameters(), lr=learning_rate)\n",
    "mlpDataset = MLPDataset(df_all)\n",
    "train_set, test_set = torch.utils.data.random_split(mlpDataset, [len(mlpDataset) - 7000, 7000])\n",
    "train_dataloader = tud.DataLoader(train_set, batch_size=batch_size, shuffle=True)\n",
    "test_dataloader = tud.DataLoader(test_set, batch_size=batch_size)"
   ],
   "metadata": {
    "collapsed": false,
    "pycharm": {
     "name": "#%%\n",
     "is_executing": false
    }
   }
  },
  {
   "cell_type": "code",
   "execution_count": 154,
   "outputs": [],
   "source": [
    "def train(model, device, train_loader, optimizer, epoch, log_interval):\n",
    "    model.train()\n",
    "    \n",
    "    losses = []\n",
    "    for batch_idx, (y ,x) in enumerate(train_loader):\n",
    "        y = y.to(device).double()\n",
    "        x = x.to(device)\n",
    "        \n",
    "        optimizer.zero_grad()\n",
    "        output = model(x)\n",
    "        \n",
    "        loss = F.mse_loss(output, y.view(-1,1))\n",
    "        losses.append(loss.item())\n",
    "        \n",
    "        loss.backward()\n",
    "        optimizer.step()\n",
    "        \n",
    "        if (batch_idx + 1) % log_interval == 0:\n",
    "            print('Train Epoch: {} [{}/{} ({:.0f}%)]\\tLoss: {:.6f}'.format(\n",
    "                epoch + 1, (batch_idx + 1) * batch_size, len(train_loader.dataset),\n",
    "                100. * (batch_idx + 1) / len(train_loader), loss.item()))\n",
    "    return losses"
   ],
   "metadata": {
    "collapsed": false,
    "pycharm": {
     "name": "#%%\n",
     "is_executing": false
    }
   }
  },
  {
   "cell_type": "code",
   "execution_count": 155,
   "outputs": [],
   "source": [
    "def test(model, device, test_loader):\n",
    "    model.eval()\n",
    "    losses = []\n",
    "    accuracy2 = []\n",
    "    accuracy5 = []\n",
    "    accuracy10 = []\n",
    "    for batch_idx, (y ,x) in enumerate(test_loader):\n",
    "        y = y.to(device).double().view(-1,1)\n",
    "        x = x.to(device)\n",
    "        \n",
    "        with torch.no_grad():\n",
    "            output = model(x)\n",
    "            loss = F.mse_loss(output, y)\n",
    "            losses.append(loss.item())\n",
    "            diff = output - y\n",
    "            accuracy2.append(len(diff[abs(diff)<=2]))\n",
    "            accuracy5.append(len(diff[abs(diff)<=5]))\n",
    "            accuracy10.append(len(diff[abs(diff)<=10]))\n",
    "    \n",
    "    data_size = len(test_loader.dataset)\n",
    "    print(float(sum(losses))/len(losses), float(sum(accuracy2))/data_size, float(sum(accuracy5))/data_size,\n",
    "          float(sum(accuracy10))/data_size)\n",
    "    return float(sum(losses))/len(losses), float(sum(accuracy2))/data_size, \\\n",
    "           float(sum(accuracy5))/data_size, float(sum(accuracy10))/data_size\n",
    "        \n",
    "            \n",
    "    "
   ],
   "metadata": {
    "collapsed": false,
    "pycharm": {
     "name": "#%%\n",
     "is_executing": false
    }
   }
  },
  {
   "cell_type": "code",
   "execution_count": 156,
   "outputs": [
    {
     "name": "stdout",
     "text": [
      "Train Epoch: 1 [300000/375168 (80%)]\tLoss: 16801.950479\n",
      "12495.662029928555 0.022285714285714287 0.057428571428571426 0.13457142857142856\n",
      "Train Epoch: 2 [300000/375168 (80%)]\tLoss: 10635.417370\n",
      "12303.185307292493 0.030857142857142857 0.07085714285714285 0.15385714285714286\n",
      "Train Epoch: 3 [300000/375168 (80%)]\tLoss: 15256.175972\n",
      "12114.32170458827 0.04242857142857143 0.08557142857142858 0.1677142857142857\n",
      "Train Epoch: 4 [300000/375168 (80%)]\tLoss: 10857.682317\n",
      "11928.922019439413 0.057428571428571426 0.10357142857142858 0.183\n",
      "Train Epoch: 5 [300000/375168 (80%)]\tLoss: 11970.863044\n",
      "11746.61280245545 0.04857142857142857 0.119 0.19542857142857142\n",
      "Train Epoch: 6 [300000/375168 (80%)]\tLoss: 11428.085739\n",
      "11567.24527796374 0.061142857142857145 0.15385714285714286 0.21842857142857142\n",
      "Train Epoch: 7 [300000/375168 (80%)]\tLoss: 13430.594463\n",
      "11391.198749798312 0.06157142857142857 0.14542857142857143 0.23114285714285715\n",
      "Train Epoch: 8 [300000/375168 (80%)]\tLoss: 11305.954049\n",
      "11218.10289205487 0.06371428571428571 0.15214285714285714 0.24171428571428571\n",
      "Train Epoch: 9 [300000/375168 (80%)]\tLoss: 13592.651784\n",
      "11048.23508578117 0.06828571428571428 0.153 0.25042857142857144\n",
      "Train Epoch: 10 [300000/375168 (80%)]\tLoss: 11309.638570\n",
      "10881.35652446469 0.064 0.14757142857142858 0.27\n",
      "Train Epoch: 11 [300000/375168 (80%)]\tLoss: 13387.841408\n",
      "10717.705414044309 0.06085714285714286 0.14557142857142857 0.2562857142857143\n",
      "Train Epoch: 12 [300000/375168 (80%)]\tLoss: 8693.381957\n",
      "10557.01899712453 0.055 0.13814285714285715 0.2581428571428571\n",
      "Train Epoch: 13 [300000/375168 (80%)]\tLoss: 10235.188805\n",
      "10399.458666271243 0.05071428571428571 0.13142857142857142 0.25585714285714284\n",
      "Train Epoch: 14 [300000/375168 (80%)]\tLoss: 11242.048313\n",
      "10244.975606616672 0.046285714285714284 0.11614285714285714 0.24514285714285713\n",
      "Train Epoch: 15 [300000/375168 (80%)]\tLoss: 10037.552565\n",
      "10093.418073951927 0.04157142857142857 0.11085714285714286 0.23885714285714285\n",
      "Train Epoch: 16 [300000/375168 (80%)]\tLoss: 11575.508999\n",
      "9945.014412374027 0.04228571428571429 0.106 0.22814285714285715\n",
      "Train Epoch: 17 [300000/375168 (80%)]\tLoss: 10216.830927\n",
      "9799.89833491772 0.038857142857142854 0.10285714285714286 0.22157142857142856\n",
      "Train Epoch: 18 [300000/375168 (80%)]\tLoss: 9387.047121\n",
      "9657.56783607793 0.03685714285714286 0.09871428571428571 0.21271428571428572\n",
      "Train Epoch: 19 [300000/375168 (80%)]\tLoss: 7935.965818\n",
      "9518.39895736758 0.03757142857142857 0.09328571428571429 0.193\n",
      "Train Epoch: 20 [300000/375168 (80%)]\tLoss: 8021.903474\n",
      "9382.399546178789 0.03757142857142857 0.09 0.18714285714285714\n",
      "Train Epoch: 21 [300000/375168 (80%)]\tLoss: 9423.084791\n",
      "9249.2114585205 0.03742857142857143 0.09014285714285715 0.18171428571428572\n",
      "Train Epoch: 22 [300000/375168 (80%)]\tLoss: 12796.394616\n",
      "9119.341185961674 0.03542857142857143 0.08657142857142858 0.1732857142857143\n",
      "Train Epoch: 23 [300000/375168 (80%)]\tLoss: 9370.690417\n",
      "8992.633233274273 0.033 0.08214285714285714 0.165\n",
      "Train Epoch: 24 [300000/375168 (80%)]\tLoss: 9548.785548\n",
      "8868.89108466578 0.031285714285714285 0.08114285714285714 0.15971428571428573\n",
      "Train Epoch: 25 [300000/375168 (80%)]\tLoss: 8802.914228\n",
      "8748.017717321485 0.030571428571428572 0.07885714285714286 0.159\n",
      "Train Epoch: 26 [300000/375168 (80%)]\tLoss: 9117.348676\n",
      "8630.47314450839 0.029 0.07457142857142857 0.15614285714285714\n",
      "Train Epoch: 27 [300000/375168 (80%)]\tLoss: 6677.492131\n",
      "8515.825958097792 0.02957142857142857 0.073 0.15414285714285714\n",
      "Train Epoch: 28 [300000/375168 (80%)]\tLoss: 8477.247290\n",
      "8404.316120056095 0.027142857142857142 0.06971428571428571 0.1472857142857143\n",
      "Train Epoch: 29 [300000/375168 (80%)]\tLoss: 6920.257384\n",
      "8295.85202836872 0.028285714285714286 0.06885714285714285 0.14614285714285713\n",
      "Train Epoch: 30 [300000/375168 (80%)]\tLoss: 8445.795081\n",
      "8190.5291299199525 0.026 0.06957142857142858 0.14442857142857143\n"
     ],
     "output_type": "stream"
    }
   ],
   "source": [
    "epoch_losses = []\n",
    "epoch_test_losses = []\n",
    "epoch_test_acc2 = []\n",
    "epoch_test_acc5 = []\n",
    "epoch_test_acc10 = []\n",
    "for epoch in range(epochs):\n",
    "    loss = train(model, device, train_dataloader, optimizer, epoch, log_interval)\n",
    "    epoch_losses.append(loss)\n",
    "    test_losses, acc2, acc5, acc10 = test(model, device, test_dataloader)\n",
    "    epoch_test_losses.append(test_losses)\n",
    "    epoch_test_acc2.append(acc2)\n",
    "    epoch_test_acc5.append(acc5)\n",
    "    epoch_test_acc10.append(acc10)"
   ],
   "metadata": {
    "collapsed": false,
    "pycharm": {
     "name": "#%%\n",
     "is_executing": false
    }
   }
  },
  {
   "cell_type": "code",
   "execution_count": 174,
   "outputs": [
    {
     "data": {
      "text/plain": "<Figure size 432x288 with 1 Axes>",
      "image/png": "[encoded data removed]"
     },
     "metadata": {
      "needs_background": "light"
     },
     "output_type": "display_data"
    }
   ],
   "source": [
    "import matplotlib.pyplot as plt\n",
    "A = np.array(epoch_losses)\n",
    "B = np.array(epoch_test_acc10)\n",
    "C = np.array(epoch_test_acc5)\n",
    "D = np.array(epoch_test_acc2)\n",
    "x = range(1,31)\n",
    "plt.plot(x, B.flatten(), label = \"+-10\")\n",
    "plt.plot(x, C.flatten(), label = \"+-5\")\n",
    "plt.plot(x, D.flatten(), label = \"+-2\")\n",
    "plt.xlabel('epochs')\n",
    "plt.ylabel('accurarcy')\n",
    "plt.legend(bbox_to_anchor=(0.7, 0.7))\n",
    "plt.show()"
   ],
   "metadata": {
    "collapsed": false,
    "pycharm": {
     "name": "#%%\n",
     "is_executing": false
    }
   }
  },
  {
   "cell_type": "code",
   "execution_count": 94,
   "outputs": [
    {
     "name": "stdout",
     "text": [
      "[1469.39269177 1298.78161316 1940.48422121 ... 1175.34729332 2233.31221795\n",
      " 2736.72133527]\n"
     ],
     "output_type": "stream"
    }
   ],
   "source": [],
   "metadata": {
    "collapsed": false,
    "pycharm": {
     "name": "#%%\n",
     "is_executing": false
    }
   }
  }
 ],
 "metadata": {
  "kernelspec": {
   "display_name": "Python 3",
   "language": "python",
   "name": "python3"
  },
  "language_info": {
   "codemirror_mode": {
    "name": "ipython",
    "version": 2
   },
   "file_extension": ".py",
   "mimetype": "text/x-python",
   "name": "python",
   "nbconvert_exporter": "python",
   "pygments_lexer": "ipython2",
   "version": "2.7.6"
  },
  "pycharm": {
   "stem_cell": {
    "cell_type": "raw",
    "source": [],
    "metadata": {
     "collapsed": false
    }
   }
  }
 },
 "nbformat": 4,
 "nbformat_minor": 0
}