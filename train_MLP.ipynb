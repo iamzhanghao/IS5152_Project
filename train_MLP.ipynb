{
 "cells": [
  {
   "cell_type": "code",
   "execution_count": 1,
   "metadata": {
    "collapsed": true,
    "pycharm": {
     "is_executing": false
    }
   },
   "outputs": [
    {
     "name": "stdout",
     "text": [
      "Loaded  data\\PRSA_Data_Aotizhongxin_20130301-20170228.csv\n",
      "Loaded  data\\PRSA_Data_Changping_20130301-20170228.csv\n",
      "Loaded  data\\PRSA_Data_Dingling_20130301-20170228.csv\n",
      "Loaded  data\\PRSA_Data_Dongsi_20130301-20170228.csv\n",
      "Loaded  data\\PRSA_Data_Guanyuan_20130301-20170228.csv\n",
      "Loaded  data\\PRSA_Data_Gucheng_20130301-20170228.csv\n",
      "Loaded  data\\PRSA_Data_Huairou_20130301-20170228.csv\n",
      "Loaded  data\\PRSA_Data_Nongzhanguan_20130301-20170228.csv\n",
      "Loaded  data\\PRSA_Data_Shunyi_20130301-20170228.csv\n",
      "Loaded  data\\PRSA_Data_Tiantan_20130301-20170228.csv\n",
      "Loaded  data\\PRSA_Data_Wanliu_20130301-20170228.csv\n",
      "Loaded  data\\PRSA_Data_Wanshouxigong_20130301-20170228.csv\n",
      "Applied normalization on  ['PM10', 'SO2', 'NO2', 'CO', 'O3', 'TEMP', 'PRES', 'DEWP', 'RAIN', 'WSPM']\n",
      "Applied normalization on  ['PM10', 'SO2', 'NO2', 'CO', 'O3', 'TEMP', 'PRES', 'DEWP', 'RAIN', 'WSPM']\n"
     ],
     "output_type": "stream"
    },
    {
     "data": {
      "text/plain": "Index(['PM2.5', 'PM10', 'SO2', 'NO2', 'CO', 'O3', 'TEMP', 'PRES', 'DEWP',\n       'RAIN', 'WSPM', 'WD_E', 'WD_ENE', 'WD_ESE', 'WD_N', 'WD_NE', 'WD_NNE',\n       'WD_NNW', 'WD_NW', 'WD_S', 'WD_SE', 'WD_SSE', 'WD_SSW', 'WD_SW', 'WD_W',\n       'WD_WNW', 'WD_WSW'],\n      dtype='object')"
     },
     "metadata": {},
     "output_type": "execute_result",
     "execution_count": 1
    }
   ],
   "source": [
    "#data preparation\n",
    "from utils import read_data\n",
    "\n",
    "data = read_data(keep_dates=False)\n",
    "df_all = data.train_val_df\n",
    "df_test = data.test_df\n",
    "df_test = df_test.drop(columns=[\"time_stamp\",\"station\"])\n",
    "df_all = df_all.drop(columns=[\"time_stamp\",\"station\"])\n",
    "df_all.columns"
   ]
  },
  {
   "cell_type": "code",
   "execution_count": 2,
   "outputs": [],
   "source": [
    "import torch\n",
    "import torch.nn as nn\n",
    "import torch.nn.functional as F\n",
    "import torch.optim as optim\n",
    "import torch.utils.data as tud\n",
    "import numpy as np\n",
    "\n",
    "class MLPDataset(tud.Dataset):\n",
    "    def __init__(self, data):\n",
    "        self.y = data[\"PM2.5\"].values\n",
    "        self.x = data[data.columns[1:]].values\n",
    "        \n",
    "    def __len__(self):\n",
    "        return len(self.x)\n",
    "    \n",
    "    def __getitem__(self, idx):\n",
    "        return self.y[idx], self.x[idx]"
   ],
   "metadata": {
    "collapsed": false,
    "pycharm": {
     "name": "#%%\n",
     "is_executing": false
    }
   }
  },
  {
   "cell_type": "code",
   "execution_count": 4,
   "outputs": [],
   "source": [
    "model = nn.Sequential(\n",
    "    nn.Linear(26,10),\n",
    "    nn.ReLU(),\n",
    "    nn.Linear(10, 3),\n",
    "    nn.ReLU(),\n",
    "    nn.Dropout(0.1),\n",
    "    nn.Linear(3, 1)\n",
    ")\n"
   ],
   "metadata": {
    "collapsed": false,
    "pycharm": {
     "name": "#%%\n",
     "is_executing": false
    }
   }
  },
  {
   "cell_type": "code",
   "execution_count": 5,
   "outputs": [],
   "source": [
    "device = \"cuda\" if torch.cuda.is_available() else \"cpu\"\n",
    "learning_rate = 1e-3\n",
    "batch_size = 300\n",
    "epochs = 80\n",
    "test_interval = 5\n",
    "log_interval = 1000\n",
    "\n",
    "model = model.to(device).double()\n",
    "optimizer = optim.Adam(model.parameters(), lr=learning_rate)\n",
    "mlpDataset = MLPDataset(df_all)\n",
    "train_set, validation_set = torch.utils.data.random_split(mlpDataset, [len(mlpDataset) - 64000, 64000])\n",
    "train_dataloader = tud.DataLoader(train_set, batch_size=batch_size, shuffle=True)\n",
    "validation_dataloader = tud.DataLoader(validation_set, batch_size=batch_size)"
   ],
   "metadata": {
    "collapsed": false,
    "pycharm": {
     "name": "#%%\n",
     "is_executing": false
    }
   }
  },
  {
   "cell_type": "code",
   "execution_count": 6,
   "outputs": [],
   "source": [
    "def train(model, device, train_loader, optimizer, epoch, log_interval):\n",
    "    model.train()\n",
    "    \n",
    "    losses = []\n",
    "    for batch_idx, (y ,x) in enumerate(train_loader):\n",
    "        y = y.to(device).double()\n",
    "        x = x.to(device)\n",
    "        \n",
    "        optimizer.zero_grad()\n",
    "        output = model(x)\n",
    "        \n",
    "        loss = F.mse_loss(output, y.view(-1,1))\n",
    "        losses.append(loss.item())\n",
    "        \n",
    "        loss.backward()\n",
    "        optimizer.step()\n",
    "        \n",
    "        if (batch_idx + 1) % log_interval == 0:\n",
    "            print('Train Epoch: {} [{}/{} ({:.0f}%)]\\tLoss: {:.6f}'.format(\n",
    "                epoch + 1, (batch_idx + 1) * batch_size, len(train_loader.dataset),\n",
    "                100. * (batch_idx + 1) / len(train_loader), loss.item()))\n",
    "    return losses"
   ],
   "metadata": {
    "collapsed": false,
    "pycharm": {
     "name": "#%%\n",
     "is_executing": false
    }
   }
  },
  {
   "cell_type": "code",
   "execution_count": 7,
   "outputs": [],
   "source": [
    "class RMSELoss(nn.Module):\n",
    "    def __init__(self):\n",
    "        super().__init__()\n",
    "        self.mse = nn.MSELoss()\n",
    "        \n",
    "    def forward(self,yhat,y):\n",
    "        return torch.sqrt(self.mse(yhat,y))\n",
    "\n",
    "def test(model, device, test_loader):\n",
    "    model.eval()\n",
    "    mse_losses = []\n",
    "    mae_losses = []\n",
    "    rmse_losses = []\n",
    "    accuracy10 = []\n",
    "    accuracy20 = []\n",
    "    accuracy50 = []\n",
    "    accuracy100 = []\n",
    "\n",
    "    for batch_idx, (y ,x) in enumerate(test_loader):\n",
    "        y = y.to(device).double().view(-1,1)\n",
    "        x = x.to(device)\n",
    "        \n",
    "        with torch.no_grad():\n",
    "            output = model(x)\n",
    "            \n",
    "            mse_loss = F.mse_loss(output, y)\n",
    "            mse_losses.append(mse_loss.item())\n",
    "            mae_loss =F.l1_loss(output, y)\n",
    "            mae_losses.append(mae_loss)\n",
    "            criterion = RMSELoss()\n",
    "            rmse_loss = criterion(output, y)\n",
    "            rmse_losses.append(rmse_loss)\n",
    "            \n",
    "            diff = output - y\n",
    "            accuracy10.append(len(diff[abs(diff)<=10]))\n",
    "            accuracy20.append(len(diff[abs(diff)<=20]))\n",
    "            accuracy50.append(len(diff[abs(diff)<=50]))\n",
    "            accuracy100.append(len(diff[abs(diff)<=100]))\n",
    "\n",
    "    \n",
    "    data_size = len(test_loader.dataset)\n",
    "    print(float(sum(mse_losses))/len(mse_losses), float(sum(rmse_losses))/len(rmse_losses),\n",
    "          float(sum(mae_losses))/len(mae_losses))\n",
    "    \n",
    "    print (float(sum(accuracy10))/data_size, float(sum(accuracy20))/data_size,\n",
    "          float(sum(accuracy50))/data_size, float(sum(accuracy100))/data_size)\n",
    "    \n",
    "    return float(sum(mse_losses))/len(mse_losses), float(sum(rmse_losses))/len(rmse_losses),\\\n",
    "           float(sum(mae_losses))/len(mae_losses),\\\n",
    "           float(sum(accuracy10))/data_size, float(sum(accuracy20))/data_size,\\\n",
    "           float(sum(accuracy50))/data_size, float(sum(accuracy100))/data_size\n",
    "        \n",
    "            \n",
    "    "
   ],
   "metadata": {
    "collapsed": false,
    "pycharm": {
     "name": "#%%\n",
     "is_executing": false
    }
   }
  },
  {
   "cell_type": "code",
   "execution_count": 8,
   "outputs": [
    {
     "name": "stdout",
     "text": [
      "5378.838941094829 73.08851244110747 50.45165197741448\n",
      "0.1176875 0.2370625 0.719625 0.8881875\n",
      "3077.0142511065633 55.254674001777424 37.30532166371611\n",
      "0.17778125 0.377703125 0.805765625 0.930046875\n",
      "1693.4637835442834 40.990519122563065 26.85624839843136\n",
      "0.330265625 0.558703125 0.85803125 0.96284375\n",
      "1353.2955343817412 36.651780654202305 24.080983606334122\n",
      "0.3668125 0.604984375 0.87578125 0.97265625\n",
      "1223.8208071640458 34.85649345057178 22.844053712527234\n",
      "0.3909375 0.627984375 0.88471875 0.976140625\n",
      "1118.2550688599972 33.3168172891529 21.814843187739495\n",
      "0.40703125 0.643109375 0.89346875 0.979375\n",
      "1075.0722067066508 32.660954980515015 21.301993829518224\n",
      "0.41171875 0.647640625 0.89684375 0.981\n",
      "1054.4628848909522 32.34082147908096 21.07192050934765\n",
      "0.4188125 0.649453125 0.8989375 0.982171875\n",
      "1019.9563712217297 31.79814800547533 20.665354629634056\n",
      "0.42640625 0.654171875 0.9026875 0.983421875\n",
      "1029.472228918446 31.94376374626487 20.72501353764624\n",
      "0.43021875 0.6523125 0.90153125 0.9833125\n",
      "1020.9561589008678 31.80875774274533 20.586957697647897\n",
      "0.433625 0.654734375 0.90253125 0.9834375\n",
      "1001.339561990301 31.498076271606454 20.371682519153875\n",
      "0.433640625 0.6550625 0.904875 0.984484375\n",
      "1006.9173933569894 31.587003543394037 20.42277991911662\n",
      "0.43703125 0.654171875 0.903921875 0.984296875\n",
      "1001.6680190678428 31.50391517336235 20.377103089602222\n",
      "0.440984375 0.654078125 0.904296875 0.984484375\n",
      "1013.0028011696409 31.6856097563617 20.510876561517346\n",
      "0.44403125 0.65278125 0.902625 0.9841875\n",
      "993.1185811723926 31.37007470611101 20.317200063326574\n",
      "0.44875 0.656109375 0.905015625 0.9846875\n",
      "993.7349228186547 31.383242528218286 20.365382701616916\n",
      "0.44803125 0.655046875 0.90434375 0.984625\n",
      "1003.006104679243 31.53425988928756 20.54769536086813\n",
      "0.450203125 0.652140625 0.902609375 0.984359375\n",
      "972.1581790997125 31.040732806702483 20.250481934739607\n",
      "0.436375 0.659953125 0.906375 0.98509375\n",
      "999.8800191035142 31.489019422704626 20.636495493957252\n",
      "0.42946875 0.654546875 0.902765625 0.984359375\n",
      "971.4193588115447 31.03472658341574 20.409206815709894\n",
      "0.424984375 0.65978125 0.906171875 0.98528125\n",
      "969.1241683637453 31.00026308111917 20.460908249316024\n",
      "0.424625 0.65971875 0.905765625 0.985578125\n",
      "977.726726758629 31.141210401846298 20.671575798667483\n",
      "0.4130625 0.65703125 0.904875 0.985125\n",
      "957.7187513633847 30.820080258457192 20.548365199999186\n",
      "0.405734375 0.661296875 0.90703125 0.98578125\n",
      "945.9287424591571 30.630511345350488 20.513134122336844\n",
      "0.395015625 0.664390625 0.908265625 0.986140625\n",
      "916.7090251344691 30.150781515427354 20.299254116309356\n",
      "0.396453125 0.669921875 0.911921875 0.987171875\n",
      "903.8690210363164 29.93956661847776 20.262639695355375\n",
      "0.384390625 0.672796875 0.91290625 0.9876875\n",
      "886.4495799548662 29.649920700449897 20.20330502782248\n",
      "0.371796875 0.6758125 0.914984375 0.98834375\n",
      "902.4594670897335 29.92267309625151 20.527488584636284\n",
      "0.357375 0.67234375 0.912578125 0.988046875\n",
      "883.5527136454996 29.607159514984513 20.435551199755768\n",
      "0.359140625 0.67534375 0.914796875 0.988703125\n",
      "876.9097971620903 29.4978533672346 20.464737546137734\n",
      "0.34775 0.677875 0.915796875 0.98896875\n",
      "866.2135704143653 29.318577834672716 20.474641274980506\n",
      "0.33728125 0.659453125 0.917484375 0.989328125\n",
      "864.9649999676891 29.29956898033684 20.56955811555974\n",
      "0.337671875 0.659578125 0.91765625 0.989515625\n",
      "875.7054473485135 29.48483045182513 20.8384014530412\n",
      "0.325625 0.65040625 0.91640625 0.98946875\n",
      "868.1094775339515 29.35740642910953 20.855322790358738\n",
      "0.3186875 0.6425 0.917546875 0.989796875\n",
      "863.0793225459383 29.273479803304177 20.90312329986974\n",
      "0.318453125 0.64371875 0.918296875 0.990046875\n",
      "862.4136076676768 29.263809020348045 21.026606941702468\n",
      "0.310328125 0.63040625 0.91878125 0.990453125\n",
      "852.2565454652242 29.09069574057335 20.98527286397162\n",
      "0.3039375 0.62065625 0.920609375 0.990640625\n",
      "857.7166169238432 29.18562719393222 21.144172528037906\n",
      "0.3031875 0.619109375 0.9198125 0.9906875\n",
      "851.4286983480174 29.07905512051412 21.15045800025834\n",
      "0.2968125 0.606640625 0.9214375 0.991015625\n",
      "850.0185350134138 29.05568621344243 21.22339610038497\n",
      "0.296921875 0.607109375 0.92190625 0.991296875\n",
      "854.1072433202362 29.127547226555464 21.375844866997042\n",
      "0.2878125 0.5895625 0.922 0.991390625\n",
      "843.8018799640156 28.95091558767212 21.325936833177877\n",
      "0.289421875 0.592390625 0.923109375 0.991765625\n",
      "854.0115863415143 29.127085629130374 21.495765650890817\n",
      "0.281515625 0.575296875 0.922625 0.991484375\n",
      "858.9483366870252 29.212885556445677 21.647379265014543\n",
      "0.280625 0.573203125 0.92253125 0.991578125\n",
      "851.4304839421518 29.08425643828583 21.601507268456768\n",
      "0.281890625 0.57540625 0.9233125 0.991859375\n",
      "859.5011565489475 29.223685728645812 21.759065919417473\n",
      "0.27525 0.55915625 0.922921875 0.991734375\n",
      "864.0717853680455 29.30221788121352 21.864209453621612\n",
      "0.27475 0.558484375 0.922828125 0.991671875\n",
      "853.1911192027391 29.116033357325374 21.73507041959545\n",
      "0.277953125 0.562421875 0.924109375 0.992\n",
      "859.9811534828591 29.233647452734022 21.891342009493115\n",
      "0.26978125 0.54590625 0.92415625 0.991875\n",
      "864.3451506409147 29.30801976532367 21.95982446398453\n",
      "0.26928125 0.545421875 0.923890625 0.991828125\n",
      "862.4886898316398 29.277023943380197 21.969667018128405\n",
      "0.26921875 0.546 0.92421875 0.99184375\n",
      "854.4585899389025 29.139879223197074 21.88713126756877\n",
      "0.271328125 0.54853125 0.9250625 0.99221875\n",
      "865.8576559439324 29.335311335224546 22.093140424448862\n",
      "0.267765625 0.543234375 0.92403125 0.992078125\n",
      "873.5075295676106 29.4657465922183 22.20341654026611\n",
      "0.26771875 0.541265625 0.9230625 0.9919375\n",
      "862.6898109068828 29.28098763118461 22.044730902090738\n",
      "0.26946875 0.5456875 0.924796875 0.99203125\n",
      "855.1875655330224 29.153082420569476 21.971875047091842\n",
      "0.27090625 0.54703125 0.925671875 0.992328125\n",
      "867.7130102530964 29.367042498143338 22.14054207725\n",
      "0.26453125 0.53290625 0.92440625 0.992140625\n",
      "856.1983618769957 29.1700072092674 22.001753231825134\n",
      "0.265375 0.535734375 0.925734375 0.99234375\n",
      "871.5986479607786 29.433621179299777 22.23166101159103\n",
      "0.262828125 0.530828125 0.92425 0.9920625\n",
      "859.3493517123586 29.22495550786928 22.074945537983563\n",
      "0.2654375 0.534078125 0.9258125 0.992328125\n",
      "843.9901272998651 28.960900189709204 21.86144287169461\n",
      "0.267734375 0.53890625 0.92734375 0.992671875\n",
      "859.077840679407 29.220221680199884 22.078561691685948\n",
      "0.264359375 0.533953125 0.9258125 0.992359375\n",
      "847.6872519375678 29.024918853467288 21.933210424443367\n",
      "0.266828125 0.53709375 0.927 0.992640625\n",
      "851.7806459480064 29.09561524157714 21.999889853767566\n",
      "0.265796875 0.5358125 0.927015625 0.992515625\n",
      "842.85049816787 28.941117590776095 21.87801888528998\n",
      "0.2674375 0.53815625 0.92765625 0.9926875\n",
      "851.1145732893915 29.083713353671712 21.99768335765436\n",
      "0.266875 0.53609375 0.92703125 0.992546875\n",
      "843.9239784517786 28.95996924833729 21.908459255220237\n",
      "0.2673125 0.537453125 0.927875 0.992734375\n",
      "843.0276914752379 28.944199781462714 21.901597128618914\n",
      "0.26771875 0.53759375 0.928046875 0.99284375\n",
      "838.0761871289983 28.858189880264337 21.81824688102509\n",
      "0.269578125 0.53959375 0.9281875 0.99278125\n",
      "844.5528501823211 28.969840839134378 21.911565157202293\n",
      "0.2678125 0.53778125 0.92778125 0.99275\n",
      "824.9392208952487 28.630152181764412 21.675561808706775\n",
      "0.27053125 0.541390625 0.930140625 0.99303125\n",
      "841.396749037002 28.915541567537836 21.887628472037463\n",
      "0.267953125 0.537734375 0.92828125 0.99290625\n",
      "826.3082394406133 28.653626081640137 21.685778170543887\n",
      "0.270328125 0.542109375 0.929703125 0.993125\n",
      "832.5734776325048 28.762627502445273 21.767687815064594\n",
      "0.26903125 0.5408125 0.929125 0.99296875\n",
      "845.8996942208352 28.99389936019328 21.97630041712099\n",
      "0.265875 0.53584375 0.92790625 0.992765625\n",
      "843.0237739176164 28.943901162727045 21.9207888415862\n",
      "0.267109375 0.53753125 0.92828125 0.992765625\n",
      "849.2237006145463 29.050896963734576 22.01812442764426\n",
      "0.265328125 0.535046875 0.9274375 0.992578125\n",
      "842.0668630931192 28.926955565196643 21.881490921285458\n",
      "0.267921875 0.538359375 0.928078125 0.992640625\n",
      "839.7711194278866 28.88750668110154 21.86992532016811\n",
      "0.26675 0.53796875 0.928390625 0.992734375\n"
     ],
     "output_type": "stream"
    }
   ],
   "source": [
    "epoch_losses = []\n",
    "epoch_test_acc10 = []\n",
    "epoch_test_acc20 = []\n",
    "epoch_test_acc50 = []\n",
    "epoch_test_acc100 = []\n",
    "for epoch in range(epochs):\n",
    "    loss = train(model, device, train_dataloader, optimizer, epoch, log_interval)\n",
    "    epoch_losses.append(loss)\n",
    "    mse_losses, rmse_losses, mae_losses, acc10, acc20, acc50, acc100 = test(model, device, validation_dataloader)\n",
    "    epoch_test_acc10.append(acc10)\n",
    "    epoch_test_acc20.append(acc20)\n",
    "    epoch_test_acc50.append(acc50)\n",
    "    epoch_test_acc100.append(acc100)\n",
    "    if epoch + 1 == 20:\n",
    "        torch.save(model.state_dict(), \"mlp_epoch_{}.pt\".format(epoch+1))\n",
    "torch.save(model.state_dict(), \"mlp_epoch_{}.pt\".format(epoch+1))"
   ],
   "metadata": {
    "collapsed": false,
    "pycharm": {
     "name": "#%%\n",
     "is_executing": false
    }
   }
  },
  {
   "cell_type": "code",
   "execution_count": 10,
   "outputs": [
    {
     "data": {
      "text/plain": "[<matplotlib.lines.Line2D at 0x24959f9e488>]"
     },
     "metadata": {},
     "output_type": "execute_result",
     "execution_count": 10
    },
    {
     "data": {
      "text/plain": "<Figure size 432x288 with 1 Axes>",
      "image/png": "[encoded data removed]"
     },
     "metadata": {
      "needs_background": "light"
     },
     "output_type": "display_data"
    }
   ],
   "source": [
    "import matplotlib.pyplot as plt\n",
    "A = np.array(epoch_losses)\n",
    "plt.plot(A.flatten())"
   ],
   "metadata": {
    "collapsed": false,
    "pycharm": {
     "name": "#%%\n",
     "is_executing": false
    }
   }
  },
  {
   "cell_type": "code",
   "execution_count": 11,
   "outputs": [
    {
     "data": {
      "text/plain": "<Figure size 432x288 with 1 Axes>",
      "image/png": "[encoded data removed]"
     },
     "metadata": {
      "needs_background": "light"
     },
     "output_type": "display_data"
    }
   ],
   "source": [
    "B = np.array(epoch_test_acc100)\n",
    "C = np.array(epoch_test_acc50)\n",
    "D = np.array(epoch_test_acc20)\n",
    "E = np.array(epoch_test_acc10)\n",
    "x = range(1,81)\n",
    "plt.plot(x, B.flatten(), label = \"+-100\")\n",
    "plt.plot(x, C.flatten(), label = \"+-50\")\n",
    "plt.plot(x, D.flatten(), label = \"+-20\")\n",
    "plt.plot(x, E.flatten(), label = \"+-10\")\n",
    "plt.xlabel('epochs')\n",
    "plt.ylabel('accurarcy')\n",
    "plt.legend(bbox_to_anchor=(0.7, 0.7))\n",
    "plt.show()"
   ],
   "metadata": {
    "collapsed": false,
    "pycharm": {
     "name": "#%%\n",
     "is_executing": false
    }
   }
  },
  {
   "cell_type": "code",
   "execution_count": 13,
   "outputs": [
    {
     "name": "stdout",
     "text": [
      "999.8800191035142 31.489019422704626 20.636495493957252\n",
      "0.42946875 0.654546875 0.902765625 0.984359375\n"
     ],
     "output_type": "stream"
    }
   ],
   "source": [
    "model.load_state_dict(torch.load(\"mlp_epoch_20.pt\"))\n",
    "model.to(device)\n",
    "test_dataset = MLPDataset(df_test)\n",
    "test_dataloader = tud.DataLoader(validation_set, batch_size=batch_size)\n",
    "mse_losses, rmse_losses, mae_losses, acc10, acc20, acc50, acc100 = test(model, device, test_dataloader)"
   ],
   "metadata": {
    "collapsed": false,
    "pycharm": {
     "name": "#%%\n",
     "is_executing": false
    }
   }
  }
 ],
 "metadata": {
  "kernelspec": {
   "display_name": "Python 3",
   "language": "python",
   "name": "python3"
  },
  "language_info": {
   "codemirror_mode": {
    "name": "ipython",
    "version": 2
   },
   "file_extension": ".py",
   "mimetype": "text/x-python",
   "name": "python",
   "nbconvert_exporter": "python",
   "pygments_lexer": "ipython2",
   "version": "2.7.6"
  },
  "pycharm": {
   "stem_cell": {
    "cell_type": "raw",
    "source": [],
    "metadata": {
     "collapsed": false
    }
   }
  }
 },
 "nbformat": 4,
 "nbformat_minor": 0
}