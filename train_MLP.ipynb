{
 "cells": [
  {
   "cell_type": "code",
   "execution_count": 1,
   "metadata": {
    "collapsed": true,
    "pycharm": {
     "is_executing": false
    }
   },
   "outputs": [
    {
     "name": "stdout",
     "text": [
      "Loaded  data\\PRSA_Data_Aotizhongxin_20130301-20170228.csv\n",
      "Loaded  data\\PRSA_Data_Changping_20130301-20170228.csv\n",
      "Loaded  data\\PRSA_Data_Dingling_20130301-20170228.csv\n",
      "Loaded  data\\PRSA_Data_Dongsi_20130301-20170228.csv\n",
      "Loaded  data\\PRSA_Data_Guanyuan_20130301-20170228.csv\n",
      "Loaded  data\\PRSA_Data_Gucheng_20130301-20170228.csv\n",
      "Loaded  data\\PRSA_Data_Huairou_20130301-20170228.csv\n",
      "Loaded  data\\PRSA_Data_Nongzhanguan_20130301-20170228.csv\n",
      "Loaded  data\\PRSA_Data_Shunyi_20130301-20170228.csv\n",
      "Loaded  data\\PRSA_Data_Tiantan_20130301-20170228.csv\n",
      "Loaded  data\\PRSA_Data_Wanliu_20130301-20170228.csv\n",
      "Loaded  data\\PRSA_Data_Wanshouxigong_20130301-20170228.csv\n",
      "Applied normalization on  ['PM10', 'SO2', 'NO2', 'CO', 'O3', 'TEMP', 'PRES', 'DEWP', 'RAIN', 'WSPM']\n",
      "35064 rows per station, total 382168 rows\n"
     ],
     "output_type": "stream"
    },
    {
     "data": {
      "text/plain": "Index(['PM2.5', 'PM10', 'SO2', 'NO2', 'CO', 'O3', 'TEMP', 'PRES', 'DEWP',\n       'RAIN', 'WSPM', 'WD_E', 'WD_ENE', 'WD_ESE', 'WD_N', 'WD_NE', 'WD_NNE',\n       'WD_NNW', 'WD_NW', 'WD_S', 'WD_SE', 'WD_SSE', 'WD_SSW', 'WD_SW', 'WD_W',\n       'WD_WNW', 'WD_WSW'],\n      dtype='object')"
     },
     "metadata": {},
     "output_type": "execute_result",
     "execution_count": 1
    }
   ],
   "source": [
    "#data preparation\n",
    "from utils import read_data\n",
    "\n",
    "count_per_station, df_all = read_data(True)\n",
    "df_all = df_all.drop(columns=[\"time_stamp\",\"station\"])\n",
    "df_all.columns"
   ]
  },
  {
   "cell_type": "code",
   "execution_count": 2,
   "outputs": [],
   "source": [
    "import torch\n",
    "import torch.nn as nn\n",
    "import torch.nn.functional as F\n",
    "import torch.optim as optim\n",
    "import torch.utils.data as tud\n",
    "import numpy as np\n",
    "\n",
    "class MLPDataset(tud.Dataset):\n",
    "    def __init__(self, data):\n",
    "        self.y = data[\"PM2.5\"].values\n",
    "        self.x = data[data.columns[1:]].values\n",
    "        \n",
    "    def __len__(self):\n",
    "        return len(self.x)\n",
    "    \n",
    "    def __getitem__(self, idx):\n",
    "        return self.y[idx], self.x[idx]\n",
    "    "
   ],
   "metadata": {
    "collapsed": false,
    "pycharm": {
     "name": "#%%\n",
     "is_executing": false
    }
   }
  },
  {
   "cell_type": "code",
   "execution_count": 3,
   "outputs": [],
   "source": [
    "model = nn.Sequential(\n",
    "    nn.Linear(26,10),\n",
    "    nn.ReLU(),\n",
    "    nn.Linear(10, 3),\n",
    "    nn.ReLU(),\n",
    "    nn.Dropout(0.1),\n",
    "    nn.Linear(3, 1)\n",
    ")\n"
   ],
   "metadata": {
    "collapsed": false,
    "pycharm": {
     "name": "#%%\n",
     "is_executing": false
    }
   }
  },
  {
   "cell_type": "code",
   "execution_count": 4,
   "outputs": [],
   "source": [
    "device = \"cuda\" if torch.cuda.is_available() else \"cpu\"\n",
    "learning_rate = 1e-3\n",
    "batch_size = 300\n",
    "epochs = 80\n",
    "test_interval = 5\n",
    "log_interval = 1000\n",
    "\n",
    "model = model.to(device).double()\n",
    "optimizer = optim.Adam(model.parameters(), lr=learning_rate)\n",
    "mlpDataset = MLPDataset(df_all)\n",
    "train_set, test_set = torch.utils.data.random_split(mlpDataset, [len(mlpDataset) - 7000, 7000])\n",
    "train_dataloader = tud.DataLoader(train_set, batch_size=batch_size, shuffle=True)\n",
    "test_dataloader = tud.DataLoader(test_set, batch_size=batch_size)"
   ],
   "metadata": {
    "collapsed": false,
    "pycharm": {
     "name": "#%%\n",
     "is_executing": false
    }
   }
  },
  {
   "cell_type": "code",
   "execution_count": 5,
   "outputs": [],
   "source": [
    "def train(model, device, train_loader, optimizer, epoch, log_interval):\n",
    "    model.train()\n",
    "    \n",
    "    losses = []\n",
    "    for batch_idx, (y ,x) in enumerate(train_loader):\n",
    "        y = y.to(device).double()\n",
    "        x = x.to(device)\n",
    "        \n",
    "        optimizer.zero_grad()\n",
    "        output = model(x)\n",
    "        \n",
    "        loss = F.mse_loss(output, y.view(-1,1))\n",
    "        losses.append(loss.item())\n",
    "        \n",
    "        loss.backward()\n",
    "        optimizer.step()\n",
    "        \n",
    "        if (batch_idx + 1) % log_interval == 0:\n",
    "            print('Train Epoch: {} [{}/{} ({:.0f}%)]\\tLoss: {:.6f}'.format(\n",
    "                epoch + 1, (batch_idx + 1) * batch_size, len(train_loader.dataset),\n",
    "                100. * (batch_idx + 1) / len(train_loader), loss.item()))\n",
    "    return losses"
   ],
   "metadata": {
    "collapsed": false,
    "pycharm": {
     "name": "#%%\n",
     "is_executing": false
    }
   }
  },
  {
   "cell_type": "code",
   "execution_count": 7,
   "outputs": [],
   "source": [
    "def test(model, device, test_loader):\n",
    "    model.eval()\n",
    "    losses = []\n",
    "    accuracy10 = []\n",
    "    accuracy15 = []\n",
    "    accuracy20 = []\n",
    "    for batch_idx, (y ,x) in enumerate(test_loader):\n",
    "        y = y.to(device).double().view(-1,1)\n",
    "        x = x.to(device)\n",
    "        \n",
    "        with torch.no_grad():\n",
    "            output = model(x)\n",
    "            loss = F.mse_loss(output, y)\n",
    "            losses.append(loss.item())\n",
    "            diff = output - y\n",
    "            accuracy10.append(len(diff[abs(diff)<=10]))\n",
    "            accuracy15.append(len(diff[abs(diff)<=15]))\n",
    "            accuracy20.append(len(diff[abs(diff)<=20]))\n",
    "    \n",
    "    data_size = len(test_loader.dataset)\n",
    "    print(float(sum(losses))/len(losses), float(sum(accuracy10))/data_size, float(sum(accuracy15))/data_size,\n",
    "          float(sum(accuracy20))/data_size)\n",
    "    return float(sum(losses))/len(losses), float(sum(accuracy10))/data_size, \\\n",
    "           float(sum(accuracy15))/data_size, float(sum(accuracy20))/data_size\n",
    "        \n",
    "            \n",
    "    "
   ],
   "metadata": {
    "collapsed": false,
    "pycharm": {
     "name": "#%%\n",
     "is_executing": false
    }
   }
  },
  {
   "cell_type": "code",
   "execution_count": 8,
   "outputs": [
    {
     "name": "stdout",
     "text": [
      "Train Epoch: 1 [300000/375168 (80%)]\tLoss: 4950.699970\n",
      "4573.382949150009 0.11942857142857143 0.18871428571428572 0.25785714285714284\n",
      "Train Epoch: 2 [300000/375168 (80%)]\tLoss: 2076.023764\n",
      "1938.9909350821165 0.31657142857142856 0.44557142857142856 0.5511428571428572\n",
      "Train Epoch: 3 [300000/375168 (80%)]\tLoss: 2836.355149\n",
      "1342.5761601737704 0.39985714285714286 0.5281428571428571 0.6235714285714286\n",
      "Train Epoch: 4 [300000/375168 (80%)]\tLoss: 2497.486907\n",
      "1136.7523093654863 0.41728571428571426 0.55 0.6447142857142857\n",
      "Train Epoch: 5 [300000/375168 (80%)]\tLoss: 1333.157026\n",
      "1041.6417668129432 0.43457142857142855 0.562 0.6561428571428571\n",
      "Train Epoch: 6 [300000/375168 (80%)]\tLoss: 1660.020374\n",
      "983.784022439766 0.4422857142857143 0.5717142857142857 0.664\n",
      "Train Epoch: 7 [300000/375168 (80%)]\tLoss: 2881.027765\n",
      "959.53636938783 0.44757142857142856 0.573 0.6671428571428571\n",
      "Train Epoch: 8 [300000/375168 (80%)]\tLoss: 1461.233992\n",
      "941.4645105099929 0.449 0.5774285714285714 0.669\n",
      "Train Epoch: 9 [300000/375168 (80%)]\tLoss: 1859.971288\n",
      "939.3835079637133 0.4565714285714286 0.5791428571428572 0.6698571428571428\n",
      "Train Epoch: 10 [300000/375168 (80%)]\tLoss: 1598.946678\n",
      "927.3194903918517 0.45814285714285713 0.5812857142857143 0.6684285714285715\n",
      "Train Epoch: 11 [300000/375168 (80%)]\tLoss: 1335.950876\n",
      "943.3897705593185 0.4624285714285714 0.582 0.668\n",
      "Train Epoch: 12 [300000/375168 (80%)]\tLoss: 2448.243795\n",
      "922.5730805536892 0.4654285714285714 0.5835714285714285 0.6718571428571428\n",
      "Train Epoch: 13 [300000/375168 (80%)]\tLoss: 1290.077319\n",
      "920.8369296013543 0.4642857142857143 0.5888571428571429 0.6741428571428572\n",
      "Train Epoch: 14 [300000/375168 (80%)]\tLoss: 1642.786644\n",
      "896.1106574188492 0.4482857142857143 0.59 0.6782857142857143\n",
      "Train Epoch: 15 [300000/375168 (80%)]\tLoss: 1644.302658\n",
      "889.2781139959546 0.459 0.5901428571428572 0.6785714285714286\n",
      "Train Epoch: 16 [300000/375168 (80%)]\tLoss: 1789.365119\n",
      "887.483065757699 0.463 0.5891428571428572 0.6781428571428572\n",
      "Train Epoch: 17 [300000/375168 (80%)]\tLoss: 1449.434870\n",
      "887.3367645101939 0.4662857142857143 0.5898571428571429 0.6762857142857143\n",
      "Train Epoch: 18 [300000/375168 (80%)]\tLoss: 1007.655014\n",
      "878.7698929264465 0.4655714285714286 0.5904285714285714 0.6801428571428572\n",
      "Train Epoch: 19 [300000/375168 (80%)]\tLoss: 804.225825\n",
      "851.0417053797115 0.46185714285714285 0.596 0.6862857142857143\n",
      "Train Epoch: 20 [300000/375168 (80%)]\tLoss: 1262.859916\n",
      "835.6066316049895 0.46285714285714286 0.6 0.6912857142857143\n",
      "Train Epoch: 21 [300000/375168 (80%)]\tLoss: 1267.099112\n",
      "846.7525060327454 0.461 0.597 0.6825714285714286\n",
      "Train Epoch: 22 [300000/375168 (80%)]\tLoss: 1791.817807\n",
      "817.1425132397726 0.46214285714285713 0.6038571428571429 0.6915714285714286\n",
      "Train Epoch: 23 [300000/375168 (80%)]\tLoss: 1180.869636\n",
      "816.9149490788005 0.46085714285714285 0.6005714285714285 0.689\n",
      "Train Epoch: 24 [300000/375168 (80%)]\tLoss: 2091.577520\n",
      "792.2345432355805 0.46885714285714286 0.6057142857142858 0.695\n",
      "Train Epoch: 25 [300000/375168 (80%)]\tLoss: 2566.412267\n",
      "766.1812190316062 0.46085714285714285 0.607 0.701\n",
      "Train Epoch: 26 [300000/375168 (80%)]\tLoss: 1468.880486\n",
      "764.7097998099217 0.45685714285714285 0.6045714285714285 0.7014285714285714\n",
      "Train Epoch: 27 [300000/375168 (80%)]\tLoss: 1487.246566\n",
      "762.9999088926901 0.46485714285714286 0.6071428571428571 0.6994285714285714\n",
      "Train Epoch: 28 [300000/375168 (80%)]\tLoss: 2438.634073\n",
      "769.1940243989244 0.46085714285714285 0.606 0.6964285714285714\n",
      "Train Epoch: 29 [300000/375168 (80%)]\tLoss: 2594.848934\n",
      "751.1598541202106 0.4637142857142857 0.6071428571428571 0.6998571428571428\n",
      "Train Epoch: 30 [300000/375168 (80%)]\tLoss: 1242.416855\n",
      "752.7055117770374 0.45971428571428574 0.6067142857142858 0.701\n",
      "Train Epoch: 31 [300000/375168 (80%)]\tLoss: 785.086299\n",
      "752.7332542009618 0.4647142857142857 0.6074285714285714 0.7001428571428572\n",
      "Train Epoch: 32 [300000/375168 (80%)]\tLoss: 1108.735406\n",
      "742.2307819883782 0.4562857142857143 0.6081428571428571 0.7047142857142857\n",
      "Train Epoch: 33 [300000/375168 (80%)]\tLoss: 2328.422393\n",
      "735.1918832973115 0.457 0.6081428571428571 0.7057142857142857\n",
      "Train Epoch: 34 [300000/375168 (80%)]\tLoss: 2497.045780\n",
      "729.1221913040473 0.4664285714285714 0.6115714285714285 0.7061428571428572\n",
      "Train Epoch: 35 [300000/375168 (80%)]\tLoss: 932.480789\n",
      "731.0922681201822 0.4637142857142857 0.613 0.7047142857142857\n",
      "Train Epoch: 36 [300000/375168 (80%)]\tLoss: 1235.437258\n",
      "729.3358610383506 0.4644285714285714 0.6112857142857143 0.7052857142857143\n",
      "Train Epoch: 37 [300000/375168 (80%)]\tLoss: 1349.514816\n",
      "717.3078819279826 0.458 0.61 0.7101428571428572\n",
      "Train Epoch: 38 [300000/375168 (80%)]\tLoss: 1913.322498\n",
      "705.5136733856758 0.46185714285714285 0.6151428571428571 0.715\n",
      "Train Epoch: 39 [300000/375168 (80%)]\tLoss: 1567.783143\n",
      "721.4045369279992 0.457 0.6087142857142858 0.7084285714285714\n",
      "Train Epoch: 40 [300000/375168 (80%)]\tLoss: 1177.990330\n",
      "727.7018252054457 0.44971428571428573 0.6035714285714285 0.7085714285714285\n",
      "Train Epoch: 41 [300000/375168 (80%)]\tLoss: 1007.747309\n",
      "699.6654347514142 0.4522857142857143 0.6097142857142858 0.7157142857142857\n",
      "Train Epoch: 42 [300000/375168 (80%)]\tLoss: 1006.971856\n",
      "705.0549705056333 0.45571428571428574 0.6101428571428571 0.7125714285714285\n",
      "Train Epoch: 43 [300000/375168 (80%)]\tLoss: 1447.514266\n",
      "718.6392374252549 0.457 0.6081428571428571 0.7072857142857143\n",
      "Train Epoch: 44 [300000/375168 (80%)]\tLoss: 708.678267\n",
      "698.4409931863697 0.4481428571428571 0.607 0.7144285714285714\n",
      "Train Epoch: 45 [300000/375168 (80%)]\tLoss: 1032.007131\n",
      "692.8192412373106 0.4607142857142857 0.6154285714285714 0.7175714285714285\n",
      "Train Epoch: 46 [300000/375168 (80%)]\tLoss: 1258.781092\n",
      "689.9237479614379 0.44757142857142856 0.6097142857142858 0.7175714285714285\n",
      "Train Epoch: 47 [300000/375168 (80%)]\tLoss: 988.710481\n",
      "703.7352725899538 0.44542857142857145 0.6072857142857143 0.715\n",
      "Train Epoch: 48 [300000/375168 (80%)]\tLoss: 1733.649166\n",
      "695.4135378548523 0.4522857142857143 0.6117142857142858 0.7154285714285714\n",
      "Train Epoch: 49 [300000/375168 (80%)]\tLoss: 823.801939\n",
      "687.9385234685795 0.44385714285714284 0.6084285714285714 0.7161428571428572\n",
      "Train Epoch: 50 [300000/375168 (80%)]\tLoss: 1514.336466\n",
      "693.6239666131161 0.4542857142857143 0.6108571428571429 0.7131428571428572\n",
      "Train Epoch: 51 [300000/375168 (80%)]\tLoss: 1966.741744\n",
      "686.6427681423758 0.446 0.6068571428571429 0.7172857142857143\n",
      "Train Epoch: 52 [300000/375168 (80%)]\tLoss: 1102.457937\n",
      "685.1741495356706 0.44042857142857145 0.6052857142857143 0.7115714285714285\n",
      "Train Epoch: 53 [300000/375168 (80%)]\tLoss: 1207.535441\n",
      "680.7671539802303 0.44242857142857145 0.6075714285714285 0.7145714285714285\n",
      "Train Epoch: 54 [300000/375168 (80%)]\tLoss: 1078.573500\n",
      "681.6461496049689 0.4422857142857143 0.6085714285714285 0.7147142857142857\n",
      "Train Epoch: 55 [300000/375168 (80%)]\tLoss: 1458.117026\n",
      "680.2166488332415 0.44557142857142856 0.6092857142857143 0.7135714285714285\n",
      "Train Epoch: 56 [300000/375168 (80%)]\tLoss: 1238.404993\n",
      "676.6594764764804 0.43614285714285717 0.6017142857142858 0.7144285714285714\n",
      "Train Epoch: 57 [300000/375168 (80%)]\tLoss: 1353.499367\n",
      "675.5377445897512 0.4382857142857143 0.6038571428571429 0.7138571428571429\n",
      "Train Epoch: 58 [300000/375168 (80%)]\tLoss: 1377.548767\n",
      "670.7529742108449 0.4492857142857143 0.6128571428571429 0.7157142857142857\n",
      "Train Epoch: 59 [300000/375168 (80%)]\tLoss: 1139.098396\n",
      "665.7940059194475 0.4472857142857143 0.6081428571428571 0.7178571428571429\n",
      "Train Epoch: 60 [300000/375168 (80%)]\tLoss: 1380.625581\n",
      "666.8600191666192 0.44957142857142857 0.6155714285714285 0.717\n",
      "Train Epoch: 61 [300000/375168 (80%)]\tLoss: 1260.036804\n",
      "658.7143239532928 0.44785714285714284 0.6111428571428571 0.7214285714285714\n",
      "Train Epoch: 62 [300000/375168 (80%)]\tLoss: 869.180939\n",
      "675.3742587438525 0.4397142857142857 0.6085714285714285 0.7157142857142857\n",
      "Train Epoch: 63 [300000/375168 (80%)]\tLoss: 915.592996\n",
      "665.0852513106591 0.4328571428571429 0.6021428571428571 0.7174285714285714\n",
      "Train Epoch: 64 [300000/375168 (80%)]\tLoss: 793.777556\n",
      "672.5991157558162 0.43057142857142855 0.603 0.7128571428571429\n",
      "Train Epoch: 65 [300000/375168 (80%)]\tLoss: 1209.968373\n",
      "676.2607893082024 0.428 0.6004285714285714 0.7145714285714285\n",
      "Train Epoch: 66 [300000/375168 (80%)]\tLoss: 1879.632187\n",
      "676.4653265620383 0.4164285714285714 0.5931428571428572 0.7118571428571429\n",
      "Train Epoch: 67 [300000/375168 (80%)]\tLoss: 1218.568824\n",
      "669.6750888564455 0.43614285714285717 0.6047142857142858 0.7127142857142857\n",
      "Train Epoch: 68 [300000/375168 (80%)]\tLoss: 1654.038237\n",
      "673.7270324560822 0.43842857142857145 0.6075714285714285 0.7137142857142857\n",
      "Train Epoch: 69 [300000/375168 (80%)]\tLoss: 1374.164710\n",
      "667.452662247657 0.44042857142857145 0.6084285714285714 0.7152857142857143\n",
      "Train Epoch: 70 [300000/375168 (80%)]\tLoss: 1822.860124\n",
      "662.930717339059 0.43585714285714283 0.607 0.7184285714285714\n",
      "Train Epoch: 71 [300000/375168 (80%)]\tLoss: 1546.746081\n",
      "657.1647937398076 0.43457142857142855 0.6024285714285714 0.7195714285714285\n",
      "Train Epoch: 72 [300000/375168 (80%)]\tLoss: 856.328732\n",
      "658.1328847070246 0.437 0.604 0.718\n",
      "Train Epoch: 73 [300000/375168 (80%)]\tLoss: 2090.595706\n",
      "668.4448686807024 0.4298571428571429 0.5988571428571429 0.7125714285714285\n",
      "Train Epoch: 74 [300000/375168 (80%)]\tLoss: 955.029504\n",
      "663.8628133272862 0.423 0.5964285714285714 0.7128571428571429\n",
      "Train Epoch: 75 [300000/375168 (80%)]\tLoss: 1387.019161\n",
      "672.5358433857191 0.42928571428571427 0.5991428571428571 0.711\n",
      "Train Epoch: 76 [300000/375168 (80%)]\tLoss: 1004.244364\n",
      "659.8886121737729 0.42814285714285716 0.5995714285714285 0.7148571428571429\n",
      "Train Epoch: 77 [300000/375168 (80%)]\tLoss: 808.129657\n",
      "671.2668222386703 0.43257142857142855 0.6037142857142858 0.7115714285714285\n",
      "Train Epoch: 78 [300000/375168 (80%)]\tLoss: 1234.574266\n",
      "656.6137859065784 0.4352857142857143 0.602 0.7177142857142857\n",
      "Train Epoch: 79 [300000/375168 (80%)]\tLoss: 1310.957250\n",
      "665.0671080613635 0.4235714285714286 0.5947142857142858 0.7101428571428572\n",
      "Train Epoch: 80 [300000/375168 (80%)]\tLoss: 911.746214\n",
      "654.4915860062135 0.42428571428571427 0.594 0.7175714285714285\n"
     ],
     "output_type": "stream"
    }
   ],
   "source": [
    "epoch_losses = []\n",
    "epoch_test_losses = []\n",
    "epoch_test_acc10 = []\n",
    "epoch_test_acc15 = []\n",
    "epoch_test_acc20 = []\n",
    "for epoch in range(epochs):\n",
    "    loss = train(model, device, train_dataloader, optimizer, epoch, log_interval)\n",
    "    epoch_losses.append(loss)\n",
    "    test_losses, acc10, acc15, acc20 = test(model, device, test_dataloader)\n",
    "    epoch_test_losses.append(test_losses)\n",
    "    epoch_test_acc10.append(acc10)\n",
    "    epoch_test_acc15.append(acc15)\n",
    "    epoch_test_acc20.append(acc20)"
   ],
   "metadata": {
    "collapsed": false,
    "pycharm": {
     "name": "#%%\n",
     "is_executing": false
    }
   }
  },
  {
   "cell_type": "code",
   "execution_count": 10,
   "outputs": [
    {
     "data": {
      "text/plain": "<Figure size 432x288 with 1 Axes>",
      "image/png": "[encoded data removed]"
     },
     "metadata": {
      "needs_background": "light"
     },
     "output_type": "display_data"
    }
   ],
   "source": [
    "import matplotlib.pyplot as plt\n",
    "A = np.array(epoch_losses)\n",
    "B = np.array(epoch_test_acc20)\n",
    "C = np.array(epoch_test_acc15)\n",
    "D = np.array(epoch_test_acc10)\n",
    "x = range(1,81)\n",
    "plt.plot(x, B.flatten(), label = \"+-20\")\n",
    "plt.plot(x, C.flatten(), label = \"+-15\")\n",
    "plt.plot(x, D.flatten(), label = \"+-10\")\n",
    "plt.xlabel('epochs')\n",
    "plt.ylabel('accurarcy')\n",
    "plt.legend(bbox_to_anchor=(0.7, 0.7))\n",
    "plt.show()"
   ],
   "metadata": {
    "collapsed": false,
    "pycharm": {
     "name": "#%%\n",
     "is_executing": false
    }
   }
  }
 ],
 "metadata": {
  "kernelspec": {
   "display_name": "Python 3",
   "language": "python",
   "name": "python3"
  },
  "language_info": {
   "codemirror_mode": {
    "name": "ipython",
    "version": 2
   },
   "file_extension": ".py",
   "mimetype": "text/x-python",
   "name": "python",
   "nbconvert_exporter": "python",
   "pygments_lexer": "ipython2",
   "version": "2.7.6"
  },
  "pycharm": {
   "stem_cell": {
    "cell_type": "raw",
    "source": [],
    "metadata": {
     "collapsed": false
    }
   }
  }
 },
 "nbformat": 4,
 "nbformat_minor": 0
}